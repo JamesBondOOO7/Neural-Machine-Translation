{
 "cells": [
  {
   "cell_type": "markdown",
   "id": "ecd6913b",
   "metadata": {
    "_cell_guid": "b1076dfc-b9ad-4769-8c92-a6c4dae69d19",
    "_uuid": "8f2839f25d086af736a60e9eeb907d3b93b6e0e5",
    "papermill": {
     "duration": 0.03067,
     "end_time": "2021-11-09T20:51:32.984944",
     "exception": false,
     "start_time": "2021-11-09T20:51:32.954274",
     "status": "completed"
    },
    "tags": []
   },
   "source": [
    "## 5 Convolutional Sequence to Sequence Learning"
   ]
  },
  {
   "cell_type": "code",
   "execution_count": 1,
   "id": "82480f29",
   "metadata": {
    "execution": {
     "iopub.execute_input": "2021-11-09T20:51:33.055044Z",
     "iopub.status.busy": "2021-11-09T20:51:33.054267Z",
     "iopub.status.idle": "2021-11-09T20:51:42.969511Z",
     "shell.execute_reply": "2021-11-09T20:51:42.968533Z",
     "shell.execute_reply.started": "2021-11-09T20:51:16.799405Z"
    },
    "papermill": {
     "duration": 9.955317,
     "end_time": "2021-11-09T20:51:42.969772",
     "exception": false,
     "start_time": "2021-11-09T20:51:33.014455",
     "status": "completed"
    },
    "tags": []
   },
   "outputs": [],
   "source": [
    "import torch\n",
    "import torch.nn as nn\n",
    "import torch.optim as optim\n",
    "import torch.nn.functional as F\n",
    "\n",
    "from torchtext.legacy.datasets import Multi30k\n",
    "from torchtext.legacy.data import Field, BucketIterator\n",
    "\n",
    "import matplotlib.pyplot as plt\n",
    "import matplotlib.ticker as ticker\n",
    "\n",
    "import spacy\n",
    "import numpy as np\n",
    "\n",
    "import random\n",
    "import math\n",
    "import time\n",
    "\n",
    "import warnings\n",
    "warnings.simplefilter('ignore')"
   ]
  },
  {
   "cell_type": "code",
   "execution_count": 2,
   "id": "81b23123",
   "metadata": {
    "execution": {
     "iopub.execute_input": "2021-11-09T20:51:43.034887Z",
     "iopub.status.busy": "2021-11-09T20:51:43.034296Z",
     "iopub.status.idle": "2021-11-09T20:51:43.039211Z",
     "shell.execute_reply": "2021-11-09T20:51:43.038736Z",
     "shell.execute_reply.started": "2021-11-09T20:26:20.613386Z"
    },
    "papermill": {
     "duration": 0.040272,
     "end_time": "2021-11-09T20:51:43.039321",
     "exception": false,
     "start_time": "2021-11-09T20:51:42.999049",
     "status": "completed"
    },
    "tags": []
   },
   "outputs": [],
   "source": [
    "SEED = 1234\n",
    "\n",
    "random.seed(SEED)\n",
    "np.random.seed(SEED)\n",
    "torch.manual_seed(SEED)\n",
    "torch.cuda.manual_seed(SEED)\n",
    "torch.backends.cudnn.deterministic = True"
   ]
  },
  {
   "cell_type": "code",
   "execution_count": 3,
   "id": "9da0c928",
   "metadata": {
    "execution": {
     "iopub.execute_input": "2021-11-09T20:51:43.102141Z",
     "iopub.status.busy": "2021-11-09T20:51:43.101351Z",
     "iopub.status.idle": "2021-11-09T20:52:00.475428Z",
     "shell.execute_reply": "2021-11-09T20:52:00.475898Z",
     "shell.execute_reply.started": "2021-11-09T20:26:20.622710Z"
    },
    "papermill": {
     "duration": 17.407969,
     "end_time": "2021-11-09T20:52:00.476063",
     "exception": false,
     "start_time": "2021-11-09T20:51:43.068094",
     "status": "completed"
    },
    "tags": []
   },
   "outputs": [
    {
     "name": "stdout",
     "output_type": "stream",
     "text": [
      "Collecting en-core-web-sm==3.1.0\n",
      "  Downloading https://github.com/explosion/spacy-models/releases/download/en_core_web_sm-3.1.0/en_core_web_sm-3.1.0-py3-none-any.whl (13.6 MB)\n",
      "Requirement already satisfied: spacy<3.2.0,>=3.1.0 in /opt/conda/lib/python3.7/site-packages (from en-core-web-sm==3.1.0) (3.1.3)\n",
      "Requirement already satisfied: typer<0.5.0,>=0.3.0 in /opt/conda/lib/python3.7/site-packages (from spacy<3.2.0,>=3.1.0->en-core-web-sm==3.1.0) (0.4.0)\n",
      "Requirement already satisfied: typing-extensions<4.0.0.0,>=3.7.4 in /opt/conda/lib/python3.7/site-packages (from spacy<3.2.0,>=3.1.0->en-core-web-sm==3.1.0) (3.10.0.2)\n",
      "Requirement already satisfied: requests<3.0.0,>=2.13.0 in /opt/conda/lib/python3.7/site-packages (from spacy<3.2.0,>=3.1.0->en-core-web-sm==3.1.0) (2.25.1)\n",
      "Requirement already satisfied: thinc<8.1.0,>=8.0.9 in /opt/conda/lib/python3.7/site-packages (from spacy<3.2.0,>=3.1.0->en-core-web-sm==3.1.0) (8.0.11)\n",
      "Requirement already satisfied: srsly<3.0.0,>=2.4.1 in /opt/conda/lib/python3.7/site-packages (from spacy<3.2.0,>=3.1.0->en-core-web-sm==3.1.0) (2.4.2)\n",
      "Requirement already satisfied: setuptools in /opt/conda/lib/python3.7/site-packages (from spacy<3.2.0,>=3.1.0->en-core-web-sm==3.1.0) (58.0.4)\n",
      "Requirement already satisfied: jinja2 in /opt/conda/lib/python3.7/site-packages (from spacy<3.2.0,>=3.1.0->en-core-web-sm==3.1.0) (3.0.2)\n",
      "Requirement already satisfied: pathy>=0.3.5 in /opt/conda/lib/python3.7/site-packages (from spacy<3.2.0,>=3.1.0->en-core-web-sm==3.1.0) (0.6.1)\n",
      "Requirement already satisfied: numpy>=1.15.0 in /opt/conda/lib/python3.7/site-packages (from spacy<3.2.0,>=3.1.0->en-core-web-sm==3.1.0) (1.19.5)\n",
      "Requirement already satisfied: catalogue<2.1.0,>=2.0.6 in /opt/conda/lib/python3.7/site-packages (from spacy<3.2.0,>=3.1.0->en-core-web-sm==3.1.0) (2.0.6)\n",
      "Requirement already satisfied: murmurhash<1.1.0,>=0.28.0 in /opt/conda/lib/python3.7/site-packages (from spacy<3.2.0,>=3.1.0->en-core-web-sm==3.1.0) (1.0.6)\n",
      "Requirement already satisfied: pydantic!=1.8,!=1.8.1,<1.9.0,>=1.7.4 in /opt/conda/lib/python3.7/site-packages (from spacy<3.2.0,>=3.1.0->en-core-web-sm==3.1.0) (1.8.2)\n",
      "Requirement already satisfied: tqdm<5.0.0,>=4.38.0 in /opt/conda/lib/python3.7/site-packages (from spacy<3.2.0,>=3.1.0->en-core-web-sm==3.1.0) (4.62.3)\n",
      "Requirement already satisfied: wasabi<1.1.0,>=0.8.1 in /opt/conda/lib/python3.7/site-packages (from spacy<3.2.0,>=3.1.0->en-core-web-sm==3.1.0) (0.8.2)\n",
      "Requirement already satisfied: blis<0.8.0,>=0.4.0 in /opt/conda/lib/python3.7/site-packages (from spacy<3.2.0,>=3.1.0->en-core-web-sm==3.1.0) (0.7.5)\n",
      "Requirement already satisfied: preshed<3.1.0,>=3.0.2 in /opt/conda/lib/python3.7/site-packages (from spacy<3.2.0,>=3.1.0->en-core-web-sm==3.1.0) (3.0.6)\n",
      "Requirement already satisfied: cymem<2.1.0,>=2.0.2 in /opt/conda/lib/python3.7/site-packages (from spacy<3.2.0,>=3.1.0->en-core-web-sm==3.1.0) (2.0.6)\n",
      "Requirement already satisfied: spacy-legacy<3.1.0,>=3.0.8 in /opt/conda/lib/python3.7/site-packages (from spacy<3.2.0,>=3.1.0->en-core-web-sm==3.1.0) (3.0.8)\n",
      "Requirement already satisfied: packaging>=20.0 in /opt/conda/lib/python3.7/site-packages (from spacy<3.2.0,>=3.1.0->en-core-web-sm==3.1.0) (21.0)\n",
      "Requirement already satisfied: zipp>=0.5 in /opt/conda/lib/python3.7/site-packages (from catalogue<2.1.0,>=2.0.6->spacy<3.2.0,>=3.1.0->en-core-web-sm==3.1.0) (3.5.0)\n",
      "Requirement already satisfied: pyparsing>=2.0.2 in /opt/conda/lib/python3.7/site-packages (from packaging>=20.0->spacy<3.2.0,>=3.1.0->en-core-web-sm==3.1.0) (2.4.7)\n",
      "Requirement already satisfied: smart-open<6.0.0,>=5.0.0 in /opt/conda/lib/python3.7/site-packages (from pathy>=0.3.5->spacy<3.2.0,>=3.1.0->en-core-web-sm==3.1.0) (5.2.1)\n",
      "Requirement already satisfied: certifi>=2017.4.17 in /opt/conda/lib/python3.7/site-packages (from requests<3.0.0,>=2.13.0->spacy<3.2.0,>=3.1.0->en-core-web-sm==3.1.0) (2021.10.8)\n",
      "Requirement already satisfied: urllib3<1.27,>=1.21.1 in /opt/conda/lib/python3.7/site-packages (from requests<3.0.0,>=2.13.0->spacy<3.2.0,>=3.1.0->en-core-web-sm==3.1.0) (1.26.6)\n",
      "Requirement already satisfied: chardet<5,>=3.0.2 in /opt/conda/lib/python3.7/site-packages (from requests<3.0.0,>=2.13.0->spacy<3.2.0,>=3.1.0->en-core-web-sm==3.1.0) (4.0.0)\n",
      "Requirement already satisfied: idna<3,>=2.5 in /opt/conda/lib/python3.7/site-packages (from requests<3.0.0,>=2.13.0->spacy<3.2.0,>=3.1.0->en-core-web-sm==3.1.0) (2.10)\n",
      "Requirement already satisfied: click<9.0.0,>=7.1.1 in /opt/conda/lib/python3.7/site-packages (from typer<0.5.0,>=0.3.0->spacy<3.2.0,>=3.1.0->en-core-web-sm==3.1.0) (8.0.1)\n",
      "Requirement already satisfied: importlib-metadata in /opt/conda/lib/python3.7/site-packages (from click<9.0.0,>=7.1.1->typer<0.5.0,>=0.3.0->spacy<3.2.0,>=3.1.0->en-core-web-sm==3.1.0) (4.8.1)\n",
      "Requirement already satisfied: MarkupSafe>=2.0 in /opt/conda/lib/python3.7/site-packages (from jinja2->spacy<3.2.0,>=3.1.0->en-core-web-sm==3.1.0) (2.0.1)\n"
     ]
    },
    {
     "name": "stderr",
     "output_type": "stream",
     "text": [
      "WARNING: Running pip as the 'root' user can result in broken permissions and conflicting behaviour with the system package manager. It is recommended to use a virtual environment instead: https://pip.pypa.io/warnings/venv\n"
     ]
    },
    {
     "name": "stdout",
     "output_type": "stream",
     "text": [
      "\u001b[38;5;2m✔ Download and installation successful\u001b[0m\n",
      "You can now load the package via spacy.load('en_core_web_sm')\n",
      "Collecting de-core-news-sm==3.1.0\n",
      "  Downloading https://github.com/explosion/spacy-models/releases/download/de_core_news_sm-3.1.0/de_core_news_sm-3.1.0-py3-none-any.whl (18.8 MB)\n",
      "Requirement already satisfied: spacy<3.2.0,>=3.1.0 in /opt/conda/lib/python3.7/site-packages (from de-core-news-sm==3.1.0) (3.1.3)\n",
      "Requirement already satisfied: packaging>=20.0 in /opt/conda/lib/python3.7/site-packages (from spacy<3.2.0,>=3.1.0->de-core-news-sm==3.1.0) (21.0)\n",
      "Requirement already satisfied: srsly<3.0.0,>=2.4.1 in /opt/conda/lib/python3.7/site-packages (from spacy<3.2.0,>=3.1.0->de-core-news-sm==3.1.0) (2.4.2)\n",
      "Requirement already satisfied: spacy-legacy<3.1.0,>=3.0.8 in /opt/conda/lib/python3.7/site-packages (from spacy<3.2.0,>=3.1.0->de-core-news-sm==3.1.0) (3.0.8)\n",
      "Requirement already satisfied: typer<0.5.0,>=0.3.0 in /opt/conda/lib/python3.7/site-packages (from spacy<3.2.0,>=3.1.0->de-core-news-sm==3.1.0) (0.4.0)\n",
      "Requirement already satisfied: cymem<2.1.0,>=2.0.2 in /opt/conda/lib/python3.7/site-packages (from spacy<3.2.0,>=3.1.0->de-core-news-sm==3.1.0) (2.0.6)\n",
      "Requirement already satisfied: wasabi<1.1.0,>=0.8.1 in /opt/conda/lib/python3.7/site-packages (from spacy<3.2.0,>=3.1.0->de-core-news-sm==3.1.0) (0.8.2)\n",
      "Requirement already satisfied: numpy>=1.15.0 in /opt/conda/lib/python3.7/site-packages (from spacy<3.2.0,>=3.1.0->de-core-news-sm==3.1.0) (1.19.5)\n",
      "Requirement already satisfied: jinja2 in /opt/conda/lib/python3.7/site-packages (from spacy<3.2.0,>=3.1.0->de-core-news-sm==3.1.0) (3.0.2)\n",
      "Requirement already satisfied: tqdm<5.0.0,>=4.38.0 in /opt/conda/lib/python3.7/site-packages (from spacy<3.2.0,>=3.1.0->de-core-news-sm==3.1.0) (4.62.3)\n",
      "Requirement already satisfied: pydantic!=1.8,!=1.8.1,<1.9.0,>=1.7.4 in /opt/conda/lib/python3.7/site-packages (from spacy<3.2.0,>=3.1.0->de-core-news-sm==3.1.0) (1.8.2)\n",
      "Requirement already satisfied: pathy>=0.3.5 in /opt/conda/lib/python3.7/site-packages (from spacy<3.2.0,>=3.1.0->de-core-news-sm==3.1.0) (0.6.1)\n",
      "Requirement already satisfied: preshed<3.1.0,>=3.0.2 in /opt/conda/lib/python3.7/site-packages (from spacy<3.2.0,>=3.1.0->de-core-news-sm==3.1.0) (3.0.6)\n",
      "Requirement already satisfied: murmurhash<1.1.0,>=0.28.0 in /opt/conda/lib/python3.7/site-packages (from spacy<3.2.0,>=3.1.0->de-core-news-sm==3.1.0) (1.0.6)\n",
      "Requirement already satisfied: blis<0.8.0,>=0.4.0 in /opt/conda/lib/python3.7/site-packages (from spacy<3.2.0,>=3.1.0->de-core-news-sm==3.1.0) (0.7.5)\n",
      "Requirement already satisfied: catalogue<2.1.0,>=2.0.6 in /opt/conda/lib/python3.7/site-packages (from spacy<3.2.0,>=3.1.0->de-core-news-sm==3.1.0) (2.0.6)\n",
      "Requirement already satisfied: thinc<8.1.0,>=8.0.9 in /opt/conda/lib/python3.7/site-packages (from spacy<3.2.0,>=3.1.0->de-core-news-sm==3.1.0) (8.0.11)\n",
      "Requirement already satisfied: setuptools in /opt/conda/lib/python3.7/site-packages (from spacy<3.2.0,>=3.1.0->de-core-news-sm==3.1.0) (58.0.4)\n",
      "Requirement already satisfied: requests<3.0.0,>=2.13.0 in /opt/conda/lib/python3.7/site-packages (from spacy<3.2.0,>=3.1.0->de-core-news-sm==3.1.0) (2.25.1)\n",
      "Requirement already satisfied: typing-extensions<4.0.0.0,>=3.7.4 in /opt/conda/lib/python3.7/site-packages (from spacy<3.2.0,>=3.1.0->de-core-news-sm==3.1.0) (3.10.0.2)\n",
      "Requirement already satisfied: zipp>=0.5 in /opt/conda/lib/python3.7/site-packages (from catalogue<2.1.0,>=2.0.6->spacy<3.2.0,>=3.1.0->de-core-news-sm==3.1.0) (3.5.0)\n",
      "Requirement already satisfied: pyparsing>=2.0.2 in /opt/conda/lib/python3.7/site-packages (from packaging>=20.0->spacy<3.2.0,>=3.1.0->de-core-news-sm==3.1.0) (2.4.7)\n",
      "Requirement already satisfied: smart-open<6.0.0,>=5.0.0 in /opt/conda/lib/python3.7/site-packages (from pathy>=0.3.5->spacy<3.2.0,>=3.1.0->de-core-news-sm==3.1.0) (5.2.1)\n",
      "Requirement already satisfied: idna<3,>=2.5 in /opt/conda/lib/python3.7/site-packages (from requests<3.0.0,>=2.13.0->spacy<3.2.0,>=3.1.0->de-core-news-sm==3.1.0) (2.10)\n",
      "Requirement already satisfied: chardet<5,>=3.0.2 in /opt/conda/lib/python3.7/site-packages (from requests<3.0.0,>=2.13.0->spacy<3.2.0,>=3.1.0->de-core-news-sm==3.1.0) (4.0.0)\n",
      "Requirement already satisfied: certifi>=2017.4.17 in /opt/conda/lib/python3.7/site-packages (from requests<3.0.0,>=2.13.0->spacy<3.2.0,>=3.1.0->de-core-news-sm==3.1.0) (2021.10.8)\n",
      "Requirement already satisfied: urllib3<1.27,>=1.21.1 in /opt/conda/lib/python3.7/site-packages (from requests<3.0.0,>=2.13.0->spacy<3.2.0,>=3.1.0->de-core-news-sm==3.1.0) (1.26.6)\n",
      "Requirement already satisfied: click<9.0.0,>=7.1.1 in /opt/conda/lib/python3.7/site-packages (from typer<0.5.0,>=0.3.0->spacy<3.2.0,>=3.1.0->de-core-news-sm==3.1.0) (8.0.1)\n",
      "Requirement already satisfied: importlib-metadata in /opt/conda/lib/python3.7/site-packages (from click<9.0.0,>=7.1.1->typer<0.5.0,>=0.3.0->spacy<3.2.0,>=3.1.0->de-core-news-sm==3.1.0) (4.8.1)\n",
      "Requirement already satisfied: MarkupSafe>=2.0 in /opt/conda/lib/python3.7/site-packages (from jinja2->spacy<3.2.0,>=3.1.0->de-core-news-sm==3.1.0) (2.0.1)\n",
      "Installing collected packages: de-core-news-sm\n",
      "Successfully installed de-core-news-sm-3.1.0\n",
      "\u001b[38;5;2m✔ Download and installation successful\u001b[0m\n",
      "You can now load the package via spacy.load('de_core_news_sm')\n"
     ]
    },
    {
     "name": "stderr",
     "output_type": "stream",
     "text": [
      "WARNING: Running pip as the 'root' user can result in broken permissions and conflicting behaviour with the system package manager. It is recommended to use a virtual environment instead: https://pip.pypa.io/warnings/venv\n"
     ]
    }
   ],
   "source": [
    "import spacy.cli \n",
    "spacy.cli.download(\"en_core_web_sm\")\n",
    "spacy.cli.download(\"de_core_news_sm\")"
   ]
  },
  {
   "cell_type": "code",
   "execution_count": 4,
   "id": "8462f8d7",
   "metadata": {
    "execution": {
     "iopub.execute_input": "2021-11-09T20:52:00.546489Z",
     "iopub.status.busy": "2021-11-09T20:52:00.545708Z",
     "iopub.status.idle": "2021-11-09T20:52:03.215011Z",
     "shell.execute_reply": "2021-11-09T20:52:03.214461Z",
     "shell.execute_reply.started": "2021-11-09T20:26:36.883090Z"
    },
    "papermill": {
     "duration": 2.706265,
     "end_time": "2021-11-09T20:52:03.215154",
     "exception": false,
     "start_time": "2021-11-09T20:52:00.508889",
     "status": "completed"
    },
    "tags": []
   },
   "outputs": [],
   "source": [
    "# Creating tokenizers\n",
    "spacy_de = spacy.load('de_core_news_sm')\n",
    "spacy_en = spacy.load('en_core_web_sm')"
   ]
  },
  {
   "cell_type": "code",
   "execution_count": 5,
   "id": "db946d4e",
   "metadata": {
    "execution": {
     "iopub.execute_input": "2021-11-09T20:52:03.284710Z",
     "iopub.status.busy": "2021-11-09T20:52:03.283885Z",
     "iopub.status.idle": "2021-11-09T20:52:03.289529Z",
     "shell.execute_reply": "2021-11-09T20:52:03.289085Z",
     "shell.execute_reply.started": "2021-11-09T20:26:39.637624Z"
    },
    "papermill": {
     "duration": 0.040892,
     "end_time": "2021-11-09T20:52:03.289632",
     "exception": false,
     "start_time": "2021-11-09T20:52:03.248740",
     "status": "completed"
    },
    "tags": []
   },
   "outputs": [],
   "source": [
    "def tokenize_de(text):\n",
    "    \"\"\"\n",
    "    Tokenizes German text from a string into a list of strings (tokens)\n",
    "    \n",
    "    :param text: the german sentence\n",
    "    \"\"\"\n",
    "    \n",
    "    return [tok.text for tok in spacy_de.tokenizer(text)]\n",
    "\n",
    "def tokenize_en(text):\n",
    "    \"\"\"\n",
    "    Tokenizes English text from a string into a list of strings (tokens)\n",
    "    \n",
    "    :param text: the english sentence\n",
    "    \"\"\"\n",
    "    \n",
    "    return [tok.text for tok in spacy_en.tokenizer(text)]"
   ]
  },
  {
   "cell_type": "code",
   "execution_count": 6,
   "id": "8715b0dc",
   "metadata": {
    "execution": {
     "iopub.execute_input": "2021-11-09T20:52:03.360129Z",
     "iopub.status.busy": "2021-11-09T20:52:03.359410Z",
     "iopub.status.idle": "2021-11-09T20:52:03.362019Z",
     "shell.execute_reply": "2021-11-09T20:52:03.361555Z",
     "shell.execute_reply.started": "2021-11-09T20:26:39.644731Z"
    },
    "papermill": {
     "duration": 0.039977,
     "end_time": "2021-11-09T20:52:03.362129",
     "exception": false,
     "start_time": "2021-11-09T20:52:03.322152",
     "status": "completed"
    },
    "tags": []
   },
   "outputs": [],
   "source": [
    "SRC = Field(tokenize = tokenize_de, \n",
    "            init_token = '<sos>', \n",
    "            eos_token = '<eos>', \n",
    "            lower = True, \n",
    "            batch_first = True)\n",
    "\n",
    "TRG = Field(tokenize = tokenize_en, \n",
    "            init_token = '<sos>', \n",
    "            eos_token = '<eos>', \n",
    "            lower = True, \n",
    "            batch_first = True)"
   ]
  },
  {
   "cell_type": "code",
   "execution_count": 7,
   "id": "64ae2303",
   "metadata": {
    "execution": {
     "iopub.execute_input": "2021-11-09T20:52:03.431388Z",
     "iopub.status.busy": "2021-11-09T20:52:03.430587Z",
     "iopub.status.idle": "2021-11-09T20:52:14.071938Z",
     "shell.execute_reply": "2021-11-09T20:52:14.071431Z",
     "shell.execute_reply.started": "2021-11-09T20:26:39.655235Z"
    },
    "papermill": {
     "duration": 10.677747,
     "end_time": "2021-11-09T20:52:14.072081",
     "exception": false,
     "start_time": "2021-11-09T20:52:03.394334",
     "status": "completed"
    },
    "tags": []
   },
   "outputs": [
    {
     "name": "stdout",
     "output_type": "stream",
     "text": [
      "downloading training.tar.gz\n"
     ]
    },
    {
     "name": "stderr",
     "output_type": "stream",
     "text": [
      "training.tar.gz: 100%|██████████| 1.21M/1.21M [00:02<00:00, 572kB/s] \n"
     ]
    },
    {
     "name": "stdout",
     "output_type": "stream",
     "text": [
      "downloading validation.tar.gz\n"
     ]
    },
    {
     "name": "stderr",
     "output_type": "stream",
     "text": [
      "validation.tar.gz: 100%|██████████| 46.3k/46.3k [00:00<00:00, 174kB/s]\n"
     ]
    },
    {
     "name": "stdout",
     "output_type": "stream",
     "text": [
      "downloading mmt_task1_test2016.tar.gz\n"
     ]
    },
    {
     "name": "stderr",
     "output_type": "stream",
     "text": [
      "mmt_task1_test2016.tar.gz: 100%|██████████| 66.2k/66.2k [00:00<00:00, 167kB/s]\n"
     ]
    }
   ],
   "source": [
    "# Download and load the train, valid and test data\n",
    "\n",
    "train_data, valid_data, test_data = Multi30k.splits(\n",
    "    exts = ('.de', '.en'),\n",
    "    fields = (SRC, TRG)\n",
    ")"
   ]
  },
  {
   "cell_type": "code",
   "execution_count": 8,
   "id": "4166572d",
   "metadata": {
    "execution": {
     "iopub.execute_input": "2021-11-09T20:52:14.160809Z",
     "iopub.status.busy": "2021-11-09T20:52:14.160156Z",
     "iopub.status.idle": "2021-11-09T20:52:14.163272Z",
     "shell.execute_reply": "2021-11-09T20:52:14.163676Z",
     "shell.execute_reply.started": "2021-11-09T20:26:48.282795Z"
    },
    "papermill": {
     "duration": 0.049979,
     "end_time": "2021-11-09T20:52:14.163824",
     "exception": false,
     "start_time": "2021-11-09T20:52:14.113845",
     "status": "completed"
    },
    "tags": []
   },
   "outputs": [
    {
     "name": "stdout",
     "output_type": "stream",
     "text": [
      "Number of training examples: 29000\n",
      "Number of validation examples: 1014\n",
      "Number of testing examples: 1000\n",
      "{'src': ['zwei', 'junge', 'weiße', 'männer', 'sind', 'im', 'freien', 'in', 'der', 'nähe', 'vieler', 'büsche', '.'], 'trg': ['two', 'young', ',', 'white', 'males', 'are', 'outside', 'near', 'many', 'bushes', '.']}\n"
     ]
    }
   ],
   "source": [
    "# Verifying\n",
    "\n",
    "print(f\"Number of training examples: {len(train_data.examples)}\")\n",
    "print(f\"Number of validation examples: {len(valid_data.examples)}\")\n",
    "print(f\"Number of testing examples: {len(test_data.examples)}\")\n",
    "\n",
    "print(vars(train_data.examples[0]))"
   ]
  },
  {
   "cell_type": "code",
   "execution_count": 9,
   "id": "0be44b6e",
   "metadata": {
    "execution": {
     "iopub.execute_input": "2021-11-09T20:52:14.295126Z",
     "iopub.status.busy": "2021-11-09T20:52:14.285014Z",
     "iopub.status.idle": "2021-11-09T20:52:14.529979Z",
     "shell.execute_reply": "2021-11-09T20:52:14.529440Z",
     "shell.execute_reply.started": "2021-11-09T20:26:48.291335Z"
    },
    "papermill": {
     "duration": 0.324623,
     "end_time": "2021-11-09T20:52:14.530120",
     "exception": false,
     "start_time": "2021-11-09T20:52:14.205497",
     "status": "completed"
    },
    "tags": []
   },
   "outputs": [],
   "source": [
    "# building vocabulary\n",
    "# min_freq => min threshold to include the word in the vocab\n",
    "\n",
    "SRC.build_vocab(train_data, min_freq=2)\n",
    "TRG.build_vocab(train_data, min_freq=2)"
   ]
  },
  {
   "cell_type": "code",
   "execution_count": 10,
   "id": "dbb21ac3",
   "metadata": {
    "execution": {
     "iopub.execute_input": "2021-11-09T20:52:14.617469Z",
     "iopub.status.busy": "2021-11-09T20:52:14.616734Z",
     "iopub.status.idle": "2021-11-09T20:52:14.619706Z",
     "shell.execute_reply": "2021-11-09T20:52:14.620126Z",
     "shell.execute_reply.started": "2021-11-09T20:26:48.572492Z"
    },
    "papermill": {
     "duration": 0.048995,
     "end_time": "2021-11-09T20:52:14.620260",
     "exception": false,
     "start_time": "2021-11-09T20:52:14.571265",
     "status": "completed"
    },
    "tags": []
   },
   "outputs": [
    {
     "name": "stdout",
     "output_type": "stream",
     "text": [
      "Unique tokens in source (de) vocabulary: 7853\n",
      "Unique tokens in target (en) vocabulary: 5893\n"
     ]
    }
   ],
   "source": [
    "# Unique Tokens\n",
    "print(f\"Unique tokens in source (de) vocabulary: {len(SRC.vocab)}\")\n",
    "print(f\"Unique tokens in target (en) vocabulary: {len(TRG.vocab)}\")"
   ]
  },
  {
   "cell_type": "markdown",
   "id": "0700db08",
   "metadata": {
    "papermill": {
     "duration": 0.042728,
     "end_time": "2021-11-09T20:52:14.703998",
     "exception": false,
     "start_time": "2021-11-09T20:52:14.661270",
     "status": "completed"
    },
    "tags": []
   },
   "source": [
    "## Creating Iterators"
   ]
  },
  {
   "cell_type": "code",
   "execution_count": 11,
   "id": "9cd6744b",
   "metadata": {
    "execution": {
     "iopub.execute_input": "2021-11-09T20:52:14.793623Z",
     "iopub.status.busy": "2021-11-09T20:52:14.792855Z",
     "iopub.status.idle": "2021-11-09T20:52:14.795267Z",
     "shell.execute_reply": "2021-11-09T20:52:14.794865Z",
     "shell.execute_reply.started": "2021-11-09T20:26:48.579496Z"
    },
    "papermill": {
     "duration": 0.050253,
     "end_time": "2021-11-09T20:52:14.795373",
     "exception": false,
     "start_time": "2021-11-09T20:52:14.745120",
     "status": "completed"
    },
    "tags": []
   },
   "outputs": [],
   "source": [
    "device = torch.device('cuda' if torch.cuda.is_available() else 'cpu')"
   ]
  },
  {
   "cell_type": "code",
   "execution_count": 12,
   "id": "8ce8bf78",
   "metadata": {
    "execution": {
     "iopub.execute_input": "2021-11-09T20:52:14.883644Z",
     "iopub.status.busy": "2021-11-09T20:52:14.882899Z",
     "iopub.status.idle": "2021-11-09T20:52:14.885431Z",
     "shell.execute_reply": "2021-11-09T20:52:14.884949Z",
     "shell.execute_reply.started": "2021-11-09T20:26:48.591009Z"
    },
    "papermill": {
     "duration": 0.048256,
     "end_time": "2021-11-09T20:52:14.885544",
     "exception": false,
     "start_time": "2021-11-09T20:52:14.837288",
     "status": "completed"
    },
    "tags": []
   },
   "outputs": [],
   "source": [
    "BATCH_SIZE = 128\n",
    "\n",
    "train_iterator, valid_iterator, test_iterator = BucketIterator.splits(\n",
    "    (train_data, valid_data, test_data),\n",
    "    batch_size = BATCH_SIZE,\n",
    "    sort_within_batch = True,\n",
    "    sort_key = lambda x : len(x.src),\n",
    "    device = device\n",
    ")"
   ]
  },
  {
   "cell_type": "markdown",
   "id": "2a807c04",
   "metadata": {
    "papermill": {
     "duration": 0.042329,
     "end_time": "2021-11-09T20:52:15.018361",
     "exception": false,
     "start_time": "2021-11-09T20:52:14.976032",
     "status": "completed"
    },
    "tags": []
   },
   "source": [
    "## Building the Model"
   ]
  },
  {
   "cell_type": "markdown",
   "id": "c200393b",
   "metadata": {
    "papermill": {
     "duration": 0.041995,
     "end_time": "2021-11-09T20:52:15.103439",
     "exception": false,
     "start_time": "2021-11-09T20:52:15.061444",
     "status": "completed"
    },
    "tags": []
   },
   "source": [
    "### Encoder"
   ]
  },
  {
   "cell_type": "code",
   "execution_count": 13,
   "id": "965c68c0",
   "metadata": {
    "execution": {
     "iopub.execute_input": "2021-11-09T20:52:15.203902Z",
     "iopub.status.busy": "2021-11-09T20:52:15.202208Z",
     "iopub.status.idle": "2021-11-09T20:52:15.204498Z",
     "shell.execute_reply": "2021-11-09T20:52:15.205050Z",
     "shell.execute_reply.started": "2021-11-09T20:29:18.859055Z"
    },
    "papermill": {
     "duration": 0.059945,
     "end_time": "2021-11-09T20:52:15.205223",
     "exception": false,
     "start_time": "2021-11-09T20:52:15.145278",
     "status": "completed"
    },
    "tags": []
   },
   "outputs": [],
   "source": [
    "class Encoder(nn.Module):\n",
    "    \n",
    "    def __init__(self, input_dim, emb_dim, hid_dim, n_layers, kernel_size, dropout, device, max_length = 100):\n",
    "        \"\"\"\n",
    "        :param input_dim: It is the size/dimensionality of the one-hot vectors that will be input to the encoder. \n",
    "                        This is equal to the input (source) vocabulary size.\n",
    "        :param emb_dim: It is the dimensionality of the embedding layer. \n",
    "                        This layer converts the one-hot vectors into dense vectors with emb_dim dimensions.\n",
    "        :param enc_hid_dim: It is the dimensionality of the hidden state of the encoder.\n",
    "        :param n_layers: The number of layers to be used in CNN.\n",
    "        :param kernel_size: The kernel size to be used during Convolution\n",
    "        :param dropout: It is the amount of dropout to use. \n",
    "                        This is a regularization parameter to prevent overfitting.\n",
    "        :param device: gpu or cpu\n",
    "        :param max_length: The positional embedding is initialized to have this much size of the vocabulary.\n",
    "                        i.e, it can handle sequences up to `max_length` elements long.\n",
    "                        Implying, we can retain the positional information for sequences upto max_length.\n",
    "        \"\"\"\n",
    "        \n",
    "        super().__init__()\n",
    "        \n",
    "        assert kernel_size % 2 == 1, \"Kernel size must be odd!\"\n",
    "        \n",
    "        self.device = device\n",
    "        \n",
    "        self.scale = torch.sqrt(torch.FloatTensor([0.5])).to(device)\n",
    "        # Scale ??\n",
    "        # It ensures that the variance throughout the network does not change dramatically.\n",
    "        \n",
    "        self.tok_embedding = nn.Embedding(input_dim, emb_dim)\n",
    "        self.pos_embedding = nn.Embedding(max_length, emb_dim)\n",
    "        \n",
    "        self.emb2hid = nn.Linear(emb_dim, hid_dim)\n",
    "        self.hid2emb = nn.Linear(hid_dim, emb_dim)\n",
    "        \n",
    "        self.convs = nn.ModuleList(\n",
    "            [\n",
    "                nn.Conv1d(in_channels = hid_dim,\n",
    "                          out_channels = 2 * hid_dim,\n",
    "                          kernel_size = kernel_size,\n",
    "                          padding = (kernel_size - 1) // 2\n",
    "                         )\n",
    "                \n",
    "                for _ in range(n_layers)\n",
    "            ]\n",
    "        )\n",
    "        # Notice that output after each convolution will have the same dimension!!\n",
    "        # Why? due to padding\n",
    "        \n",
    "        self.dropout = nn.Dropout(dropout)\n",
    "        \n",
    "    def forward(self, src):\n",
    "        \n",
    "        # src.shape => (batch_size, src_len)\n",
    "        \n",
    "        batch_size = src.shape[0]\n",
    "        src_len = src.shape[1]\n",
    "        \n",
    "        # create position tensor\n",
    "        pos = torch.arange(0, src_len).unsqueeze(0).repeat(batch_size, 1).to(self.device)\n",
    "        # pos = [[0, 1, 2, 3, ..., (src_len - 1)], ... , batch_size times]\n",
    "        # pos.shape => (batch_size, src_len)\n",
    "        \n",
    "        # embed tokens and positions\n",
    "        tok_embedded = self.tok_embedding(src)\n",
    "        pos_embedded = self.pos_embedding(pos)\n",
    "        # tok_embedded.shape = pos_embedded.shape => (batch_size, src_len, emb_dim)\n",
    "        \n",
    "        # Combine Embeddings by `Elementwise Summing`\n",
    "        embedded = self.dropout(tok_embedded + pos_embedded)\n",
    "        # embedded.shape => (batch_size, src_len, emb_dim)\n",
    "        \n",
    "        # pass embedded through the linear layer to convert from emb_dim to hid_dim\n",
    "        conv_input = self.emb2hid(embedded)\n",
    "        # conv_input.shape => (batch_size, src_len, hid_dim)\n",
    "        \n",
    "        # permute for convolutional layer\n",
    "        conv_input = conv_input.permute(0, 2, 1)\n",
    "        # conv_input.shape => (batch_size, hid_dim, src_len)\n",
    "        \n",
    "        # Begin convolutional blocks...\n",
    "        \n",
    "        for i, conv in enumerate(self.convs):\n",
    "            \n",
    "            # pass through convolutional layer\n",
    "            conved = conv(self.dropout(conv_input))\n",
    "            # conved.shape => (batch_size, 2 * hid_dim, src_len)\n",
    "            \n",
    "            # Why we doubled the hid_dim through convolution?\n",
    "            # Because, we have to use the GLU activation function, which halves the hiddden dimension.\n",
    "            \n",
    "            # pass through GLU (GATED LINEAR UNITS) activation function\n",
    "            conved = F.glu(conved, dim = 1)\n",
    "            # conved.shape => (batch_size, hid_dim, src_len)\n",
    "            \n",
    "            # Apply residual connection\n",
    "            conved = (conved + conv_input) * self.scale\n",
    "            # conved.shape => (batch_size, hid_dim, src_len)\n",
    "            \n",
    "            # Set conv_input to conved for next loop iteration\n",
    "            conv_input = conved\n",
    "            \n",
    "        # ... End convolutional blocks\n",
    "        \n",
    "        # permute and convert back to emb_dim\n",
    "        conved = self.hid2emb(conved.permute(0, 2, 1))\n",
    "        # conved.shape => (batch_size, src_len, hid_dim)\n",
    "        \n",
    "        # Elementwise sum output (conved) and input (embedded) to be used for attention\n",
    "        combined = (conved + embedded) * self.scale\n",
    "        # combined.shape => (batch_size, src_len, emb_dim)\n",
    "        \n",
    "        return conved, combined"
   ]
  },
  {
   "cell_type": "markdown",
   "id": "7cb3cc92",
   "metadata": {
    "papermill": {
     "duration": 0.042349,
     "end_time": "2021-11-09T20:52:15.290131",
     "exception": false,
     "start_time": "2021-11-09T20:52:15.247782",
     "status": "completed"
    },
    "tags": []
   },
   "source": [
    "### Decoder"
   ]
  },
  {
   "cell_type": "code",
   "execution_count": 14,
   "id": "27a77eba",
   "metadata": {
    "execution": {
     "iopub.execute_input": "2021-11-09T20:52:15.397294Z",
     "iopub.status.busy": "2021-11-09T20:52:15.395542Z",
     "iopub.status.idle": "2021-11-09T20:52:15.397945Z",
     "shell.execute_reply": "2021-11-09T20:52:15.398374Z",
     "shell.execute_reply.started": "2021-11-09T20:29:19.573137Z"
    },
    "papermill": {
     "duration": 0.066795,
     "end_time": "2021-11-09T20:52:15.398519",
     "exception": false,
     "start_time": "2021-11-09T20:52:15.331724",
     "status": "completed"
    },
    "tags": []
   },
   "outputs": [],
   "source": [
    "class Decoder(nn.Module):\n",
    "    \n",
    "    def __init__(self, output_dim, emb_dim, hid_dim, n_layers, kernel_size, dropout, trg_pad_idx, device, max_length = 100):\n",
    "        \"\"\"\n",
    "        :param output_dim: It is the size/dimensionality of the one-hot vectors that will be the output of the decoder.\n",
    "                        This is equal to the output (target) vocabulary size.\n",
    "        :param emb_dim: It is the dimensionality of the embedding layer. \n",
    "                        This layer converts the one-hot vectors into dense vectors with emb_dim dimensions.\n",
    "        :param hid_dim: It is the dimensionality of the hidden state of the decoder\n",
    "        :param n_layers: The number of layers to be used in CNN.\n",
    "        :param kernel_size: The kernel size to be used during Convolution\n",
    "        :param dropout: It is the amount of dropout to use. \n",
    "                        This is a regularization parameter to prevent overfitting.\n",
    "        :param device: gpu or cpu\n",
    "        :param trg_pad_idx: the <pad> index for pre-padding the sentence.\n",
    "                        Why pre-padded, why not padding equally on both sides?\n",
    "                        It ensures that we don't see the word we want to predict, otherwise, during convolution,\n",
    "                        the word to be predicted would be included in the window itself, resulting in the model to\n",
    "                        learn just copying the last word in the window, it sees, as the prediction!!\n",
    "        :param max_length: The positional embedding is initialized to have this much size of the vocabulary.\n",
    "                        i.e, it can handle sequences up to `max_length` elements long.\n",
    "                        Implying, we can retain the positional information for sequences upto max_length.\n",
    "        \"\"\"\n",
    "        \n",
    "        super().__init__()\n",
    "        \n",
    "        self.kernel_size = kernel_size\n",
    "        self.trg_pad_idx = trg_pad_idx\n",
    "        self.device = device\n",
    "        \n",
    "        self.scale = torch.sqrt(torch.FloatTensor([0.5])).to(device)\n",
    "        \n",
    "        self.tok_embedding = nn.Embedding(output_dim, emb_dim)\n",
    "        self.pos_embedding = nn.Embedding(max_length, emb_dim)\n",
    "        \n",
    "        self.emb2hid = nn.Linear(emb_dim, hid_dim)\n",
    "        self.hid2emb = nn.Linear(hid_dim, emb_dim)\n",
    "        \n",
    "        self.attn_hid2emb = nn.Linear(hid_dim, emb_dim)\n",
    "        self.attn_emb2hid = nn.Linear(emb_dim, hid_dim)\n",
    "        \n",
    "        self.fc_out = nn.Linear(emb_dim, output_dim)\n",
    "        \n",
    "        self.convs = nn.ModuleList(\n",
    "            [\n",
    "                nn.Conv1d(in_channels = hid_dim,\n",
    "                          out_channels = 2 * hid_dim,\n",
    "                          kernel_size = kernel_size,\n",
    "                         )\n",
    "                for _ in range(n_layers)\n",
    "            ]\n",
    "        )\n",
    "        \n",
    "        self.dropout = nn.Dropout(dropout)\n",
    "        \n",
    "        \n",
    "    def calculate_attention(self, embedded, conved, encoder_conved, encoder_combined):\n",
    "        \n",
    "        # embedded.shape => (batch_size, trg_len, emb_dim)\n",
    "        # conved.shape => (batch_size, hid_dim, trg_len)\n",
    "        # encoder_conved.shape = encoder_combined.shape => (batch_size, src_len, emb_dim)\n",
    "        \n",
    "        # permute and convert back to emb_dim\n",
    "        conved_emb = self.attn_hid2emb(conved.permute(0, 2, 1))\n",
    "        # conved_emb.shape => (batch_size, trg_len, emb_dim)\n",
    "        \n",
    "        combined = (conved_emb + embedded) * self.scale\n",
    "        # combined.shape => (batch_size, trg_len, emb_dim)\n",
    "        \n",
    "        energy = torch.matmul(combined, encoder_conved.permute(0, 2, 1))\n",
    "        # energy.shape => (batch_size, trg_len, src_len)\n",
    "        \n",
    "        attention = F.softmax(energy, dim = 2)\n",
    "        # attention.shape => (batch_size, trg_len, src_len)\n",
    "        \n",
    "        attention_encoding = torch.matmul(attention, encoder_combined)\n",
    "        # attention_encoding.shape => (batch_size, trg_len, emb_dim)\n",
    "        \n",
    "        # convert from emb_dim to hid_dim\n",
    "        attention_encoding = self.attn_emb2hid(attention_encoding)\n",
    "        # attention_encoding.shape => (batch_size, trg_len, hid_dim)\n",
    "        \n",
    "        # apply residual connection\n",
    "        attention_combined = (conved + attention_encoding.permute(0, 2, 1)) * self.scale\n",
    "        # attention_combined.shape => (batch_size, hid_dim, trg_len)\n",
    "        \n",
    "        return attention, attention_combined\n",
    "    \n",
    "    \n",
    "    def forward(self, trg, encoder_conved, encoder_combined):\n",
    "        \n",
    "        # trg.shape => (batch_size, trg_len)\n",
    "        # encoder_conved.shape = encoder_combined.shape => (batch_size, src_len, emb_dim)\n",
    "        \n",
    "        batch_size = trg.shape[0]\n",
    "        trg_len = trg.shape[1]\n",
    "        \n",
    "        # create position tensor\n",
    "        pos = torch.arange(0, trg_len).unsqueeze(0).repeat(batch_size, 1).to(self.device)\n",
    "        # pos.shape => (batch_size, trg_len)\n",
    "        \n",
    "        # embed tokens and positions\n",
    "        tok_embedded = self.tok_embedding(trg)\n",
    "        pos_embedded = self.pos_embedding(pos)\n",
    "        # tok_embedded.shape = pos_embedded.shape => (batch_size, trg_len, emb_dim)\n",
    "        \n",
    "        # combine embeddings by elementwise summing\n",
    "        embedded = self.dropout(tok_embedded + pos_embedded)\n",
    "        # embedded.shape => (batch_size, trg_len, emb_dim)\n",
    "        \n",
    "        # pass embedded through linear layer to go through emb_dim to hid_dim\n",
    "        conv_input = self.emb2hid(embedded)\n",
    "        # conv_input.shape => (batch_size, trg_len, hid_dim)\n",
    "        \n",
    "        # permute for convolutional layer\n",
    "        conv_input = conv_input.permute(0, 2, 1)\n",
    "        # conv_input.shape => (batch_size, hid_dim, trg_len)\n",
    "        \n",
    "        batch_size = conv_input.shape[0]\n",
    "        hid_dim = conv_input.shape[1]\n",
    "        \n",
    "        for i, conv in enumerate(self.convs):\n",
    "            \n",
    "            # apply dropout\n",
    "            conv_input = self.dropout(conv_input)\n",
    "            \n",
    "            # need to pad so decoder can't cheat\n",
    "            padding = torch.zeros(batch_size, \n",
    "                                  hid_dim, \n",
    "                                  self.kernel_size - 1).fill_(self.trg_pad_idx).to(self.device)\n",
    "            \n",
    "            padded_conv_input = torch.cat((padding, conv_input), dim = 2)\n",
    "            # padded_conv_input.shape => (batch_size, hid_dim, trg_len + kernel_size - 1)\n",
    "            \n",
    "            # pass through the convolutional layer\n",
    "            conved = conv(padded_conv_input)\n",
    "            # conved.shape => (batch_size, hid_dim * 2, trg_len)\n",
    "            \n",
    "            # pass through GLU activation function\n",
    "            conved = F.glu(conved, dim = 1)\n",
    "            # conved.shape => (batch_size, hid_dim, trg_len)\n",
    "            \n",
    "            # calculate attention\n",
    "            attention, conved = self.calculate_attention(embedded, \n",
    "                                                         conved, \n",
    "                                                         encoder_conved,\n",
    "                                                         encoder_combined)\n",
    "            # attention.shape => (batch_size, trg_len, src_len)\n",
    "            \n",
    "            # apply residual connection\n",
    "            conved = (conved + conv_input) * self.scale\n",
    "            # conved.shape => (batch_size, hid_dim, trg_len)\n",
    "            \n",
    "            # set conv_input to conved for next loop iteration\n",
    "            conv_input = conved\n",
    "            \n",
    "        conved = self.hid2emb(conved.permute(0, 2, 1))\n",
    "        # conved.shape => (batch_size, trg_len, emb_dim)\n",
    "        \n",
    "        output = self.fc_out(self.dropout(conved))\n",
    "        # output.shape => (batch_size, trg_len, output_dim)\n",
    "        \n",
    "        return output, attention"
   ]
  },
  {
   "cell_type": "markdown",
   "id": "6568ab54",
   "metadata": {
    "papermill": {
     "duration": 0.042154,
     "end_time": "2021-11-09T20:52:15.482669",
     "exception": false,
     "start_time": "2021-11-09T20:52:15.440515",
     "status": "completed"
    },
    "tags": []
   },
   "source": [
    "### Seq2Seq Model"
   ]
  },
  {
   "cell_type": "code",
   "execution_count": 15,
   "id": "0e377b7d",
   "metadata": {
    "execution": {
     "iopub.execute_input": "2021-11-09T20:52:15.574089Z",
     "iopub.status.busy": "2021-11-09T20:52:15.573180Z",
     "iopub.status.idle": "2021-11-09T20:52:15.574837Z",
     "shell.execute_reply": "2021-11-09T20:52:15.575333Z",
     "shell.execute_reply.started": "2021-11-09T20:29:20.241861Z"
    },
    "papermill": {
     "duration": 0.050739,
     "end_time": "2021-11-09T20:52:15.575465",
     "exception": false,
     "start_time": "2021-11-09T20:52:15.524726",
     "status": "completed"
    },
    "tags": []
   },
   "outputs": [],
   "source": [
    "class Seq2Seq(nn.Module):\n",
    "    \n",
    "    def __init__(self, encoder, decoder):\n",
    "        \n",
    "        super().__init__()\n",
    "        \n",
    "        self.encoder = encoder\n",
    "        self.decoder = decoder\n",
    "        \n",
    "    def forward(self, src, trg):\n",
    "        \"\"\"\n",
    "        :param src: the source sentence sequence\n",
    "                    src.shape => (batch_size, src_len)\n",
    "        :param trg: the target senetence sequence\n",
    "                    trg.shape => (batch_size, trg_len - 1) \n",
    "                    b/c <eos> token sliced off the end\n",
    "        \"\"\"\n",
    "        \n",
    "        # calculate z^u (encoder_conved) and (z^u + e) (encoder_combined)\n",
    "        # encoder_conved is output form final encoder conv. block\n",
    "        # encoder_combined is encoder_conved plus (elementwise) src embedding + positional embedding\n",
    "        encoder_conved, encoder_combined = self.encoder(src)\n",
    "        # encoder_conved.shape => (batch_size, src_len, emb_dim)\n",
    "        # encoder_combined => (batch_size, src_len, emb_dim)\n",
    "        \n",
    "        # calculate predictions of next words\n",
    "        # output is a batch of predictions for each word in the trg sentence\n",
    "        # attention is a batch of attention scores across the src sentence for \n",
    "        # each word in the trg sentence\n",
    "        output, attention = self.decoder(trg, encoder_conved, encoder_combined)\n",
    "        # output.shape => (batch_size, trg_len - 1, output_dim)\n",
    "        # attention.shape => (batch_size, trg_len - 1, src_len)\n",
    "        \n",
    "        return output, attention"
   ]
  },
  {
   "cell_type": "markdown",
   "id": "1a1bee4c",
   "metadata": {
    "papermill": {
     "duration": 0.041351,
     "end_time": "2021-11-09T20:52:15.658636",
     "exception": false,
     "start_time": "2021-11-09T20:52:15.617285",
     "status": "completed"
    },
    "tags": []
   },
   "source": [
    "## Training the Seq2Seq Model"
   ]
  },
  {
   "cell_type": "markdown",
   "id": "6309b2f7",
   "metadata": {
    "papermill": {
     "duration": 0.041398,
     "end_time": "2021-11-09T20:52:15.741861",
     "exception": false,
     "start_time": "2021-11-09T20:52:15.700463",
     "status": "completed"
    },
    "tags": []
   },
   "source": [
    "### Init the Model"
   ]
  },
  {
   "cell_type": "code",
   "execution_count": 16,
   "id": "5e35d92e",
   "metadata": {
    "execution": {
     "iopub.execute_input": "2021-11-09T20:52:15.838716Z",
     "iopub.status.busy": "2021-11-09T20:52:15.838125Z",
     "iopub.status.idle": "2021-11-09T20:52:24.067724Z",
     "shell.execute_reply": "2021-11-09T20:52:24.066881Z",
     "shell.execute_reply.started": "2021-11-09T20:29:21.255901Z"
    },
    "papermill": {
     "duration": 8.284426,
     "end_time": "2021-11-09T20:52:24.067902",
     "exception": false,
     "start_time": "2021-11-09T20:52:15.783476",
     "status": "completed"
    },
    "tags": []
   },
   "outputs": [],
   "source": [
    "INPUT_DIM = len(SRC.vocab)\n",
    "OUTPUT_DIM = len(TRG.vocab)\n",
    "EMB_DIM = 256\n",
    "HID_DIM = 512 # each conv. layer has 2 * hid_dim filters\n",
    "ENC_LAYERS = 10 # number of conv. blocks in encoder\n",
    "DEC_LAYERS = 10 # number of conv. blocks in decoder\n",
    "ENC_KERNEL_SIZE = 3 # must be odd!\n",
    "DEC_KERNEL_SIZE = 3 # can be even or odd\n",
    "ENC_DROPOUT = 0.25\n",
    "DEC_DROPOUT = 0.25\n",
    "TRG_PAD_IDX = TRG.vocab.stoi[TRG.pad_token]\n",
    "    \n",
    "enc = Encoder(INPUT_DIM, EMB_DIM, HID_DIM, ENC_LAYERS, ENC_KERNEL_SIZE, ENC_DROPOUT, device)\n",
    "dec = Decoder(OUTPUT_DIM, EMB_DIM, HID_DIM, DEC_LAYERS, DEC_KERNEL_SIZE, DEC_DROPOUT, TRG_PAD_IDX, device)\n",
    "\n",
    "model = Seq2Seq(enc, dec).to(device)"
   ]
  },
  {
   "cell_type": "code",
   "execution_count": 17,
   "id": "1b85a3ff",
   "metadata": {
    "execution": {
     "iopub.execute_input": "2021-11-09T20:52:24.158915Z",
     "iopub.status.busy": "2021-11-09T20:52:24.158255Z",
     "iopub.status.idle": "2021-11-09T20:52:24.161762Z",
     "shell.execute_reply": "2021-11-09T20:52:24.162428Z",
     "shell.execute_reply.started": "2021-11-09T20:29:21.951906Z"
    },
    "papermill": {
     "duration": 0.052161,
     "end_time": "2021-11-09T20:52:24.162630",
     "exception": false,
     "start_time": "2021-11-09T20:52:24.110469",
     "status": "completed"
    },
    "tags": []
   },
   "outputs": [
    {
     "name": "stdout",
     "output_type": "stream",
     "text": [
      "The model has 37,351,173 trainable parameters\n"
     ]
    }
   ],
   "source": [
    "def count_parameters(model):\n",
    "    return sum(p.numel() for p in model.parameters() if p.requires_grad)\n",
    "\n",
    "print(f'The model has {count_parameters(model):,} trainable parameters')"
   ]
  },
  {
   "cell_type": "code",
   "execution_count": 18,
   "id": "6e763ec9",
   "metadata": {
    "execution": {
     "iopub.execute_input": "2021-11-09T20:52:24.253434Z",
     "iopub.status.busy": "2021-11-09T20:52:24.251272Z",
     "iopub.status.idle": "2021-11-09T20:52:24.255490Z",
     "shell.execute_reply": "2021-11-09T20:52:24.255992Z",
     "shell.execute_reply.started": "2021-11-09T20:29:22.823625Z"
    },
    "papermill": {
     "duration": 0.049707,
     "end_time": "2021-11-09T20:52:24.256140",
     "exception": false,
     "start_time": "2021-11-09T20:52:24.206433",
     "status": "completed"
    },
    "tags": []
   },
   "outputs": [],
   "source": [
    "# define the optimizer\n",
    "optimizer = optim.Adam(model.parameters())"
   ]
  },
  {
   "cell_type": "code",
   "execution_count": 19,
   "id": "13ddbfe1",
   "metadata": {
    "execution": {
     "iopub.execute_input": "2021-11-09T20:52:24.346047Z",
     "iopub.status.busy": "2021-11-09T20:52:24.345107Z",
     "iopub.status.idle": "2021-11-09T20:52:24.347067Z",
     "shell.execute_reply": "2021-11-09T20:52:24.347533Z",
     "shell.execute_reply.started": "2021-11-09T20:29:23.662598Z"
    },
    "papermill": {
     "duration": 0.04933,
     "end_time": "2021-11-09T20:52:24.347676",
     "exception": false,
     "start_time": "2021-11-09T20:52:24.298346",
     "status": "completed"
    },
    "tags": []
   },
   "outputs": [],
   "source": [
    "# loss function\n",
    "# NOTE: Our loss function calculates the average loss per token, \n",
    "# however by passing the index of the <pad> token as the ignore_index argument \n",
    "# we ignore the loss whenever the target token is a padding token.\n",
    "\n",
    "criterion = nn.CrossEntropyLoss(ignore_index = TRG_PAD_IDX)"
   ]
  },
  {
   "cell_type": "markdown",
   "id": "d36f987c",
   "metadata": {
    "papermill": {
     "duration": 0.0422,
     "end_time": "2021-11-09T20:52:24.432283",
     "exception": false,
     "start_time": "2021-11-09T20:52:24.390083",
     "status": "completed"
    },
    "tags": []
   },
   "source": [
    "## Training Function"
   ]
  },
  {
   "cell_type": "code",
   "execution_count": 20,
   "id": "a7c814fb",
   "metadata": {
    "execution": {
     "iopub.execute_input": "2021-11-09T20:52:24.526161Z",
     "iopub.status.busy": "2021-11-09T20:52:24.525310Z",
     "iopub.status.idle": "2021-11-09T20:52:24.528070Z",
     "shell.execute_reply": "2021-11-09T20:52:24.527507Z",
     "shell.execute_reply.started": "2021-11-09T20:31:04.030667Z"
    },
    "papermill": {
     "duration": 0.054025,
     "end_time": "2021-11-09T20:52:24.528211",
     "exception": false,
     "start_time": "2021-11-09T20:52:24.474186",
     "status": "completed"
    },
    "tags": []
   },
   "outputs": [],
   "source": [
    "def train(model, iterator, optimizer, criterion, clip):\n",
    "    \n",
    "    model.train()\n",
    "    \n",
    "    epoch_loss = 0\n",
    "    \n",
    "    for i, batch in enumerate(iterator):\n",
    "        \n",
    "        src = batch.src\n",
    "        trg = batch.trg\n",
    "        \n",
    "        optimizer.zero_grad()\n",
    "        \n",
    "        output, _ = model(src, trg[:, :-1])\n",
    "        # <eos> is to be learned!\n",
    "        # trg      = [sos, x1, x2, x3, eos]\n",
    "        # trg[:-1] = [sos, x1, x2, x3]\n",
    "        # output   = [y1, y2, y3, eos]\n",
    "        # trg[1:]  = [x1, x2, x3, eos]\n",
    "        \n",
    "        # output.shape => (batch_size, trg_len - 1, output_dim)\n",
    "        # trg.shape => (batch_size, trg_len)\n",
    "        \n",
    "        output_dim = output.shape[-1]\n",
    "        \n",
    "        output = output.contiguous().view(-1, output_dim)\n",
    "        # output.shape => (batch_size * trg_len - 1, output_dim)\n",
    "        \n",
    "        trg = trg[:, 1:].contiguous().view(-1)\n",
    "        # trg.shape => (batch_size * trg_len - 1)\n",
    "        \n",
    "        loss = criterion(output, trg)\n",
    "        loss.backward()\n",
    "        \n",
    "        torch.nn.utils.clip_grad_norm_(model.parameters(), clip)\n",
    "        \n",
    "        optimizer.step()\n",
    "        \n",
    "        epoch_loss += loss.item()\n",
    "        \n",
    "    return epoch_loss / len(iterator)\n",
    "        "
   ]
  },
  {
   "cell_type": "markdown",
   "id": "878ae899",
   "metadata": {
    "papermill": {
     "duration": 0.04299,
     "end_time": "2021-11-09T20:52:24.613194",
     "exception": false,
     "start_time": "2021-11-09T20:52:24.570204",
     "status": "completed"
    },
    "tags": []
   },
   "source": [
    "## Evaluate Function"
   ]
  },
  {
   "cell_type": "code",
   "execution_count": 21,
   "id": "b4124d01",
   "metadata": {
    "execution": {
     "iopub.execute_input": "2021-11-09T20:52:24.707115Z",
     "iopub.status.busy": "2021-11-09T20:52:24.706393Z",
     "iopub.status.idle": "2021-11-09T20:52:24.708936Z",
     "shell.execute_reply": "2021-11-09T20:52:24.708446Z",
     "shell.execute_reply.started": "2021-11-09T20:31:07.982604Z"
    },
    "papermill": {
     "duration": 0.053914,
     "end_time": "2021-11-09T20:52:24.709047",
     "exception": false,
     "start_time": "2021-11-09T20:52:24.655133",
     "status": "completed"
    },
    "tags": []
   },
   "outputs": [],
   "source": [
    "def evaluate(model, iterator, criterion):\n",
    "    \n",
    "    model.eval()\n",
    "    \n",
    "    epoch_loss = 0\n",
    "    \n",
    "    with torch.no_grad():\n",
    "        \n",
    "        for i, batch in enumerate(iterator):\n",
    "\n",
    "            src = batch.src\n",
    "            trg = batch.trg\n",
    "\n",
    "            optimizer.zero_grad()\n",
    "\n",
    "            output, _ = model(src, trg[:, :-1])\n",
    "            # output.shape => (batch_size, trg_len - 1, output_dim)\n",
    "            # trg.shape => (batch_size, trg_len)\n",
    "\n",
    "            output_dim = output.shape[-1]\n",
    "\n",
    "            output = output.contiguous().view(-1, output_dim)\n",
    "            # output.shape => (batch_size * trg_len - 1, output_dim)\n",
    "\n",
    "            trg = trg[:, 1:].contiguous().view(-1)\n",
    "            # trg.shape => (batch_size * trg_len - 1)\n",
    "\n",
    "            loss = criterion(output, trg)\n",
    "            \n",
    "            epoch_loss += loss.item()\n",
    "\n",
    "    return epoch_loss / len(iterator)\n",
    "        "
   ]
  },
  {
   "cell_type": "code",
   "execution_count": 22,
   "id": "f1127c13",
   "metadata": {
    "execution": {
     "iopub.execute_input": "2021-11-09T20:52:24.797047Z",
     "iopub.status.busy": "2021-11-09T20:52:24.796296Z",
     "iopub.status.idle": "2021-11-09T20:52:24.798447Z",
     "shell.execute_reply": "2021-11-09T20:52:24.798901Z",
     "shell.execute_reply.started": "2021-11-09T20:31:08.376553Z"
    },
    "papermill": {
     "duration": 0.048507,
     "end_time": "2021-11-09T20:52:24.799036",
     "exception": false,
     "start_time": "2021-11-09T20:52:24.750529",
     "status": "completed"
    },
    "tags": []
   },
   "outputs": [],
   "source": [
    "def epoch_time(start_time, end_time):\n",
    "    elapsed_time = end_time - start_time\n",
    "    elapsed_mins = int(elapsed_time / 60)\n",
    "    elapsed_secs = int(elapsed_time - (elapsed_mins * 60))\n",
    "    return elapsed_mins, elapsed_secs"
   ]
  },
  {
   "cell_type": "code",
   "execution_count": 23,
   "id": "6241e760",
   "metadata": {
    "execution": {
     "iopub.execute_input": "2021-11-09T20:52:24.931510Z",
     "iopub.status.busy": "2021-11-09T20:52:24.926343Z",
     "iopub.status.idle": "2021-11-09T20:59:41.726799Z",
     "shell.execute_reply": "2021-11-09T20:59:41.727431Z",
     "shell.execute_reply.started": "2021-11-09T20:31:08.762654Z"
    },
    "papermill": {
     "duration": 436.886959,
     "end_time": "2021-11-09T20:59:41.727639",
     "exception": false,
     "start_time": "2021-11-09T20:52:24.840680",
     "status": "completed"
    },
    "tags": []
   },
   "outputs": [
    {
     "name": "stdout",
     "output_type": "stream",
     "text": [
      "Epoch: 01 | Time: 0m 34s\n",
      "\tTrain Loss: 4.306 | Train PPL:  74.108\n",
      "\t Val. Loss: 2.945 |  Val. PPL:  19.016\n",
      "Epoch: 02 | Time: 0m 28s\n",
      "\tTrain Loss: 2.981 | Train PPL:  19.716\n",
      "\t Val. Loss: 2.348 |  Val. PPL:  10.464\n",
      "Epoch: 03 | Time: 0m 28s\n",
      "\tTrain Loss: 2.554 | Train PPL:  12.854\n",
      "\t Val. Loss: 2.101 |  Val. PPL:   8.172\n",
      "Epoch: 04 | Time: 0m 28s\n",
      "\tTrain Loss: 2.321 | Train PPL:  10.188\n",
      "\t Val. Loss: 1.980 |  Val. PPL:   7.240\n",
      "Epoch: 05 | Time: 0m 28s\n",
      "\tTrain Loss: 2.170 | Train PPL:   8.762\n",
      "\t Val. Loss: 1.893 |  Val. PPL:   6.636\n",
      "Epoch: 06 | Time: 0m 28s\n",
      "\tTrain Loss: 2.058 | Train PPL:   7.833\n",
      "\t Val. Loss: 1.839 |  Val. PPL:   6.288\n",
      "Epoch: 07 | Time: 0m 28s\n",
      "\tTrain Loss: 1.970 | Train PPL:   7.174\n",
      "\t Val. Loss: 1.798 |  Val. PPL:   6.039\n",
      "Epoch: 08 | Time: 0m 28s\n",
      "\tTrain Loss: 1.900 | Train PPL:   6.683\n",
      "\t Val. Loss: 1.771 |  Val. PPL:   5.877\n",
      "Epoch: 09 | Time: 0m 28s\n",
      "\tTrain Loss: 1.836 | Train PPL:   6.274\n",
      "\t Val. Loss: 1.744 |  Val. PPL:   5.722\n",
      "Epoch: 10 | Time: 0m 28s\n",
      "\tTrain Loss: 1.784 | Train PPL:   5.954\n",
      "\t Val. Loss: 1.731 |  Val. PPL:   5.649\n",
      "Epoch: 11 | Time: 0m 28s\n",
      "\tTrain Loss: 1.741 | Train PPL:   5.700\n",
      "\t Val. Loss: 1.711 |  Val. PPL:   5.532\n",
      "Epoch: 12 | Time: 0m 28s\n",
      "\tTrain Loss: 1.699 | Train PPL:   5.466\n",
      "\t Val. Loss: 1.702 |  Val. PPL:   5.484\n",
      "Epoch: 13 | Time: 0m 28s\n",
      "\tTrain Loss: 1.658 | Train PPL:   5.249\n",
      "\t Val. Loss: 1.690 |  Val. PPL:   5.419\n",
      "Epoch: 14 | Time: 0m 28s\n",
      "\tTrain Loss: 1.622 | Train PPL:   5.063\n",
      "\t Val. Loss: 1.683 |  Val. PPL:   5.382\n",
      "Epoch: 15 | Time: 0m 28s\n",
      "\tTrain Loss: 1.587 | Train PPL:   4.887\n",
      "\t Val. Loss: 1.674 |  Val. PPL:   5.334\n"
     ]
    }
   ],
   "source": [
    "N_EPOCHS = 15\n",
    "CLIP = 0.1\n",
    "\n",
    "best_valid_loss = float('inf')\n",
    "\n",
    "for epoch in range(N_EPOCHS):\n",
    "    \n",
    "    start_time = time.time()\n",
    "    \n",
    "    train_loss = train(model, train_iterator, optimizer, criterion, CLIP)\n",
    "    valid_loss = evaluate(model, valid_iterator, criterion)\n",
    "    \n",
    "    end_time = time.time()\n",
    "    \n",
    "    epoch_mins, epoch_secs = epoch_time(start_time, end_time)\n",
    "    \n",
    "    if valid_loss < best_valid_loss:\n",
    "        best_valid_loss = valid_loss\n",
    "        torch.save(model.state_dict(), 'tut5-model.pt')\n",
    "    \n",
    "    print(f'Epoch: {epoch+1:02} | Time: {epoch_mins}m {epoch_secs}s')\n",
    "    print(f'\\tTrain Loss: {train_loss:.3f} | Train PPL: {math.exp(train_loss):7.3f}')\n",
    "    print(f'\\t Val. Loss: {valid_loss:.3f} |  Val. PPL: {math.exp(valid_loss):7.3f}')"
   ]
  },
  {
   "cell_type": "code",
   "execution_count": 24,
   "id": "673d0cb6",
   "metadata": {
    "execution": {
     "iopub.execute_input": "2021-11-09T20:59:41.828185Z",
     "iopub.status.busy": "2021-11-09T20:59:41.827032Z",
     "iopub.status.idle": "2021-11-09T20:59:42.223523Z",
     "shell.execute_reply": "2021-11-09T20:59:42.222923Z",
     "shell.execute_reply.started": "2021-11-09T20:31:37.321766Z"
    },
    "papermill": {
     "duration": 0.448843,
     "end_time": "2021-11-09T20:59:42.223656",
     "exception": false,
     "start_time": "2021-11-09T20:59:41.774813",
     "status": "completed"
    },
    "tags": []
   },
   "outputs": [
    {
     "name": "stdout",
     "output_type": "stream",
     "text": [
      "| Test Loss: 1.751 | Test PPL:   5.760 |\n"
     ]
    }
   ],
   "source": [
    "model.load_state_dict(torch.load('tut5-model.pt'))\n",
    "\n",
    "test_loss = evaluate(model, test_iterator, criterion)\n",
    "\n",
    "print(f'| Test Loss: {test_loss:.3f} | Test PPL: {math.exp(test_loss):7.3f} |')"
   ]
  },
  {
   "cell_type": "markdown",
   "id": "c7ec9691",
   "metadata": {
    "papermill": {
     "duration": 0.047389,
     "end_time": "2021-11-09T20:59:42.318794",
     "exception": false,
     "start_time": "2021-11-09T20:59:42.271405",
     "status": "completed"
    },
    "tags": []
   },
   "source": [
    "## Inference"
   ]
  },
  {
   "cell_type": "code",
   "execution_count": 25,
   "id": "b10d117c",
   "metadata": {
    "execution": {
     "iopub.execute_input": "2021-11-09T20:59:42.424980Z",
     "iopub.status.busy": "2021-11-09T20:59:42.423999Z",
     "iopub.status.idle": "2021-11-09T20:59:42.426184Z",
     "shell.execute_reply": "2021-11-09T20:59:42.426561Z",
     "shell.execute_reply.started": "2021-11-09T20:49:10.970000Z"
    },
    "papermill": {
     "duration": 0.060747,
     "end_time": "2021-11-09T20:59:42.426705",
     "exception": false,
     "start_time": "2021-11-09T20:59:42.365958",
     "status": "completed"
    },
    "tags": []
   },
   "outputs": [],
   "source": [
    "def translate_sentence(sentence, src_field, trg_field, model, device, max_len = 50):\n",
    "    \"\"\"\n",
    "        translate the given `sentence` in src lang to the trg lang.\n",
    "    \n",
    "    :param sentence: the sentence string in src lang\n",
    "    :param src_field: the SRC Field object\n",
    "    :param trg_field: the TRG Field object\n",
    "    :param model: the Seq2Seq model\n",
    "    :param device: gpu or cpu\n",
    "    :param max_len: the maximum length permitted for the trg sentence\n",
    "    \"\"\"\n",
    "    \n",
    "    model.eval()\n",
    "    \n",
    "    # Sentence --> tokens\n",
    "    if isinstance(sentence, str):\n",
    "        nlp = spcay.load('de_core_news_sm')\n",
    "        tokens = [token.text.lower() for token in nlp(sentence)]\n",
    "        \n",
    "    else:\n",
    "        tokens = [token.lower() for token in sentence]\n",
    "\n",
    "    # adding <sos> and <eos>\n",
    "    tokens = [src_field.init_token] + tokens + [src_field.eos_token]\n",
    "    \n",
    "    # Tokens --> list of indices, acc. to SRC vocab\n",
    "    src_indexes = [src_field.vocab.stoi[token] for token in tokens]\n",
    "    \n",
    "    src_tensor = torch.LongTensor(src_indexes).unsqueeze(0).to(device)\n",
    "    # src_tensor.shape => (1, src_len), where 1 = batch_size\n",
    "    \n",
    "    with torch.no_grad():\n",
    "        encoder_conved, encoder_combined = model.encoder(src_tensor)\n",
    "        \n",
    "    trg_indexes = [trg_field.vocab.stoi[trg_field.init_token]]\n",
    "    \n",
    "    for i in range(max_len):\n",
    "        \n",
    "        trg_tensor = torch.LongTensor(trg_indexes).unsqueeze(0).to(device)\n",
    "        \n",
    "        with torch.no_grad():\n",
    "            \n",
    "            output, attention = model.decoder(trg_tensor, encoder_conved, encoder_combined)\n",
    "            \n",
    "            pred_token = output.argmax(2)[:, -1].item()\n",
    "            # output.shape => (batch_size, trg_len so far = `i + 1` , hid_dim)\n",
    "            # argmax on 2nd dimension\n",
    "            # o/p = max prob. token for each token\n",
    "            # i.e j = 0th pos to .... to j = ith pos\n",
    "            # but we just want the last token, to feed in, for the next iteration\n",
    "            \n",
    "            trg_indexes.append(pred_token)\n",
    "\n",
    "        if pred_token == trg_field.vocab.stoi[trg_field.eos_token]:\n",
    "            break\n",
    "    \n",
    "    trg_tokens = [trg_field.vocab.itos[i] for i in trg_indexes]\n",
    "    \n",
    "    return trg_tokens[1:], attention"
   ]
  },
  {
   "cell_type": "code",
   "execution_count": 26,
   "id": "15e2c3c6",
   "metadata": {
    "execution": {
     "iopub.execute_input": "2021-11-09T20:59:42.525790Z",
     "iopub.status.busy": "2021-11-09T20:59:42.524943Z",
     "iopub.status.idle": "2021-11-09T20:59:42.532594Z",
     "shell.execute_reply": "2021-11-09T20:59:42.532140Z",
     "shell.execute_reply.started": "2021-11-09T20:43:44.047248Z"
    },
    "papermill": {
     "duration": 0.059646,
     "end_time": "2021-11-09T20:59:42.532708",
     "exception": false,
     "start_time": "2021-11-09T20:59:42.473062",
     "status": "completed"
    },
    "tags": []
   },
   "outputs": [],
   "source": [
    "def display_attention(sentence, translation, attention):\n",
    "    \n",
    "    fig = plt.figure(figsize=(10,10))\n",
    "    ax = fig.add_subplot(111)\n",
    "        \n",
    "    attention = attention.squeeze(0).cpu().detach().numpy()\n",
    "    \n",
    "    cax = ax.matshow(attention, cmap='bone')\n",
    "   \n",
    "    ax.tick_params(labelsize=15)\n",
    "    ax.set_xticklabels(['']+['<sos>']+[t.lower() for t in sentence]+['<eos>'], \n",
    "                       rotation=45)\n",
    "    ax.set_yticklabels(['']+translation)\n",
    "\n",
    "    ax.xaxis.set_major_locator(ticker.MultipleLocator(1))\n",
    "    ax.yaxis.set_major_locator(ticker.MultipleLocator(1))\n",
    "\n",
    "    plt.show()\n",
    "    plt.close()"
   ]
  },
  {
   "cell_type": "code",
   "execution_count": 27,
   "id": "9bfe592b",
   "metadata": {
    "execution": {
     "iopub.execute_input": "2021-11-09T20:59:42.632671Z",
     "iopub.status.busy": "2021-11-09T20:59:42.632032Z",
     "iopub.status.idle": "2021-11-09T20:59:42.635154Z",
     "shell.execute_reply": "2021-11-09T20:59:42.635792Z",
     "shell.execute_reply.started": "2021-11-09T20:43:44.441557Z"
    },
    "papermill": {
     "duration": 0.056678,
     "end_time": "2021-11-09T20:59:42.635974",
     "exception": false,
     "start_time": "2021-11-09T20:59:42.579296",
     "status": "completed"
    },
    "tags": []
   },
   "outputs": [
    {
     "name": "stdout",
     "output_type": "stream",
     "text": [
      "src = ['ein', 'kleines', 'mädchen', 'klettert', 'in', 'ein', 'spielhaus', 'aus', 'holz', '.']\n",
      "trg = ['a', 'little', 'girl', 'climbing', 'into', 'a', 'wooden', 'playhouse', '.']\n"
     ]
    }
   ],
   "source": [
    "example_idx = 2\n",
    "\n",
    "src = vars(train_data.examples[example_idx])['src']\n",
    "trg = vars(train_data.examples[example_idx])['trg']\n",
    "\n",
    "print(f'src = {src}')\n",
    "print(f'trg = {trg}')"
   ]
  },
  {
   "cell_type": "code",
   "execution_count": 28,
   "id": "8bb98d15",
   "metadata": {
    "execution": {
     "iopub.execute_input": "2021-11-09T20:59:42.736915Z",
     "iopub.status.busy": "2021-11-09T20:59:42.736367Z",
     "iopub.status.idle": "2021-11-09T20:59:42.803409Z",
     "shell.execute_reply": "2021-11-09T20:59:42.804014Z",
     "shell.execute_reply.started": "2021-11-09T20:49:14.204592Z"
    },
    "papermill": {
     "duration": 0.120009,
     "end_time": "2021-11-09T20:59:42.804209",
     "exception": false,
     "start_time": "2021-11-09T20:59:42.684200",
     "status": "completed"
    },
    "tags": []
   },
   "outputs": [
    {
     "name": "stdout",
     "output_type": "stream",
     "text": [
      "predicted trg = ['a', 'little', 'girl', 'climbing', 'in', 'a', 'playhouse', '.', '<eos>']\n"
     ]
    }
   ],
   "source": [
    "translation, attention = translate_sentence(src, SRC, TRG, model, device)\n",
    "\n",
    "print(f'predicted trg = {translation}')"
   ]
  },
  {
   "cell_type": "code",
   "execution_count": 29,
   "id": "8f79f386",
   "metadata": {
    "execution": {
     "iopub.execute_input": "2021-11-09T20:59:42.911414Z",
     "iopub.status.busy": "2021-11-09T20:59:42.901580Z",
     "iopub.status.idle": "2021-11-09T20:59:43.266410Z",
     "shell.execute_reply": "2021-11-09T20:59:43.265953Z",
     "shell.execute_reply.started": "2021-11-09T20:49:23.377884Z"
    },
    "papermill": {
     "duration": 0.414571,
     "end_time": "2021-11-09T20:59:43.266536",
     "exception": false,
     "start_time": "2021-11-09T20:59:42.851965",
     "status": "completed"
    },
    "tags": []
   },
   "outputs": [
    {
     "data": {
      "image/png": "[encoded data removed]",
      "text/plain": [
       "<Figure size 720x720 with 1 Axes>"
      ]
     },
     "metadata": {
      "needs_background": "light"
     },
     "output_type": "display_data"
    }
   ],
   "source": [
    "display_attention(src, translation, attention)"
   ]
  },
  {
   "cell_type": "code",
   "execution_count": 30,
   "id": "85bc1d1a",
   "metadata": {
    "execution": {
     "iopub.execute_input": "2021-11-09T20:59:43.370659Z",
     "iopub.status.busy": "2021-11-09T20:59:43.369831Z",
     "iopub.status.idle": "2021-11-09T20:59:43.373487Z",
     "shell.execute_reply": "2021-11-09T20:59:43.374097Z",
     "shell.execute_reply.started": "2021-11-09T20:49:30.574886Z"
    },
    "papermill": {
     "duration": 0.056982,
     "end_time": "2021-11-09T20:59:43.374279",
     "exception": false,
     "start_time": "2021-11-09T20:59:43.317297",
     "status": "completed"
    },
    "tags": []
   },
   "outputs": [
    {
     "name": "stdout",
     "output_type": "stream",
     "text": [
      "src = ['ein', 'junge', 'mit', 'kopfhörern', 'sitzt', 'auf', 'den', 'schultern', 'einer', 'frau', '.']\n",
      "trg = ['a', 'boy', 'wearing', 'headphones', 'sits', 'on', 'a', 'woman', \"'s\", 'shoulders', '.']\n"
     ]
    }
   ],
   "source": [
    "example_idx = 2\n",
    "\n",
    "src = vars(valid_data.examples[example_idx])['src']\n",
    "trg = vars(valid_data.examples[example_idx])['trg']\n",
    "\n",
    "print(f'src = {src}')\n",
    "print(f'trg = {trg}')"
   ]
  },
  {
   "cell_type": "code",
   "execution_count": 31,
   "id": "0713a71d",
   "metadata": {
    "execution": {
     "iopub.execute_input": "2021-11-09T20:59:43.475838Z",
     "iopub.status.busy": "2021-11-09T20:59:43.474993Z",
     "iopub.status.idle": "2021-11-09T20:59:43.562397Z",
     "shell.execute_reply": "2021-11-09T20:59:43.563156Z",
     "shell.execute_reply.started": "2021-11-09T20:49:38.625247Z"
    },
    "papermill": {
     "duration": 0.13992,
     "end_time": "2021-11-09T20:59:43.563355",
     "exception": false,
     "start_time": "2021-11-09T20:59:43.423435",
     "status": "completed"
    },
    "tags": []
   },
   "outputs": [
    {
     "name": "stdout",
     "output_type": "stream",
     "text": [
      "predicted trg = ['a', 'boy', 'with', 'headphones', 'sits', 'on', 'the', 'shoulders', 'of', 'a', 'woman', '.', '<eos>']\n"
     ]
    }
   ],
   "source": [
    "translation, attention = translate_sentence(src, SRC, TRG, model, device)\n",
    "\n",
    "print(f'predicted trg = {translation}')"
   ]
  },
  {
   "cell_type": "code",
   "execution_count": 32,
   "id": "25ef79c2",
   "metadata": {
    "execution": {
     "iopub.execute_input": "2021-11-09T20:59:43.684049Z",
     "iopub.status.busy": "2021-11-09T20:59:43.683189Z",
     "iopub.status.idle": "2021-11-09T20:59:44.042270Z",
     "shell.execute_reply": "2021-11-09T20:59:44.042736Z",
     "shell.execute_reply.started": "2021-11-09T20:49:46.309567Z"
    },
    "papermill": {
     "duration": 0.429403,
     "end_time": "2021-11-09T20:59:44.042908",
     "exception": false,
     "start_time": "2021-11-09T20:59:43.613505",
     "status": "completed"
    },
    "tags": []
   },
   "outputs": [
    {
     "data": {
      "image/png": "[encoded data removed]",
      "text/plain": [
       "<Figure size 720x720 with 1 Axes>"
      ]
     },
     "metadata": {
      "needs_background": "light"
     },
     "output_type": "display_data"
    }
   ],
   "source": [
    "display_attention(src, translation, attention)"
   ]
  },
  {
   "cell_type": "markdown",
   "id": "18934381",
   "metadata": {
    "papermill": {
     "duration": 0.050299,
     "end_time": "2021-11-09T20:59:44.144121",
     "exception": false,
     "start_time": "2021-11-09T20:59:44.093822",
     "status": "completed"
    },
    "tags": []
   },
   "source": [
    "## BLEU Score"
   ]
  },
  {
   "cell_type": "code",
   "execution_count": 33,
   "id": "72a48906",
   "metadata": {
    "execution": {
     "iopub.execute_input": "2021-11-09T20:59:44.252157Z",
     "iopub.status.busy": "2021-11-09T20:59:44.250416Z",
     "iopub.status.idle": "2021-11-09T20:59:44.252811Z",
     "shell.execute_reply": "2021-11-09T20:59:44.253240Z",
     "shell.execute_reply.started": "2021-11-09T20:50:22.878597Z"
    },
    "papermill": {
     "duration": 0.058918,
     "end_time": "2021-11-09T20:59:44.253376",
     "exception": false,
     "start_time": "2021-11-09T20:59:44.194458",
     "status": "completed"
    },
    "tags": []
   },
   "outputs": [],
   "source": [
    "from torchtext.data.metrics import bleu_score\n",
    "\n",
    "def calculate_bleu(data, src_field, trg_field, model, device, max_len = 50):\n",
    "    \n",
    "    trgs = []\n",
    "    pred_trgs = []\n",
    "    \n",
    "    for datum in data:\n",
    "        \n",
    "        src = vars(datum)['src']\n",
    "        trg = vars(datum)['trg']\n",
    "        \n",
    "        pred_trg, _ = translate_sentence(src, src_field, trg_field, model, device, max_len)\n",
    "        \n",
    "        #cut off <eos> token\n",
    "        pred_trg = pred_trg[:-1]\n",
    "        \n",
    "        pred_trgs.append(pred_trg)\n",
    "        trgs.append([trg])\n",
    "        \n",
    "    return bleu_score(pred_trgs, trgs)"
   ]
  },
  {
   "cell_type": "code",
   "execution_count": 34,
   "id": "ce42f95f",
   "metadata": {
    "execution": {
     "iopub.execute_input": "2021-11-09T20:59:44.365462Z",
     "iopub.status.busy": "2021-11-09T20:59:44.364580Z",
     "iopub.status.idle": "2021-11-09T21:01:06.396035Z",
     "shell.execute_reply": "2021-11-09T21:01:06.396477Z",
     "shell.execute_reply.started": "2021-11-09T20:50:42.932278Z"
    },
    "papermill": {
     "duration": 82.093718,
     "end_time": "2021-11-09T21:01:06.396625",
     "exception": false,
     "start_time": "2021-11-09T20:59:44.302907",
     "status": "completed"
    },
    "tags": []
   },
   "outputs": [
    {
     "name": "stdout",
     "output_type": "stream",
     "text": [
      "BLEU score = 36.41\n"
     ]
    }
   ],
   "source": [
    "bleu_score = calculate_bleu(test_data, SRC, TRG, model, device)\n",
    "\n",
    "print(f'BLEU score = {bleu_score*100:.2f}')"
   ]
  },
  {
   "cell_type": "code",
   "execution_count": null,
   "id": "ca27ab6d",
   "metadata": {
    "papermill": {
     "duration": 0.051206,
     "end_time": "2021-11-09T21:01:06.497007",
     "exception": false,
     "start_time": "2021-11-09T21:01:06.445801",
     "status": "completed"
    },
    "tags": []
   },
   "outputs": [],
   "source": []
  }
 ],
 "metadata": {
  "kernelspec": {
   "display_name": "Python 3",
   "language": "python",
   "name": "python3"
  },
  "language_info": {
   "codemirror_mode": {
    "name": "ipython",
    "version": 3
   },
   "file_extension": ".py",
   "mimetype": "text/x-python",
   "name": "python",
   "nbconvert_exporter": "python",
   "pygments_lexer": "ipython3",
   "version": "3.7.10"
  },
  "papermill": {
   "default_parameters": {},
   "duration": 584.603196,
   "end_time": "2021-11-09T21:01:10.106893",
   "environment_variables": {},
   "exception": null,
   "input_path": "__notebook__.ipynb",
   "output_path": "__notebook__.ipynb",
   "parameters": {},
   "start_time": "2021-11-09T20:51:25.503697",
   "version": "2.3.3"
  }
 },
 "nbformat": 4,
 "nbformat_minor": 5
}
