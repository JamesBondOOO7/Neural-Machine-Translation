{
 "cells": [
  {
   "cell_type": "markdown",
   "id": "26f2aa05",
   "metadata": {
    "_cell_guid": "b1076dfc-b9ad-4769-8c92-a6c4dae69d19",
    "_uuid": "8f2839f25d086af736a60e9eeb907d3b93b6e0e5",
    "papermill": {
     "duration": 0.031431,
     "end_time": "2021-11-03T20:07:58.309039",
     "exception": false,
     "start_time": "2021-11-03T20:07:58.277608",
     "status": "completed"
    },
    "tags": []
   },
   "source": [
    "## Packed Padded Sequences, Masking, Inference and BLEU"
   ]
  },
  {
   "cell_type": "code",
   "execution_count": 1,
   "id": "65991289",
   "metadata": {
    "execution": {
     "iopub.execute_input": "2021-11-03T20:07:58.382529Z",
     "iopub.status.busy": "2021-11-03T20:07:58.381775Z",
     "iopub.status.idle": "2021-11-03T20:08:08.756334Z",
     "shell.execute_reply": "2021-11-03T20:08:08.755508Z",
     "shell.execute_reply.started": "2021-11-03T20:02:31.918725Z"
    },
    "papermill": {
     "duration": 10.41527,
     "end_time": "2021-11-03T20:08:08.756511",
     "exception": false,
     "start_time": "2021-11-03T20:07:58.341241",
     "status": "completed"
    },
    "tags": []
   },
   "outputs": [],
   "source": [
    "import torch\n",
    "import torch.nn as nn\n",
    "import torch.optim as optim\n",
    "import torch.nn.functional as F\n",
    "\n",
    "from torchtext.legacy.datasets import Multi30k\n",
    "from torchtext.legacy.data import Field, BucketIterator\n",
    "\n",
    "import matplotlib.pyplot as plt\n",
    "import matplotlib.ticker as ticker\n",
    "\n",
    "import spacy\n",
    "import numpy as np\n",
    "\n",
    "import random\n",
    "import math\n",
    "import time\n",
    "\n",
    "import warnings\n",
    "warnings.simplefilter('ignore')"
   ]
  },
  {
   "cell_type": "code",
   "execution_count": 2,
   "id": "5f7df56e",
   "metadata": {
    "execution": {
     "iopub.execute_input": "2021-11-03T20:08:08.838101Z",
     "iopub.status.busy": "2021-11-03T20:08:08.837364Z",
     "iopub.status.idle": "2021-11-03T20:08:08.842485Z",
     "shell.execute_reply": "2021-11-03T20:08:08.842038Z",
     "shell.execute_reply.started": "2021-11-03T19:10:07.492583Z"
    },
    "papermill": {
     "duration": 0.039871,
     "end_time": "2021-11-03T20:08:08.842607",
     "exception": false,
     "start_time": "2021-11-03T20:08:08.802736",
     "status": "completed"
    },
    "tags": []
   },
   "outputs": [],
   "source": [
    "SEED = 1234\n",
    "\n",
    "random.seed(SEED)\n",
    "np.random.seed(SEED)\n",
    "torch.manual_seed(SEED)\n",
    "torch.backends.cudnn.deterministic = True"
   ]
  },
  {
   "cell_type": "code",
   "execution_count": 3,
   "id": "f566d90b",
   "metadata": {
    "execution": {
     "iopub.execute_input": "2021-11-03T20:08:08.908193Z",
     "iopub.status.busy": "2021-11-03T20:08:08.907368Z",
     "iopub.status.idle": "2021-11-03T20:08:26.165337Z",
     "shell.execute_reply": "2021-11-03T20:08:26.164838Z",
     "shell.execute_reply.started": "2021-11-03T19:10:07.501709Z"
    },
    "papermill": {
     "duration": 17.292241,
     "end_time": "2021-11-03T20:08:26.165466",
     "exception": false,
     "start_time": "2021-11-03T20:08:08.873225",
     "status": "completed"
    },
    "tags": []
   },
   "outputs": [
    {
     "name": "stdout",
     "output_type": "stream",
     "text": [
      "Collecting en-core-web-sm==3.1.0\n",
      "  Downloading https://github.com/explosion/spacy-models/releases/download/en_core_web_sm-3.1.0/en_core_web_sm-3.1.0-py3-none-any.whl (13.6 MB)\n",
      "Requirement already satisfied: spacy<3.2.0,>=3.1.0 in /opt/conda/lib/python3.7/site-packages (from en-core-web-sm==3.1.0) (3.1.3)\n",
      "Requirement already satisfied: spacy-legacy<3.1.0,>=3.0.8 in /opt/conda/lib/python3.7/site-packages (from spacy<3.2.0,>=3.1.0->en-core-web-sm==3.1.0) (3.0.8)\n",
      "Requirement already satisfied: cymem<2.1.0,>=2.0.2 in /opt/conda/lib/python3.7/site-packages (from spacy<3.2.0,>=3.1.0->en-core-web-sm==3.1.0) (2.0.6)\n",
      "Requirement already satisfied: wasabi<1.1.0,>=0.8.1 in /opt/conda/lib/python3.7/site-packages (from spacy<3.2.0,>=3.1.0->en-core-web-sm==3.1.0) (0.8.2)\n",
      "Requirement already satisfied: pathy>=0.3.5 in /opt/conda/lib/python3.7/site-packages (from spacy<3.2.0,>=3.1.0->en-core-web-sm==3.1.0) (0.6.1)\n",
      "Requirement already satisfied: typer<0.5.0,>=0.3.0 in /opt/conda/lib/python3.7/site-packages (from spacy<3.2.0,>=3.1.0->en-core-web-sm==3.1.0) (0.4.0)\n",
      "Requirement already satisfied: blis<0.8.0,>=0.4.0 in /opt/conda/lib/python3.7/site-packages (from spacy<3.2.0,>=3.1.0->en-core-web-sm==3.1.0) (0.7.5)\n",
      "Requirement already satisfied: packaging>=20.0 in /opt/conda/lib/python3.7/site-packages (from spacy<3.2.0,>=3.1.0->en-core-web-sm==3.1.0) (21.0)\n",
      "Requirement already satisfied: srsly<3.0.0,>=2.4.1 in /opt/conda/lib/python3.7/site-packages (from spacy<3.2.0,>=3.1.0->en-core-web-sm==3.1.0) (2.4.2)\n",
      "Requirement already satisfied: tqdm<5.0.0,>=4.38.0 in /opt/conda/lib/python3.7/site-packages (from spacy<3.2.0,>=3.1.0->en-core-web-sm==3.1.0) (4.62.3)\n",
      "Requirement already satisfied: catalogue<2.1.0,>=2.0.6 in /opt/conda/lib/python3.7/site-packages (from spacy<3.2.0,>=3.1.0->en-core-web-sm==3.1.0) (2.0.6)\n",
      "Requirement already satisfied: murmurhash<1.1.0,>=0.28.0 in /opt/conda/lib/python3.7/site-packages (from spacy<3.2.0,>=3.1.0->en-core-web-sm==3.1.0) (1.0.6)\n",
      "Requirement already satisfied: jinja2 in /opt/conda/lib/python3.7/site-packages (from spacy<3.2.0,>=3.1.0->en-core-web-sm==3.1.0) (3.0.2)\n",
      "Requirement already satisfied: numpy>=1.15.0 in /opt/conda/lib/python3.7/site-packages (from spacy<3.2.0,>=3.1.0->en-core-web-sm==3.1.0) (1.19.5)\n",
      "Requirement already satisfied: preshed<3.1.0,>=3.0.2 in /opt/conda/lib/python3.7/site-packages (from spacy<3.2.0,>=3.1.0->en-core-web-sm==3.1.0) (3.0.6)\n",
      "Requirement already satisfied: requests<3.0.0,>=2.13.0 in /opt/conda/lib/python3.7/site-packages (from spacy<3.2.0,>=3.1.0->en-core-web-sm==3.1.0) (2.25.1)\n",
      "Requirement already satisfied: typing-extensions<4.0.0.0,>=3.7.4 in /opt/conda/lib/python3.7/site-packages (from spacy<3.2.0,>=3.1.0->en-core-web-sm==3.1.0) (3.10.0.2)\n",
      "Requirement already satisfied: thinc<8.1.0,>=8.0.9 in /opt/conda/lib/python3.7/site-packages (from spacy<3.2.0,>=3.1.0->en-core-web-sm==3.1.0) (8.0.11)\n",
      "Requirement already satisfied: setuptools in /opt/conda/lib/python3.7/site-packages (from spacy<3.2.0,>=3.1.0->en-core-web-sm==3.1.0) (58.0.4)\n",
      "Requirement already satisfied: pydantic!=1.8,!=1.8.1,<1.9.0,>=1.7.4 in /opt/conda/lib/python3.7/site-packages (from spacy<3.2.0,>=3.1.0->en-core-web-sm==3.1.0) (1.8.2)\n",
      "Requirement already satisfied: zipp>=0.5 in /opt/conda/lib/python3.7/site-packages (from catalogue<2.1.0,>=2.0.6->spacy<3.2.0,>=3.1.0->en-core-web-sm==3.1.0) (3.5.0)\n",
      "Requirement already satisfied: pyparsing>=2.0.2 in /opt/conda/lib/python3.7/site-packages (from packaging>=20.0->spacy<3.2.0,>=3.1.0->en-core-web-sm==3.1.0) (2.4.7)\n",
      "Requirement already satisfied: smart-open<6.0.0,>=5.0.0 in /opt/conda/lib/python3.7/site-packages (from pathy>=0.3.5->spacy<3.2.0,>=3.1.0->en-core-web-sm==3.1.0) (5.2.1)\n",
      "Requirement already satisfied: certifi>=2017.4.17 in /opt/conda/lib/python3.7/site-packages (from requests<3.0.0,>=2.13.0->spacy<3.2.0,>=3.1.0->en-core-web-sm==3.1.0) (2021.10.8)\n",
      "Requirement already satisfied: idna<3,>=2.5 in /opt/conda/lib/python3.7/site-packages (from requests<3.0.0,>=2.13.0->spacy<3.2.0,>=3.1.0->en-core-web-sm==3.1.0) (2.10)\n",
      "Requirement already satisfied: chardet<5,>=3.0.2 in /opt/conda/lib/python3.7/site-packages (from requests<3.0.0,>=2.13.0->spacy<3.2.0,>=3.1.0->en-core-web-sm==3.1.0) (4.0.0)\n",
      "Requirement already satisfied: urllib3<1.27,>=1.21.1 in /opt/conda/lib/python3.7/site-packages (from requests<3.0.0,>=2.13.0->spacy<3.2.0,>=3.1.0->en-core-web-sm==3.1.0) (1.26.6)\n",
      "Requirement already satisfied: click<9.0.0,>=7.1.1 in /opt/conda/lib/python3.7/site-packages (from typer<0.5.0,>=0.3.0->spacy<3.2.0,>=3.1.0->en-core-web-sm==3.1.0) (8.0.1)\n",
      "Requirement already satisfied: importlib-metadata in /opt/conda/lib/python3.7/site-packages (from click<9.0.0,>=7.1.1->typer<0.5.0,>=0.3.0->spacy<3.2.0,>=3.1.0->en-core-web-sm==3.1.0) (4.8.1)\n",
      "Requirement already satisfied: MarkupSafe>=2.0 in /opt/conda/lib/python3.7/site-packages (from jinja2->spacy<3.2.0,>=3.1.0->en-core-web-sm==3.1.0) (2.0.1)\n"
     ]
    },
    {
     "name": "stderr",
     "output_type": "stream",
     "text": [
      "WARNING: Running pip as the 'root' user can result in broken permissions and conflicting behaviour with the system package manager. It is recommended to use a virtual environment instead: https://pip.pypa.io/warnings/venv\n"
     ]
    },
    {
     "name": "stdout",
     "output_type": "stream",
     "text": [
      "\u001b[38;5;2m✔ Download and installation successful\u001b[0m\n",
      "You can now load the package via spacy.load('en_core_web_sm')\n",
      "Collecting de-core-news-sm==3.1.0\n",
      "  Downloading https://github.com/explosion/spacy-models/releases/download/de_core_news_sm-3.1.0/de_core_news_sm-3.1.0-py3-none-any.whl (18.8 MB)\n",
      "Requirement already satisfied: spacy<3.2.0,>=3.1.0 in /opt/conda/lib/python3.7/site-packages (from de-core-news-sm==3.1.0) (3.1.3)\n",
      "Requirement already satisfied: setuptools in /opt/conda/lib/python3.7/site-packages (from spacy<3.2.0,>=3.1.0->de-core-news-sm==3.1.0) (58.0.4)\n",
      "Requirement already satisfied: pydantic!=1.8,!=1.8.1,<1.9.0,>=1.7.4 in /opt/conda/lib/python3.7/site-packages (from spacy<3.2.0,>=3.1.0->de-core-news-sm==3.1.0) (1.8.2)\n",
      "Requirement already satisfied: srsly<3.0.0,>=2.4.1 in /opt/conda/lib/python3.7/site-packages (from spacy<3.2.0,>=3.1.0->de-core-news-sm==3.1.0) (2.4.2)\n",
      "Requirement already satisfied: catalogue<2.1.0,>=2.0.6 in /opt/conda/lib/python3.7/site-packages (from spacy<3.2.0,>=3.1.0->de-core-news-sm==3.1.0) (2.0.6)\n",
      "Requirement already satisfied: thinc<8.1.0,>=8.0.9 in /opt/conda/lib/python3.7/site-packages (from spacy<3.2.0,>=3.1.0->de-core-news-sm==3.1.0) (8.0.11)\n",
      "Requirement already satisfied: cymem<2.1.0,>=2.0.2 in /opt/conda/lib/python3.7/site-packages (from spacy<3.2.0,>=3.1.0->de-core-news-sm==3.1.0) (2.0.6)\n",
      "Requirement already satisfied: typer<0.5.0,>=0.3.0 in /opt/conda/lib/python3.7/site-packages (from spacy<3.2.0,>=3.1.0->de-core-news-sm==3.1.0) (0.4.0)\n",
      "Requirement already satisfied: typing-extensions<4.0.0.0,>=3.7.4 in /opt/conda/lib/python3.7/site-packages (from spacy<3.2.0,>=3.1.0->de-core-news-sm==3.1.0) (3.10.0.2)\n",
      "Requirement already satisfied: jinja2 in /opt/conda/lib/python3.7/site-packages (from spacy<3.2.0,>=3.1.0->de-core-news-sm==3.1.0) (3.0.2)\n",
      "Requirement already satisfied: tqdm<5.0.0,>=4.38.0 in /opt/conda/lib/python3.7/site-packages (from spacy<3.2.0,>=3.1.0->de-core-news-sm==3.1.0) (4.62.3)\n",
      "Requirement already satisfied: wasabi<1.1.0,>=0.8.1 in /opt/conda/lib/python3.7/site-packages (from spacy<3.2.0,>=3.1.0->de-core-news-sm==3.1.0) (0.8.2)\n",
      "Requirement already satisfied: packaging>=20.0 in /opt/conda/lib/python3.7/site-packages (from spacy<3.2.0,>=3.1.0->de-core-news-sm==3.1.0) (21.0)\n",
      "Requirement already satisfied: spacy-legacy<3.1.0,>=3.0.8 in /opt/conda/lib/python3.7/site-packages (from spacy<3.2.0,>=3.1.0->de-core-news-sm==3.1.0) (3.0.8)\n",
      "Requirement already satisfied: preshed<3.1.0,>=3.0.2 in /opt/conda/lib/python3.7/site-packages (from spacy<3.2.0,>=3.1.0->de-core-news-sm==3.1.0) (3.0.6)\n",
      "Requirement already satisfied: murmurhash<1.1.0,>=0.28.0 in /opt/conda/lib/python3.7/site-packages (from spacy<3.2.0,>=3.1.0->de-core-news-sm==3.1.0) (1.0.6)\n",
      "Requirement already satisfied: pathy>=0.3.5 in /opt/conda/lib/python3.7/site-packages (from spacy<3.2.0,>=3.1.0->de-core-news-sm==3.1.0) (0.6.1)\n",
      "Requirement already satisfied: requests<3.0.0,>=2.13.0 in /opt/conda/lib/python3.7/site-packages (from spacy<3.2.0,>=3.1.0->de-core-news-sm==3.1.0) (2.25.1)\n",
      "Requirement already satisfied: numpy>=1.15.0 in /opt/conda/lib/python3.7/site-packages (from spacy<3.2.0,>=3.1.0->de-core-news-sm==3.1.0) (1.19.5)\n",
      "Requirement already satisfied: blis<0.8.0,>=0.4.0 in /opt/conda/lib/python3.7/site-packages (from spacy<3.2.0,>=3.1.0->de-core-news-sm==3.1.0) (0.7.5)\n",
      "Requirement already satisfied: zipp>=0.5 in /opt/conda/lib/python3.7/site-packages (from catalogue<2.1.0,>=2.0.6->spacy<3.2.0,>=3.1.0->de-core-news-sm==3.1.0) (3.5.0)\n",
      "Requirement already satisfied: pyparsing>=2.0.2 in /opt/conda/lib/python3.7/site-packages (from packaging>=20.0->spacy<3.2.0,>=3.1.0->de-core-news-sm==3.1.0) (2.4.7)\n",
      "Requirement already satisfied: smart-open<6.0.0,>=5.0.0 in /opt/conda/lib/python3.7/site-packages (from pathy>=0.3.5->spacy<3.2.0,>=3.1.0->de-core-news-sm==3.1.0) (5.2.1)\n",
      "Requirement already satisfied: idna<3,>=2.5 in /opt/conda/lib/python3.7/site-packages (from requests<3.0.0,>=2.13.0->spacy<3.2.0,>=3.1.0->de-core-news-sm==3.1.0) (2.10)\n",
      "Requirement already satisfied: certifi>=2017.4.17 in /opt/conda/lib/python3.7/site-packages (from requests<3.0.0,>=2.13.0->spacy<3.2.0,>=3.1.0->de-core-news-sm==3.1.0) (2021.10.8)\n",
      "Requirement already satisfied: urllib3<1.27,>=1.21.1 in /opt/conda/lib/python3.7/site-packages (from requests<3.0.0,>=2.13.0->spacy<3.2.0,>=3.1.0->de-core-news-sm==3.1.0) (1.26.6)\n",
      "Requirement already satisfied: chardet<5,>=3.0.2 in /opt/conda/lib/python3.7/site-packages (from requests<3.0.0,>=2.13.0->spacy<3.2.0,>=3.1.0->de-core-news-sm==3.1.0) (4.0.0)\n",
      "Requirement already satisfied: click<9.0.0,>=7.1.1 in /opt/conda/lib/python3.7/site-packages (from typer<0.5.0,>=0.3.0->spacy<3.2.0,>=3.1.0->de-core-news-sm==3.1.0) (8.0.1)\n",
      "Requirement already satisfied: importlib-metadata in /opt/conda/lib/python3.7/site-packages (from click<9.0.0,>=7.1.1->typer<0.5.0,>=0.3.0->spacy<3.2.0,>=3.1.0->de-core-news-sm==3.1.0) (4.8.1)\n",
      "Requirement already satisfied: MarkupSafe>=2.0 in /opt/conda/lib/python3.7/site-packages (from jinja2->spacy<3.2.0,>=3.1.0->de-core-news-sm==3.1.0) (2.0.1)\n",
      "Installing collected packages: de-core-news-sm\n",
      "Successfully installed de-core-news-sm-3.1.0\n",
      "\u001b[38;5;2m✔ Download and installation successful\u001b[0m\n",
      "You can now load the package via spacy.load('de_core_news_sm')\n"
     ]
    },
    {
     "name": "stderr",
     "output_type": "stream",
     "text": [
      "WARNING: Running pip as the 'root' user can result in broken permissions and conflicting behaviour with the system package manager. It is recommended to use a virtual environment instead: https://pip.pypa.io/warnings/venv\n"
     ]
    }
   ],
   "source": [
    "import spacy.cli \n",
    "spacy.cli.download(\"en_core_web_sm\")\n",
    "spacy.cli.download(\"de_core_news_sm\")"
   ]
  },
  {
   "cell_type": "code",
   "execution_count": 4,
   "id": "21d4fdab",
   "metadata": {
    "execution": {
     "iopub.execute_input": "2021-11-03T20:08:26.241008Z",
     "iopub.status.busy": "2021-11-03T20:08:26.238743Z",
     "iopub.status.idle": "2021-11-03T20:08:28.834225Z",
     "shell.execute_reply": "2021-11-03T20:08:28.834749Z",
     "shell.execute_reply.started": "2021-11-03T19:10:26.483026Z"
    },
    "papermill": {
     "duration": 2.634612,
     "end_time": "2021-11-03T20:08:28.834921",
     "exception": false,
     "start_time": "2021-11-03T20:08:26.200309",
     "status": "completed"
    },
    "tags": []
   },
   "outputs": [],
   "source": [
    "# Creating tokenizers\n",
    "spacy_de = spacy.load('de_core_news_sm')\n",
    "spacy_en = spacy.load('en_core_web_sm')"
   ]
  },
  {
   "cell_type": "code",
   "execution_count": 5,
   "id": "7bd1f751",
   "metadata": {
    "execution": {
     "iopub.execute_input": "2021-11-03T20:08:28.910611Z",
     "iopub.status.busy": "2021-11-03T20:08:28.909796Z",
     "iopub.status.idle": "2021-11-03T20:08:28.912418Z",
     "shell.execute_reply": "2021-11-03T20:08:28.911957Z",
     "shell.execute_reply.started": "2021-11-03T19:10:29.976843Z"
    },
    "papermill": {
     "duration": 0.042202,
     "end_time": "2021-11-03T20:08:28.912530",
     "exception": false,
     "start_time": "2021-11-03T20:08:28.870328",
     "status": "completed"
    },
    "tags": []
   },
   "outputs": [],
   "source": [
    "def tokenize_de(text):\n",
    "    \"\"\"\n",
    "    Tokenizes German text from a string into a list of strings (tokens)\n",
    "    \n",
    "    :param text: the german sentence\n",
    "    \"\"\"\n",
    "    \n",
    "    return [tok.text for tok in spacy_de.tokenizer(text)]\n",
    "\n",
    "def tokenize_en(text):\n",
    "    \"\"\"\n",
    "    Tokenizes English text from a string into a list of strings (tokens)\n",
    "    \n",
    "    :param text: the english sentence\n",
    "    \"\"\"\n",
    "    \n",
    "    return [tok.text for tok in spacy_en.tokenizer(text)]"
   ]
  },
  {
   "cell_type": "code",
   "execution_count": 6,
   "id": "7de56f31",
   "metadata": {
    "execution": {
     "iopub.execute_input": "2021-11-03T20:08:29.031980Z",
     "iopub.status.busy": "2021-11-03T20:08:29.031121Z",
     "iopub.status.idle": "2021-11-03T20:08:29.033667Z",
     "shell.execute_reply": "2021-11-03T20:08:29.033239Z",
     "shell.execute_reply.started": "2021-11-03T19:10:29.984529Z"
    },
    "papermill": {
     "duration": 0.086894,
     "end_time": "2021-11-03T20:08:29.033793",
     "exception": false,
     "start_time": "2021-11-03T20:08:28.946899",
     "status": "completed"
    },
    "tags": []
   },
   "outputs": [],
   "source": [
    "# Source is in German and Target is in English\n",
    "\n",
    "SRC = Field(tokenize = tokenize_de,\n",
    "            init_token = '<sos>',\n",
    "            eos_token = '<eos>',\n",
    "            lower = True,\n",
    "            include_lengths = True)\n",
    "\n",
    "TRG = Field(tokenize = tokenize_en,\n",
    "            init_token = '<sos>',\n",
    "            eos_token = '<eos>',\n",
    "            lower = True)"
   ]
  },
  {
   "cell_type": "code",
   "execution_count": 7,
   "id": "31693936",
   "metadata": {
    "execution": {
     "iopub.execute_input": "2021-11-03T20:08:29.106607Z",
     "iopub.status.busy": "2021-11-03T20:08:29.105854Z",
     "iopub.status.idle": "2021-11-03T20:08:40.073542Z",
     "shell.execute_reply": "2021-11-03T20:08:40.073031Z",
     "shell.execute_reply.started": "2021-11-03T19:10:29.998062Z"
    },
    "papermill": {
     "duration": 11.00558,
     "end_time": "2021-11-03T20:08:40.073710",
     "exception": false,
     "start_time": "2021-11-03T20:08:29.068130",
     "status": "completed"
    },
    "tags": []
   },
   "outputs": [
    {
     "name": "stdout",
     "output_type": "stream",
     "text": [
      "downloading training.tar.gz\n"
     ]
    },
    {
     "name": "stderr",
     "output_type": "stream",
     "text": [
      "training.tar.gz: 100%|██████████| 1.21M/1.21M [00:02<00:00, 567kB/s]\n"
     ]
    },
    {
     "name": "stdout",
     "output_type": "stream",
     "text": [
      "downloading validation.tar.gz\n"
     ]
    },
    {
     "name": "stderr",
     "output_type": "stream",
     "text": [
      "validation.tar.gz: 100%|██████████| 46.3k/46.3k [00:00<00:00, 174kB/s]\n"
     ]
    },
    {
     "name": "stdout",
     "output_type": "stream",
     "text": [
      "downloading mmt_task1_test2016.tar.gz\n"
     ]
    },
    {
     "name": "stderr",
     "output_type": "stream",
     "text": [
      "mmt_task1_test2016.tar.gz: 100%|██████████| 66.2k/66.2k [00:00<00:00, 166kB/s]\n"
     ]
    }
   ],
   "source": [
    "# Download and load the train, valid and test data\n",
    "\n",
    "train_data, valid_data, test_data = Multi30k.splits(\n",
    "    exts = ('.de', '.en'),\n",
    "    fields = (SRC, TRG)\n",
    ")"
   ]
  },
  {
   "cell_type": "code",
   "execution_count": 8,
   "id": "611808c9",
   "metadata": {
    "execution": {
     "iopub.execute_input": "2021-11-03T20:08:40.164117Z",
     "iopub.status.busy": "2021-11-03T20:08:40.163253Z",
     "iopub.status.idle": "2021-11-03T20:08:40.170152Z",
     "shell.execute_reply": "2021-11-03T20:08:40.169720Z",
     "shell.execute_reply.started": "2021-11-03T19:10:40.250562Z"
    },
    "papermill": {
     "duration": 0.052984,
     "end_time": "2021-11-03T20:08:40.170266",
     "exception": false,
     "start_time": "2021-11-03T20:08:40.117282",
     "status": "completed"
    },
    "tags": []
   },
   "outputs": [
    {
     "name": "stdout",
     "output_type": "stream",
     "text": [
      "Number of training examples: 29000\n",
      "Number of validation examples: 1014\n",
      "Number of testing examples: 1000\n",
      "{'src': ['zwei', 'junge', 'weiße', 'männer', 'sind', 'im', 'freien', 'in', 'der', 'nähe', 'vieler', 'büsche', '.'], 'trg': ['two', 'young', ',', 'white', 'males', 'are', 'outside', 'near', 'many', 'bushes', '.']}\n"
     ]
    }
   ],
   "source": [
    "# Verifying\n",
    "\n",
    "print(f\"Number of training examples: {len(train_data.examples)}\")\n",
    "print(f\"Number of validation examples: {len(valid_data.examples)}\")\n",
    "print(f\"Number of testing examples: {len(test_data.examples)}\")\n",
    "\n",
    "print(vars(train_data.examples[0]))"
   ]
  },
  {
   "cell_type": "code",
   "execution_count": 9,
   "id": "7e2cb79a",
   "metadata": {
    "execution": {
     "iopub.execute_input": "2021-11-03T20:08:40.295289Z",
     "iopub.status.busy": "2021-11-03T20:08:40.274754Z",
     "iopub.status.idle": "2021-11-03T20:08:40.537073Z",
     "shell.execute_reply": "2021-11-03T20:08:40.536351Z",
     "shell.execute_reply.started": "2021-11-03T19:10:40.257064Z"
    },
    "papermill": {
     "duration": 0.323247,
     "end_time": "2021-11-03T20:08:40.537214",
     "exception": false,
     "start_time": "2021-11-03T20:08:40.213967",
     "status": "completed"
    },
    "tags": []
   },
   "outputs": [],
   "source": [
    "# building vocabulary\n",
    "# min_freq => min threshold to include the word in the vocab\n",
    "\n",
    "SRC.build_vocab(train_data, min_freq=2)\n",
    "TRG.build_vocab(train_data, min_freq=2)"
   ]
  },
  {
   "cell_type": "code",
   "execution_count": 10,
   "id": "3cce7b9f",
   "metadata": {
    "execution": {
     "iopub.execute_input": "2021-11-03T20:08:40.644888Z",
     "iopub.status.busy": "2021-11-03T20:08:40.643777Z",
     "iopub.status.idle": "2021-11-03T20:08:40.648497Z",
     "shell.execute_reply": "2021-11-03T20:08:40.647977Z",
     "shell.execute_reply.started": "2021-11-03T19:10:40.597074Z"
    },
    "papermill": {
     "duration": 0.059842,
     "end_time": "2021-11-03T20:08:40.648632",
     "exception": false,
     "start_time": "2021-11-03T20:08:40.588790",
     "status": "completed"
    },
    "tags": []
   },
   "outputs": [
    {
     "name": "stdout",
     "output_type": "stream",
     "text": [
      "Unique tokens in source (de) vocabulary: 7853\n",
      "Unique tokens in target (en) vocabulary: 5893\n"
     ]
    }
   ],
   "source": [
    "# Unique Tokens\n",
    "print(f\"Unique tokens in source (de) vocabulary: {len(SRC.vocab)}\")\n",
    "print(f\"Unique tokens in target (en) vocabulary: {len(TRG.vocab)}\")"
   ]
  },
  {
   "cell_type": "markdown",
   "id": "665ac057",
   "metadata": {
    "papermill": {
     "duration": 0.043697,
     "end_time": "2021-11-03T20:08:40.739032",
     "exception": false,
     "start_time": "2021-11-03T20:08:40.695335",
     "status": "completed"
    },
    "tags": []
   },
   "source": [
    "## Creating Iterators"
   ]
  },
  {
   "cell_type": "code",
   "execution_count": 11,
   "id": "f6f8c59d",
   "metadata": {
    "execution": {
     "iopub.execute_input": "2021-11-03T20:08:40.832864Z",
     "iopub.status.busy": "2021-11-03T20:08:40.831987Z",
     "iopub.status.idle": "2021-11-03T20:08:40.834261Z",
     "shell.execute_reply": "2021-11-03T20:08:40.834713Z",
     "shell.execute_reply.started": "2021-11-03T19:10:40.603520Z"
    },
    "papermill": {
     "duration": 0.05243,
     "end_time": "2021-11-03T20:08:40.834857",
     "exception": false,
     "start_time": "2021-11-03T20:08:40.782427",
     "status": "completed"
    },
    "tags": []
   },
   "outputs": [],
   "source": [
    "device = torch.device('cuda' if torch.cuda.is_available() else 'cpu')"
   ]
  },
  {
   "cell_type": "code",
   "execution_count": 12,
   "id": "da154603",
   "metadata": {
    "execution": {
     "iopub.execute_input": "2021-11-03T20:08:40.926792Z",
     "iopub.status.busy": "2021-11-03T20:08:40.926142Z",
     "iopub.status.idle": "2021-11-03T20:08:40.928670Z",
     "shell.execute_reply": "2021-11-03T20:08:40.929084Z",
     "shell.execute_reply.started": "2021-11-03T19:10:40.621639Z"
    },
    "papermill": {
     "duration": 0.050808,
     "end_time": "2021-11-03T20:08:40.929213",
     "exception": false,
     "start_time": "2021-11-03T20:08:40.878405",
     "status": "completed"
    },
    "tags": []
   },
   "outputs": [],
   "source": [
    "BATCH_SIZE = 128\n",
    "\n",
    "train_iterator, valid_iterator, test_iterator = BucketIterator.splits(\n",
    "    (train_data, valid_data, test_data),\n",
    "    batch_size = BATCH_SIZE,\n",
    "    sort_within_batch = True,\n",
    "    sort_key = lambda x : len(x.src),\n",
    "    device = device\n",
    ")"
   ]
  },
  {
   "cell_type": "markdown",
   "id": "be7cd213",
   "metadata": {
    "papermill": {
     "duration": 0.042482,
     "end_time": "2021-11-03T20:08:41.015101",
     "exception": false,
     "start_time": "2021-11-03T20:08:40.972619",
     "status": "completed"
    },
    "tags": []
   },
   "source": [
    "## Building the Seq2Seq Model"
   ]
  },
  {
   "cell_type": "markdown",
   "id": "de7d2df3",
   "metadata": {
    "papermill": {
     "duration": 0.04247,
     "end_time": "2021-11-03T20:08:41.100594",
     "exception": false,
     "start_time": "2021-11-03T20:08:41.058124",
     "status": "completed"
    },
    "tags": []
   },
   "source": [
    "### Encoder"
   ]
  },
  {
   "cell_type": "code",
   "execution_count": 13,
   "id": "796febf3",
   "metadata": {
    "execution": {
     "iopub.execute_input": "2021-11-03T20:08:41.196868Z",
     "iopub.status.busy": "2021-11-03T20:08:41.195994Z",
     "iopub.status.idle": "2021-11-03T20:08:41.198020Z",
     "shell.execute_reply": "2021-11-03T20:08:41.198408Z",
     "shell.execute_reply.started": "2021-11-03T19:15:33.451635Z"
    },
    "papermill": {
     "duration": 0.05531,
     "end_time": "2021-11-03T20:08:41.198538",
     "exception": false,
     "start_time": "2021-11-03T20:08:41.143228",
     "status": "completed"
    },
    "tags": []
   },
   "outputs": [],
   "source": [
    "class Encoder(nn.Module):\n",
    "    \n",
    "    def __init__(self, input_dim, emb_dim, enc_hid_dim, dec_hid_dim, dropout):\n",
    "        \"\"\"\n",
    "        :param input_dim: It is the size/dimensionality of the one-hot vectors that will be input to the encoder. \n",
    "                        This is equal to the input (source) vocabulary size.\n",
    "        :param emb_dim: It is the dimensionality of the embedding layer. \n",
    "                        This layer converts the one-hot vectors into dense vectors with emb_dim dimensions.\n",
    "        :param enc_hid_dim: It is the dimensionality of the hidden state of the encoder\n",
    "        :param dec_hid_dim: It is the dimensionality of the hidden state of the decoder\n",
    "                        Actually, we will convert the output vectors from the GRU, to a \n",
    "                        Linear Layer, so that its dimension matches with that of the decoder\n",
    "        :param dropout: It is the amount of dropout to use. \n",
    "                        This is a regularization parameter to prevent overfitting.\n",
    "        \"\"\"\n",
    "        \n",
    "        super().__init__()\n",
    "        \n",
    "        self.embedding = nn.Embedding(input_dim, emb_dim)\n",
    "        \n",
    "        self.rnn = nn.GRU(emb_dim, enc_hid_dim, bidirectional=True)\n",
    "        \n",
    "        self.fc = nn.Linear(enc_hid_dim * 2, dec_hid_dim)\n",
    "        \n",
    "        self.dropout = nn.Dropout(dropout)\n",
    "        \n",
    "    def forward(self, src, src_len):\n",
    "        \n",
    "        # src.shape => (src_len, batch_size)\n",
    "        # src_len => (batch_size)\n",
    "        \n",
    "        embedded = self.dropout(self.embedding(src))\n",
    "        # embedded.shape => (src_len, batch_size, emb_dim)\n",
    "        \n",
    "        # need to explicitly put lengths on cpu\n",
    "        packed_embedded = nn.utils.rnn.pack_padded_sequence(embedded, src_len.to('cpu'))\n",
    "        \n",
    "        packed_outputs, hidden = self.rnn(packed_embedded)\n",
    "        # packed_outputs is a PACKED sequence containing all hidden state\n",
    "        # hidden is now from the final non-padded element in the batch\n",
    "        \n",
    "        outputs, _ = nn.utils.rnn.pad_packed_sequence(packed_outputs)\n",
    "        # outputs is now a NON-PACKED sequence, all hidden states obtained when the input\n",
    "        # is a pad token are all zeros\n",
    "        \n",
    "        # outputs.shape => (src_len, batch_size, enc_hid_dim * n_directions)\n",
    "        # hidden.shape => (n_layers * n_directions, batch_size, enc_hid_dim)\n",
    "        \n",
    "        # here, n_directions = 2\n",
    "        # hidden is stacked as [forward1, backward1, forward2, backward2, ..., forward_batch_size, backward_batch_size]\n",
    "        # outputs are always from the last layer\n",
    "        \n",
    "        # hidden[-2, :, :] --> last of the forwards RNN\n",
    "        # hidden[-1, :, :] --> last of the backwards RNN\n",
    "        \n",
    "        # initial decoder hidden = final hidden state of the forwards and backwards FOR ALL BATCHES\n",
    "        # encoder RNNs fed through a linear layer\n",
    "        hidden = torch.tanh(\n",
    "            self.fc(\n",
    "                torch.cat((hidden[-2, :, :], hidden[-1, :, :]),\n",
    "                dim = 1)\n",
    "            )\n",
    "        )\n",
    "        \n",
    "        # outputs.shape => (src_len, batch_size, enc_hid_dim * 2)\n",
    "        # hidden.shape => (batch_size, dec_hid_dim)\n",
    "        \n",
    "        return outputs, hidden"
   ]
  },
  {
   "cell_type": "markdown",
   "id": "98bc7dcf",
   "metadata": {
    "papermill": {
     "duration": 0.042672,
     "end_time": "2021-11-03T20:08:41.284599",
     "exception": false,
     "start_time": "2021-11-03T20:08:41.241927",
     "status": "completed"
    },
    "tags": []
   },
   "source": [
    "### Attention\n",
    "#### (with masking)\n",
    "\n",
    "- The forward method now takes a mask input. This is a [batch size, source sentence length] tensor that is 1 when the source sentence token is not a padding token, and 0 when it is a padding token. For example, if the source sentence is: [\"hello\", \"how\", \"are\", \"you\", \"?\", <pad>, <pad>], then the mask would be [1, 1, 1, 1, 1, 0, 0]."
   ]
  },
  {
   "cell_type": "code",
   "execution_count": 14,
   "id": "9b0c90e1",
   "metadata": {
    "execution": {
     "iopub.execute_input": "2021-11-03T20:08:41.377836Z",
     "iopub.status.busy": "2021-11-03T20:08:41.377236Z",
     "iopub.status.idle": "2021-11-03T20:08:41.381202Z",
     "shell.execute_reply": "2021-11-03T20:08:41.380776Z",
     "shell.execute_reply.started": "2021-11-03T19:15:33.466468Z"
    },
    "papermill": {
     "duration": 0.054023,
     "end_time": "2021-11-03T20:08:41.381307",
     "exception": false,
     "start_time": "2021-11-03T20:08:41.327284",
     "status": "completed"
    },
    "tags": []
   },
   "outputs": [],
   "source": [
    "class Attention(nn.Module):\n",
    "    \n",
    "    def __init__(self, enc_hid_dim, dec_hid_dim):\n",
    "        \"\"\"\n",
    "        :param enc_hid_dim: It is the dimensionality of the hidden state of the encoder\n",
    "        :param dec_hid_dim: It is the dimensionality of the hidden state of the decoder\n",
    "        \"\"\"\n",
    "        \n",
    "        super().__init__()\n",
    "        \n",
    "        self.attn = nn.Linear((enc_hid_dim * 2) + dec_hid_dim, dec_hid_dim)\n",
    "        \n",
    "        self.v = nn.Linear(dec_hid_dim, 1, bias = False)\n",
    "        \n",
    "    def forward(self, hidden, encoder_outputs, mask):\n",
    "        \n",
    "        # hidden.shape => (batch_size, dec_hid_dim)\n",
    "        # encoder_outputs.shape => (src_len, batch_size, enc_hid_dim * 2)\n",
    "        # 2 because n_directions = 2\n",
    "        \n",
    "        batch_size = encoder_outputs.shape[1]\n",
    "        src_len = encoder_outputs.shape[0]\n",
    "        \n",
    "        # repeat decoder hidden state src_len times\n",
    "        hidden = hidden.unsqueeze(1).repeat(1, src_len, 1)\n",
    "        # hidden.shape => (batch_size, src_len, dec_hid_dim)\n",
    "        \n",
    "        encoder_outputs = encoder_outputs.permute(1, 0, 2)\n",
    "        # encoder_outputs.shape => (batch_size, src_len, enc_hid_dim * 2)\n",
    "        \n",
    "        energy = torch.tanh(\n",
    "            self.attn(\n",
    "                torch.cat((hidden, encoder_outputs), dim = 2)\n",
    "            )\n",
    "        )\n",
    "        # energy.shape => (batch_size, src_len, dec_hid_dim)\n",
    "        \n",
    "        attention = self.v(energy).squeeze(2)\n",
    "        # attention.shape => (batch_size, src_len)\n",
    "        \n",
    "        # masking values that are 0 (pad) to -inf\n",
    "        # meaning, they should be given least attention!!\n",
    "        attention = attention.masked_fill(mask == 0, -1e10)\n",
    "        \n",
    "        return F.softmax(attention, dim = 1)"
   ]
  },
  {
   "cell_type": "markdown",
   "id": "33d53e4f",
   "metadata": {
    "papermill": {
     "duration": 0.042483,
     "end_time": "2021-11-03T20:08:41.466577",
     "exception": false,
     "start_time": "2021-11-03T20:08:41.424094",
     "status": "completed"
    },
    "tags": []
   },
   "source": [
    "### Decoder"
   ]
  },
  {
   "cell_type": "code",
   "execution_count": 15,
   "id": "15369efd",
   "metadata": {
    "execution": {
     "iopub.execute_input": "2021-11-03T20:08:41.564389Z",
     "iopub.status.busy": "2021-11-03T20:08:41.559948Z",
     "iopub.status.idle": "2021-11-03T20:08:41.566323Z",
     "shell.execute_reply": "2021-11-03T20:08:41.566725Z",
     "shell.execute_reply.started": "2021-11-03T19:15:33.484186Z"
    },
    "papermill": {
     "duration": 0.057122,
     "end_time": "2021-11-03T20:08:41.566850",
     "exception": false,
     "start_time": "2021-11-03T20:08:41.509728",
     "status": "completed"
    },
    "tags": []
   },
   "outputs": [],
   "source": [
    "class Decoder(nn.Module):\n",
    "    \n",
    "    def __init__(self, output_dim, emb_dim, enc_hid_dim, dec_hid_dim, dropout, attention):\n",
    "        \"\"\"\n",
    "        :param output_dim: It is the size/dimensionality of the one-hot vectors that will be the output of the decoder.\n",
    "                        This is equal to the output (target) vocabulary size.\n",
    "        :param emb_dim: It is the dimensionality of the embedding layer. \n",
    "                        This layer converts the one-hot vectors into dense vectors with emb_dim dimensions.\n",
    "        :param enc_hid_dim: It is the dimensionality of the hidden state of the encoder\n",
    "        :param dec_hid_dim: It is the dimensionality of the hidden state of the decoder (GRU)\n",
    "        :param dropout: It is the amount of dropout to use. \n",
    "                        This is a regularization parameter to prevent overfitting.\n",
    "        :param attention: the attention class object\n",
    "        \"\"\"\n",
    "        \n",
    "        super().__init__()\n",
    "        \n",
    "        self.output_dim = output_dim\n",
    "        \n",
    "        self.attention = attention\n",
    "        \n",
    "        self.embedding = nn.Embedding(output_dim, emb_dim)\n",
    "        \n",
    "        self.rnn = nn.GRU((enc_hid_dim * 2) + emb_dim, dec_hid_dim)\n",
    "        \n",
    "        self.fc_out = nn.Linear((enc_hid_dim * 2) + dec_hid_dim + emb_dim, output_dim)\n",
    "        \n",
    "        self.dropout = nn.Dropout(dropout)\n",
    "        \n",
    "    def forward(self, input, hidden, encoder_outputs, mask):\n",
    "        \n",
    "        # input.shape => (batch_size,)\n",
    "        # hidden.shape => (batch_size, dec_hid_dim)\n",
    "        # encoder_outputs.shape => (src_len, batch_size, enc_hid_dim * 2)\n",
    "        # mask => (batch_size, src_len)\n",
    "        \n",
    "        input = input.unsqueeze(0)\n",
    "        # input.shape => (1, batch_size)\n",
    "        \n",
    "        embedded = self.dropout(self.embedding(input))\n",
    "        # embedded.shape => (1, batch_size, emb_dim)\n",
    "        \n",
    "        a = self.attention(hidden, encoder_outputs, mask)\n",
    "        # a.shape => (batch_size, src_len)\n",
    "        \n",
    "        a = a.unsqueeze(1)\n",
    "        # a.shape => (batch_size, 1, src_len)\n",
    "        \n",
    "        encoder_outputs = encoder_outputs.permute(1, 0, 2)\n",
    "        # encoder_outputs.shape => (batch_size, src_len, enc_hid_dim * 2)\n",
    "        \n",
    "        weighted = torch.bmm(a, encoder_outputs)\n",
    "        # a1 : b X n X m\n",
    "        # a2 : b X m X p\n",
    "        # bmm(a1, a2) --> b X n X p\n",
    "        \n",
    "        # weighted.shape => (batch_size, 1, enc_hid_dim * 2)\n",
    "        \n",
    "        weighted = weighted.permute(1, 0, 2)\n",
    "        # weighted.shape => (1, batch_size, enc_hid_dim * 2)\n",
    "        \n",
    "        rnn_input = torch.cat((embedded, weighted), dim = 2)\n",
    "        # rnn.shape => (1, batch_size, (enc_hid_dim * 2) + emb_dim)\n",
    "        \n",
    "        output, hidden = self.rnn(rnn_input, hidden.unsqueeze(0))\n",
    "        \n",
    "        # output.shape => (seq_len, batch_size, dec_hid_dim * n_directions)\n",
    "        # hidden.shape => (n_layers * n_directions, batch_size, dec_hid_dim)\n",
    "        \n",
    "        # as seq_len = 1\n",
    "        # n_layers and n_directions = 1 in this decoder\n",
    "        \n",
    "        # output.shape => (1, batch_size, dec_hid_dim)\n",
    "        # hidden.shape => (1, batch_size, dec_hid_dim)\n",
    "        \n",
    "        # implying that output == hidden\n",
    "        \n",
    "        assert (output == hidden).all()\n",
    "        \n",
    "        embedded = embedded.squeeze(0)\n",
    "        # embedded.shape => (batch_size, emb_dim)\n",
    "        \n",
    "        output = output.squeeze(0)\n",
    "        # output.shape => (batch_size, dec_hid_dim)\n",
    "        \n",
    "        weighted = weighted.squeeze(0)\n",
    "        # weighted.shape => (batch_size, enc_hid_dim * 2)\n",
    "        \n",
    "        prediction = self.fc_out(\n",
    "            torch.cat((output, weighted, embedded), dim = 1)\n",
    "        )\n",
    "        # prediction.shape => (batch_size, output_dim)\n",
    "        \n",
    "        return prediction, hidden.squeeze(0), a.squeeze(1)"
   ]
  },
  {
   "cell_type": "markdown",
   "id": "78f32a08",
   "metadata": {
    "papermill": {
     "duration": 0.042559,
     "end_time": "2021-11-03T20:08:41.652043",
     "exception": false,
     "start_time": "2021-11-03T20:08:41.609484",
     "status": "completed"
    },
    "tags": []
   },
   "source": [
    "### Seq2Seq Model"
   ]
  },
  {
   "cell_type": "code",
   "execution_count": 16,
   "id": "0fb3fc58",
   "metadata": {
    "execution": {
     "iopub.execute_input": "2021-11-03T20:08:41.748464Z",
     "iopub.status.busy": "2021-11-03T20:08:41.747583Z",
     "iopub.status.idle": "2021-11-03T20:08:41.749483Z",
     "shell.execute_reply": "2021-11-03T20:08:41.749959Z",
     "shell.execute_reply.started": "2021-11-03T19:15:33.638136Z"
    },
    "papermill": {
     "duration": 0.05522,
     "end_time": "2021-11-03T20:08:41.750089",
     "exception": false,
     "start_time": "2021-11-03T20:08:41.694869",
     "status": "completed"
    },
    "tags": []
   },
   "outputs": [],
   "source": [
    "class Seq2Seq(nn.Module):\n",
    "    \n",
    "    def __init__(self, encoder, decoder, src_pad_idx, device):\n",
    "        \n",
    "        super().__init__()\n",
    "        \n",
    "        self.encoder = encoder\n",
    "        self.decoder = decoder\n",
    "        self.src_pad_idx = src_pad_idx # the index assigned to <pad> for src\n",
    "        self.device = device\n",
    "        \n",
    "    def create_mask(self, src):\n",
    "        \"\"\"\n",
    "            a method to create mask for the src sentence.\n",
    "        :param src: the source sentence sequence\n",
    "                    src.shape => (src_len, batch_size)\n",
    "                    \n",
    "        :return mask: the corresponding mask for the src sentence\n",
    "                    mask.shape => (batch_size, src_len)\n",
    "        \"\"\"\n",
    "        \n",
    "        mask = (src != self.src_pad_idx).permute(1, 0)\n",
    "        return mask\n",
    "    \n",
    "    def forward(self, src, src_len, trg, teacher_forcing_ratio = 0.5):\n",
    "        \"\"\"\n",
    "        :param src: the source sentence sequence\n",
    "                    src.shape => (src_len, batch_size)\n",
    "        :param src_len: the src_len for each sentence in the batch\n",
    "                    src_len.shape => (batch_size,)\n",
    "        :param trg: the target sentence sequence\n",
    "                    trg.shape => (trg_len, batch_size)\n",
    "        :param teacher_forcing_ratio: the ratio, used for training. It tells \n",
    "                    by how much probability, we should use the decoded token or\n",
    "                    the original token for training\n",
    "                    e.g. if teacher_forcing_ratio is 0.75, \n",
    "                    we use ground-truth inputs 75% of the time.\n",
    "        \"\"\"\n",
    "        \n",
    "        batch_size = src.shape[1]\n",
    "        trg_len = trg.shape[0]\n",
    "        trg_vocab_size = self.decoder.output_dim\n",
    "        \n",
    "        # tensor to store decoder outputs\n",
    "        outputs = torch.zeros(trg_len, batch_size, trg_vocab_size).to(self.device)\n",
    "        \n",
    "        # encoder_outputs is all hidden states of the input sequence, forwards and backwards\n",
    "        # hidden is the final forward and backward hidden states, passed through a linear layer\n",
    "        encoder_outputs, hidden = self.encoder(src, src_len)\n",
    "        \n",
    "        # first input to the decoder is the <sos> tokens\n",
    "        input = trg[0, :]\n",
    "        \n",
    "        mask = self.create_mask(src)\n",
    "        # mask.shape => (batch_size, src_len)\n",
    "        \n",
    "        for t in range(1, trg_len):\n",
    "            \n",
    "            # insert input token embedding, previous hidden state, all encoder hidden states and mask\n",
    "            # receive output tensor (predictions) and new hidden state\n",
    "            output, hidden, _ = self.decoder(input, hidden, encoder_outputs, mask)\n",
    "            \n",
    "            # place predictions in a tensor holding predictions for each token\n",
    "            outputs[t] = output\n",
    "            \n",
    "            # decide if we are going to use teacher forcing or not\n",
    "            teacher_force = random.random() < teacher_forcing_ratio\n",
    "            \n",
    "            # get the highest predicted token from our predictions\n",
    "            top1 = output.argmax(1)\n",
    "            \n",
    "            # if teacher forcing, use actual next token as next input\n",
    "            # if not, use predicted token\n",
    "            input = trg[t] if teacher_force else top1\n",
    "            \n",
    "        return outputs"
   ]
  },
  {
   "cell_type": "markdown",
   "id": "3464c83d",
   "metadata": {
    "papermill": {
     "duration": 0.042819,
     "end_time": "2021-11-03T20:08:41.835799",
     "exception": false,
     "start_time": "2021-11-03T20:08:41.792980",
     "status": "completed"
    },
    "tags": []
   },
   "source": [
    "## Training the Seq2Seq Model"
   ]
  },
  {
   "cell_type": "markdown",
   "id": "a97d644b",
   "metadata": {
    "papermill": {
     "duration": 0.043168,
     "end_time": "2021-11-03T20:08:41.921878",
     "exception": false,
     "start_time": "2021-11-03T20:08:41.878710",
     "status": "completed"
    },
    "tags": []
   },
   "source": [
    "### Init the Model"
   ]
  },
  {
   "cell_type": "code",
   "execution_count": 17,
   "id": "3bc7bb68",
   "metadata": {
    "execution": {
     "iopub.execute_input": "2021-11-03T20:08:42.014708Z",
     "iopub.status.busy": "2021-11-03T20:08:42.014086Z",
     "iopub.status.idle": "2021-11-03T20:08:50.602168Z",
     "shell.execute_reply": "2021-11-03T20:08:50.602595Z",
     "shell.execute_reply.started": "2021-11-03T19:15:33.653210Z"
    },
    "papermill": {
     "duration": 8.638012,
     "end_time": "2021-11-03T20:08:50.602798",
     "exception": false,
     "start_time": "2021-11-03T20:08:41.964786",
     "status": "completed"
    },
    "tags": []
   },
   "outputs": [],
   "source": [
    "INPUT_DIM = len(SRC.vocab)\n",
    "OUTPUT_DIM = len(TRG.vocab)\n",
    "ENC_EMB_DIM = 256\n",
    "DEC_EMB_DIM = 256\n",
    "ENC_HID_DIM = 512\n",
    "DEC_HID_DIM = 512\n",
    "ENC_DROPOUT = 0.5\n",
    "DEC_DROPOUT = 0.5\n",
    "SRC_PAD_IDX = SRC.vocab.stoi[SRC.pad_token]\n",
    "\n",
    "attn = Attention(ENC_HID_DIM, DEC_HID_DIM)\n",
    "enc = Encoder(INPUT_DIM, ENC_EMB_DIM, ENC_HID_DIM, DEC_HID_DIM, ENC_DROPOUT)\n",
    "dec = Decoder(OUTPUT_DIM, DEC_EMB_DIM, ENC_HID_DIM, DEC_HID_DIM, DEC_DROPOUT, attn)\n",
    "\n",
    "model = Seq2Seq(enc, dec, SRC_PAD_IDX, device).to(device)"
   ]
  },
  {
   "cell_type": "markdown",
   "id": "edc4fe66",
   "metadata": {
    "papermill": {
     "duration": 0.042445,
     "end_time": "2021-11-03T20:08:50.688825",
     "exception": false,
     "start_time": "2021-11-03T20:08:50.646380",
     "status": "completed"
    },
    "tags": []
   },
   "source": [
    "We will initialize all biases to zero and all weights from $\\mathcal{N}(0, 0.01)$."
   ]
  },
  {
   "cell_type": "code",
   "execution_count": 18,
   "id": "e2a07f0c",
   "metadata": {
    "execution": {
     "iopub.execute_input": "2021-11-03T20:08:50.781238Z",
     "iopub.status.busy": "2021-11-03T20:08:50.780611Z",
     "iopub.status.idle": "2021-11-03T20:08:50.792323Z",
     "shell.execute_reply": "2021-11-03T20:08:50.792766Z",
     "shell.execute_reply.started": "2021-11-03T19:15:33.860846Z"
    },
    "papermill": {
     "duration": 0.060917,
     "end_time": "2021-11-03T20:08:50.792899",
     "exception": false,
     "start_time": "2021-11-03T20:08:50.731982",
     "status": "completed"
    },
    "tags": []
   },
   "outputs": [
    {
     "data": {
      "text/plain": [
       "Seq2Seq(\n",
       "  (encoder): Encoder(\n",
       "    (embedding): Embedding(7853, 256)\n",
       "    (rnn): GRU(256, 512, bidirectional=True)\n",
       "    (fc): Linear(in_features=1024, out_features=512, bias=True)\n",
       "    (dropout): Dropout(p=0.5, inplace=False)\n",
       "  )\n",
       "  (decoder): Decoder(\n",
       "    (attention): Attention(\n",
       "      (attn): Linear(in_features=1536, out_features=512, bias=True)\n",
       "      (v): Linear(in_features=512, out_features=1, bias=False)\n",
       "    )\n",
       "    (embedding): Embedding(5893, 256)\n",
       "    (rnn): GRU(1280, 512)\n",
       "    (fc_out): Linear(in_features=1792, out_features=5893, bias=True)\n",
       "    (dropout): Dropout(p=0.5, inplace=False)\n",
       "  )\n",
       ")"
      ]
     },
     "execution_count": 18,
     "metadata": {},
     "output_type": "execute_result"
    }
   ],
   "source": [
    "def init_weights(m):\n",
    "    \"\"\"\n",
    "        initializes the weights of the model.\n",
    "    \"\"\"\n",
    "    \n",
    "    for name, param in m.named_parameters():\n",
    "        if 'weight' in name:\n",
    "            nn.init.normal_(param.data, mean=0, std=0.01)\n",
    "        else:\n",
    "            nn.init.constant_(param.data, 0)\n",
    "\n",
    "\n",
    "model.apply(init_weights)"
   ]
  },
  {
   "cell_type": "code",
   "execution_count": 19,
   "id": "4083ec4a",
   "metadata": {
    "execution": {
     "iopub.execute_input": "2021-11-03T20:08:50.890862Z",
     "iopub.status.busy": "2021-11-03T20:08:50.890161Z",
     "iopub.status.idle": "2021-11-03T20:08:50.892956Z",
     "shell.execute_reply": "2021-11-03T20:08:50.893388Z",
     "shell.execute_reply.started": "2021-11-03T19:15:34.342506Z"
    },
    "papermill": {
     "duration": 0.05416,
     "end_time": "2021-11-03T20:08:50.893511",
     "exception": false,
     "start_time": "2021-11-03T20:08:50.839351",
     "status": "completed"
    },
    "tags": []
   },
   "outputs": [
    {
     "name": "stdout",
     "output_type": "stream",
     "text": [
      "The model has 20,518,405 trainable parameters\n"
     ]
    }
   ],
   "source": [
    "def count_parameters(model):\n",
    "    return sum(p.numel() for p in model.parameters() if p.requires_grad)\n",
    "\n",
    "print(f'The model has {count_parameters(model):,} trainable parameters')"
   ]
  },
  {
   "cell_type": "code",
   "execution_count": 20,
   "id": "70f372a7",
   "metadata": {
    "execution": {
     "iopub.execute_input": "2021-11-03T20:08:50.990193Z",
     "iopub.status.busy": "2021-11-03T20:08:50.989477Z",
     "iopub.status.idle": "2021-11-03T20:08:50.992206Z",
     "shell.execute_reply": "2021-11-03T20:08:50.991772Z",
     "shell.execute_reply.started": "2021-11-03T19:15:34.349435Z"
    },
    "papermill": {
     "duration": 0.052051,
     "end_time": "2021-11-03T20:08:50.992316",
     "exception": false,
     "start_time": "2021-11-03T20:08:50.940265",
     "status": "completed"
    },
    "tags": []
   },
   "outputs": [],
   "source": [
    "# define the optimizer\n",
    "optimizer = optim.Adam(model.parameters())"
   ]
  },
  {
   "cell_type": "code",
   "execution_count": 21,
   "id": "a29e6002",
   "metadata": {
    "execution": {
     "iopub.execute_input": "2021-11-03T20:08:51.084950Z",
     "iopub.status.busy": "2021-11-03T20:08:51.084202Z",
     "iopub.status.idle": "2021-11-03T20:08:51.086643Z",
     "shell.execute_reply": "2021-11-03T20:08:51.086213Z",
     "shell.execute_reply.started": "2021-11-03T19:15:34.364058Z"
    },
    "papermill": {
     "duration": 0.049673,
     "end_time": "2021-11-03T20:08:51.086774",
     "exception": false,
     "start_time": "2021-11-03T20:08:51.037101",
     "status": "completed"
    },
    "tags": []
   },
   "outputs": [],
   "source": [
    "# loss function\n",
    "# NOTE: Our loss function calculates the average loss per token, \n",
    "# however by passing the index of the <pad> token as the ignore_index argument \n",
    "# we ignore the loss whenever the target token is a padding token.\n",
    "\n",
    "TRG_PAD_IDX = TRG.vocab.stoi[TRG.pad_token]\n",
    "\n",
    "criterion = nn.CrossEntropyLoss(ignore_index = TRG_PAD_IDX)"
   ]
  },
  {
   "cell_type": "markdown",
   "id": "edc917cb",
   "metadata": {
    "papermill": {
     "duration": 0.043333,
     "end_time": "2021-11-03T20:08:51.173785",
     "exception": false,
     "start_time": "2021-11-03T20:08:51.130452",
     "status": "completed"
    },
    "tags": []
   },
   "source": [
    "## Training Function"
   ]
  },
  {
   "cell_type": "code",
   "execution_count": 22,
   "id": "08eade0b",
   "metadata": {
    "execution": {
     "iopub.execute_input": "2021-11-03T20:08:51.267774Z",
     "iopub.status.busy": "2021-11-03T20:08:51.262616Z",
     "iopub.status.idle": "2021-11-03T20:08:51.270270Z",
     "shell.execute_reply": "2021-11-03T20:08:51.269835Z",
     "shell.execute_reply.started": "2021-11-03T19:15:34.375402Z"
    },
    "papermill": {
     "duration": 0.053228,
     "end_time": "2021-11-03T20:08:51.270366",
     "exception": false,
     "start_time": "2021-11-03T20:08:51.217138",
     "status": "completed"
    },
    "tags": []
   },
   "outputs": [],
   "source": [
    "def train(model, iterator, optimizer, criterion, clip):\n",
    "    \n",
    "    model.train()\n",
    "    \n",
    "    epoch_loss = 0\n",
    "    \n",
    "    for i, batch in enumerate(iterator):\n",
    "        \n",
    "        src, src_len = batch.src\n",
    "        trg = batch.trg\n",
    "        \n",
    "        optimizer.zero_grad()\n",
    "        \n",
    "        output = model(src, src_len, trg)\n",
    "        \n",
    "        # trg.shape => (trg_len, batch_size)\n",
    "        # output.shape => (trg_len, batch_size, output_dim)\n",
    "        \n",
    "        output_dim = output.shape[-1]\n",
    "        \n",
    "        output = output[1:].view(-1, output_dim)\n",
    "        trg = trg[1:].view(-1)\n",
    "        \n",
    "        # We have removed the <sos> token\n",
    "        # trg.shape => ((trg_len - 1) * batch_size)\n",
    "        # output.shape => ((trg_len - 1) * batch_size, output_dim)\n",
    "        \n",
    "        # NOTE:  the loss function only works on 2d inputs with 1d targets\n",
    "        # we need to flatten each of them with .view\n",
    "        \n",
    "        loss = criterion(output, trg)\n",
    "        \n",
    "        loss.backward()\n",
    "        \n",
    "        torch.nn.utils.clip_grad_norm_(model.parameters(), clip)\n",
    "        \n",
    "        optimizer.step()\n",
    "        \n",
    "        epoch_loss += loss.item()\n",
    "        \n",
    "    return epoch_loss / len(iterator)"
   ]
  },
  {
   "cell_type": "markdown",
   "id": "6594335a",
   "metadata": {
    "papermill": {
     "duration": 0.043581,
     "end_time": "2021-11-03T20:08:51.357176",
     "exception": false,
     "start_time": "2021-11-03T20:08:51.313595",
     "status": "completed"
    },
    "tags": []
   },
   "source": [
    "## Evaluate Function"
   ]
  },
  {
   "cell_type": "code",
   "execution_count": 23,
   "id": "73ee26b1",
   "metadata": {
    "execution": {
     "iopub.execute_input": "2021-11-03T20:08:51.450425Z",
     "iopub.status.busy": "2021-11-03T20:08:51.449684Z",
     "iopub.status.idle": "2021-11-03T20:08:51.452127Z",
     "shell.execute_reply": "2021-11-03T20:08:51.451644Z",
     "shell.execute_reply.started": "2021-11-03T19:15:34.388048Z"
    },
    "papermill": {
     "duration": 0.051639,
     "end_time": "2021-11-03T20:08:51.452228",
     "exception": false,
     "start_time": "2021-11-03T20:08:51.400589",
     "status": "completed"
    },
    "tags": []
   },
   "outputs": [],
   "source": [
    "def evaluate(model, iterator, criterion):\n",
    "    \n",
    "    model.eval()\n",
    "    \n",
    "    epoch_loss = 0\n",
    "    \n",
    "    with torch.no_grad():\n",
    "    \n",
    "        for i, batch in enumerate(iterator):\n",
    "\n",
    "            src, src_len = batch.src\n",
    "            trg = batch.trg\n",
    "\n",
    "            output = model(src, src_len, trg, 0) #turn off teacher forcing\n",
    "\n",
    "            # trg.shape => (trg_len, batch_size)\n",
    "            # output.shape => (trg_len, batch_size, output_dim)\n",
    "\n",
    "            output_dim = output.shape[-1]\n",
    "            \n",
    "            output = output[1:].view(-1, output_dim)\n",
    "            trg = trg[1:].view(-1)\n",
    "\n",
    "            # We have removed the <sos> token\n",
    "            # trg.shape => ((trg_len - 1) * batch_size)\n",
    "            # output.shape => ((trg_len - 1) * batch_size, output_dim)\n",
    "\n",
    "            # NOTE:  the loss function only works on 2d inputs with 1d targets\n",
    "            # we need to flatten each of them with .view\n",
    "\n",
    "            loss = criterion(output, trg)\n",
    "\n",
    "            epoch_loss += loss.item()\n",
    "        \n",
    "    return epoch_loss / len(iterator)"
   ]
  },
  {
   "cell_type": "code",
   "execution_count": 24,
   "id": "b9082d6c",
   "metadata": {
    "execution": {
     "iopub.execute_input": "2021-11-03T20:08:51.544062Z",
     "iopub.status.busy": "2021-11-03T20:08:51.543312Z",
     "iopub.status.idle": "2021-11-03T20:08:51.545258Z",
     "shell.execute_reply": "2021-11-03T20:08:51.545702Z",
     "shell.execute_reply.started": "2021-11-03T19:15:34.398432Z"
    },
    "papermill": {
     "duration": 0.050059,
     "end_time": "2021-11-03T20:08:51.545826",
     "exception": false,
     "start_time": "2021-11-03T20:08:51.495767",
     "status": "completed"
    },
    "tags": []
   },
   "outputs": [],
   "source": [
    "def epoch_time(start_time, end_time):\n",
    "    elapsed_time = end_time - start_time\n",
    "    elapsed_mins = int(elapsed_time / 60)\n",
    "    elapsed_secs = int(elapsed_time - (elapsed_mins * 60))\n",
    "    return elapsed_mins, elapsed_secs"
   ]
  },
  {
   "cell_type": "code",
   "execution_count": 25,
   "id": "b1571ba8",
   "metadata": {
    "execution": {
     "iopub.execute_input": "2021-11-03T20:08:51.660458Z",
     "iopub.status.busy": "2021-11-03T20:08:51.650284Z",
     "iopub.status.idle": "2021-11-03T20:18:49.742227Z",
     "shell.execute_reply": "2021-11-03T20:18:49.742691Z",
     "shell.execute_reply.started": "2021-11-03T19:15:34.415157Z"
    },
    "papermill": {
     "duration": 598.153306,
     "end_time": "2021-11-03T20:18:49.742855",
     "exception": false,
     "start_time": "2021-11-03T20:08:51.589549",
     "status": "completed"
    },
    "tags": []
   },
   "outputs": [
    {
     "name": "stdout",
     "output_type": "stream",
     "text": [
      "Epoch: 01 | Time: 0m 40s\n",
      "\tTrain Loss: 5.049 | Train PPL: 155.942\n",
      "\t Val. Loss: 4.777 |  Val. PPL: 118.770\n",
      "Epoch: 02 | Time: 0m 39s\n",
      "\tTrain Loss: 4.092 | Train PPL:  59.880\n",
      "\t Val. Loss: 4.128 |  Val. PPL:  62.080\n",
      "Epoch: 03 | Time: 0m 39s\n",
      "\tTrain Loss: 3.325 | Train PPL:  27.796\n",
      "\t Val. Loss: 3.573 |  Val. PPL:  35.633\n",
      "Epoch: 04 | Time: 0m 39s\n",
      "\tTrain Loss: 2.847 | Train PPL:  17.229\n",
      "\t Val. Loss: 3.341 |  Val. PPL:  28.240\n",
      "Epoch: 05 | Time: 0m 39s\n",
      "\tTrain Loss: 2.473 | Train PPL:  11.860\n",
      "\t Val. Loss: 3.235 |  Val. PPL:  25.417\n",
      "Epoch: 06 | Time: 0m 39s\n",
      "\tTrain Loss: 2.170 | Train PPL:   8.761\n",
      "\t Val. Loss: 3.242 |  Val. PPL:  25.586\n",
      "Epoch: 07 | Time: 0m 39s\n",
      "\tTrain Loss: 1.940 | Train PPL:   6.961\n",
      "\t Val. Loss: 3.156 |  Val. PPL:  23.465\n",
      "Epoch: 08 | Time: 0m 39s\n",
      "\tTrain Loss: 1.737 | Train PPL:   5.683\n",
      "\t Val. Loss: 3.262 |  Val. PPL:  26.101\n",
      "Epoch: 09 | Time: 0m 39s\n",
      "\tTrain Loss: 1.581 | Train PPL:   4.858\n",
      "\t Val. Loss: 3.291 |  Val. PPL:  26.861\n",
      "Epoch: 10 | Time: 0m 39s\n",
      "\tTrain Loss: 1.476 | Train PPL:   4.375\n",
      "\t Val. Loss: 3.317 |  Val. PPL:  27.579\n",
      "Epoch: 11 | Time: 0m 39s\n",
      "\tTrain Loss: 1.332 | Train PPL:   3.789\n",
      "\t Val. Loss: 3.507 |  Val. PPL:  33.337\n",
      "Epoch: 12 | Time: 0m 39s\n",
      "\tTrain Loss: 1.243 | Train PPL:   3.467\n",
      "\t Val. Loss: 3.493 |  Val. PPL:  32.892\n",
      "Epoch: 13 | Time: 0m 39s\n",
      "\tTrain Loss: 1.149 | Train PPL:   3.155\n",
      "\t Val. Loss: 3.521 |  Val. PPL:  33.811\n",
      "Epoch: 14 | Time: 0m 39s\n",
      "\tTrain Loss: 1.077 | Train PPL:   2.936\n",
      "\t Val. Loss: 3.584 |  Val. PPL:  36.008\n",
      "Epoch: 15 | Time: 0m 39s\n",
      "\tTrain Loss: 1.003 | Train PPL:   2.727\n",
      "\t Val. Loss: 3.617 |  Val. PPL:  37.241\n"
     ]
    }
   ],
   "source": [
    "N_EPOCHS = 15\n",
    "CLIP = 1\n",
    "\n",
    "best_valid_loss = float('inf')\n",
    "\n",
    "for epoch in range(N_EPOCHS):\n",
    "    \n",
    "    start_time = time.time()\n",
    "    \n",
    "    train_loss = train(model, train_iterator, optimizer, criterion, CLIP)\n",
    "    valid_loss = evaluate(model, valid_iterator, criterion)\n",
    "    \n",
    "    end_time = time.time()\n",
    "    \n",
    "    epoch_mins, epoch_secs = epoch_time(start_time, end_time)\n",
    "    \n",
    "    if valid_loss < best_valid_loss:\n",
    "        best_valid_loss = valid_loss\n",
    "        torch.save(model.state_dict(), 'tut4-model.pt')\n",
    "    \n",
    "    print(f'Epoch: {epoch+1:02} | Time: {epoch_mins}m {epoch_secs}s')\n",
    "    print(f'\\tTrain Loss: {train_loss:.3f} | Train PPL: {math.exp(train_loss):7.3f}')\n",
    "    print(f'\\t Val. Loss: {valid_loss:.3f} |  Val. PPL: {math.exp(valid_loss):7.3f}')"
   ]
  },
  {
   "cell_type": "code",
   "execution_count": 26,
   "id": "13cf0109",
   "metadata": {
    "execution": {
     "iopub.execute_input": "2021-11-03T20:18:49.905331Z",
     "iopub.status.busy": "2021-11-03T20:18:49.903732Z",
     "iopub.status.idle": "2021-11-03T20:18:50.714802Z",
     "shell.execute_reply": "2021-11-03T20:18:50.715204Z",
     "shell.execute_reply.started": "2021-11-03T19:36:34.928636Z"
    },
    "papermill": {
     "duration": 0.909146,
     "end_time": "2021-11-03T20:18:50.715353",
     "exception": false,
     "start_time": "2021-11-03T20:18:49.806207",
     "status": "completed"
    },
    "tags": []
   },
   "outputs": [
    {
     "name": "stdout",
     "output_type": "stream",
     "text": [
      "| Test Loss: 3.179 | Test PPL:  24.030 |\n"
     ]
    }
   ],
   "source": [
    "model.load_state_dict(torch.load('tut4-model.pt'))\n",
    "\n",
    "test_loss = evaluate(model, test_iterator, criterion)\n",
    "\n",
    "print(f'| Test Loss: {test_loss:.3f} | Test PPL: {math.exp(test_loss):7.3f} |')"
   ]
  },
  {
   "cell_type": "markdown",
   "id": "d10d1c71",
   "metadata": {
    "papermill": {
     "duration": 0.048477,
     "end_time": "2021-11-03T20:18:50.812638",
     "exception": false,
     "start_time": "2021-11-03T20:18:50.764161",
     "status": "completed"
    },
    "tags": []
   },
   "source": [
    "## Inference"
   ]
  },
  {
   "cell_type": "code",
   "execution_count": 27,
   "id": "e67b4736",
   "metadata": {
    "execution": {
     "iopub.execute_input": "2021-11-03T20:18:50.921616Z",
     "iopub.status.busy": "2021-11-03T20:18:50.917477Z",
     "iopub.status.idle": "2021-11-03T20:18:50.924146Z",
     "shell.execute_reply": "2021-11-03T20:18:50.923714Z",
     "shell.execute_reply.started": "2021-11-03T20:01:46.510299Z"
    },
    "papermill": {
     "duration": 0.063012,
     "end_time": "2021-11-03T20:18:50.924257",
     "exception": false,
     "start_time": "2021-11-03T20:18:50.861245",
     "status": "completed"
    },
    "tags": []
   },
   "outputs": [],
   "source": [
    "def translate_sentence(sentence, src_field, trg_field, model, device, max_len = 50):\n",
    "    \"\"\"\n",
    "        translate the given `sentence` in src lang to the trg lang.\n",
    "    \n",
    "    :param sentence: the sentence string in src lang\n",
    "    :param src_field: the SRC Field object\n",
    "    :param trg_field: the TRG Field object\n",
    "    :param model: the Seq2Seq model\n",
    "    :param device: gpu or cpu\n",
    "    :param max_len: the maximum length permitted for the trg sentence\n",
    "    \"\"\"\n",
    "    \n",
    "    model.eval()\n",
    "    \n",
    "    # Sentence --> tokens\n",
    "    if isinstance(sentence, str):\n",
    "        nlp = spacy.load('de')\n",
    "        tokens = [token.text.lower() for token in nlp(sentence)]\n",
    "        \n",
    "    else:\n",
    "        tokens = [token.lower() for token in sentence]\n",
    "    \n",
    "    # adding <sos> and <eos>\n",
    "    tokens = [src_field.init_token] + tokens + [src_field.eos_token]\n",
    "    \n",
    "    # Tokens --> list of indices, acc. to SRC vocab\n",
    "    src_indexes = [src_field.vocab.stoi[token] for token in tokens]\n",
    "    \n",
    "    src_tensor = torch.LongTensor(src_indexes).unsqueeze(1).to(device)\n",
    "    # src_tensor.shape => (src_len, 1), where 1 = batch_size\n",
    "    \n",
    "    src_len = torch.LongTensor([len(src_indexes)])\n",
    "    # src_len.shape => (batch_size,) = (1,)\n",
    "    # it contains the length of the sentence\n",
    "    \n",
    "    with torch.no_grad():\n",
    "        encoder_outputs, hidden = model.encoder(src_tensor, src_len)\n",
    "        \n",
    "    mask = model.create_mask(src_tensor)\n",
    "    \n",
    "    # start with the <sos> token\n",
    "    trg_indexes = [trg_field.vocab.stoi[trg_field.init_token]]\n",
    "    \n",
    "    attentions = torch.zeros(max_len, 1, len(src_indexes)).to(device)\n",
    "    \n",
    "    for i in range(max_len):\n",
    "        \n",
    "        # take the last trg token produced\n",
    "        trg_tensor = torch.LongTensor([trg_indexes[-1]]).to(device)\n",
    "        \n",
    "        with torch.no_grad():\n",
    "            output, hidden, attention = model.decoder(trg_tensor, hidden, encoder_outputs, mask)\n",
    "            \n",
    "            attentions[i] = attention\n",
    "            \n",
    "            pred_token = output.argmax(1).item()\n",
    "            \n",
    "            trg_indexes.append(pred_token)\n",
    "            \n",
    "            if pred_token == trg_field.vocab.stoi[trg_field.eos_token]:\n",
    "                break\n",
    "                \n",
    "    trg_tokens = [trg_field.vocab.itos[i] for i in trg_indexes]\n",
    "        \n",
    "    return trg_tokens[1:], attentions[:len(trg_tokens)-1]"
   ]
  },
  {
   "cell_type": "code",
   "execution_count": 28,
   "id": "995cc8ae",
   "metadata": {
    "execution": {
     "iopub.execute_input": "2021-11-03T20:18:51.026797Z",
     "iopub.status.busy": "2021-11-03T20:18:51.026189Z",
     "iopub.status.idle": "2021-11-03T20:18:51.029413Z",
     "shell.execute_reply": "2021-11-03T20:18:51.029901Z",
     "shell.execute_reply.started": "2021-11-03T20:01:09.651400Z"
    },
    "papermill": {
     "duration": 0.057957,
     "end_time": "2021-11-03T20:18:51.030025",
     "exception": false,
     "start_time": "2021-11-03T20:18:50.972068",
     "status": "completed"
    },
    "tags": []
   },
   "outputs": [],
   "source": [
    "def display_attention(sentence, translation, attention):\n",
    "    \n",
    "    fig = plt.figure(figsize=(10,10))\n",
    "    ax = fig.add_subplot(111)\n",
    "    \n",
    "    attention = attention.squeeze(1).cpu().detach().numpy()\n",
    "    \n",
    "    cax = ax.matshow(attention, cmap='bone')\n",
    "   \n",
    "    ax.tick_params(labelsize=15)\n",
    "    \n",
    "    x_ticks = [''] + ['<sos>'] + [t.lower() for t in sentence] + ['<eos>']\n",
    "    y_ticks = [''] + translation\n",
    "     \n",
    "    ax.set_xticklabels(x_ticks, rotation=45)\n",
    "    ax.set_yticklabels(y_ticks)\n",
    "\n",
    "    ax.xaxis.set_major_locator(ticker.MultipleLocator(1))\n",
    "    ax.yaxis.set_major_locator(ticker.MultipleLocator(1))\n",
    "\n",
    "    plt.show()\n",
    "    plt.close()"
   ]
  },
  {
   "cell_type": "code",
   "execution_count": 29,
   "id": "fd4100b7",
   "metadata": {
    "execution": {
     "iopub.execute_input": "2021-11-03T20:18:51.141173Z",
     "iopub.status.busy": "2021-11-03T20:18:51.140587Z",
     "iopub.status.idle": "2021-11-03T20:18:51.143671Z",
     "shell.execute_reply": "2021-11-03T20:18:51.143154Z",
     "shell.execute_reply.started": "2021-11-03T20:01:17.528680Z"
    },
    "papermill": {
     "duration": 0.054902,
     "end_time": "2021-11-03T20:18:51.143784",
     "exception": false,
     "start_time": "2021-11-03T20:18:51.088882",
     "status": "completed"
    },
    "tags": []
   },
   "outputs": [
    {
     "name": "stdout",
     "output_type": "stream",
     "text": [
      "src = ['ein', 'schwarzer', 'hund', 'und', 'ein', 'gefleckter', 'hund', 'kämpfen', '.']\n",
      "trg = ['a', 'black', 'dog', 'and', 'a', 'spotted', 'dog', 'are', 'fighting']\n"
     ]
    }
   ],
   "source": [
    "example_idx = 12\n",
    "\n",
    "src = vars(train_data.examples[example_idx])['src']\n",
    "trg = vars(train_data.examples[example_idx])['trg']\n",
    "\n",
    "print(f'src = {src}')\n",
    "print(f'trg = {trg}')"
   ]
  },
  {
   "cell_type": "code",
   "execution_count": 30,
   "id": "69172bd6",
   "metadata": {
    "execution": {
     "iopub.execute_input": "2021-11-03T20:18:51.243526Z",
     "iopub.status.busy": "2021-11-03T20:18:51.242720Z",
     "iopub.status.idle": "2021-11-03T20:18:51.257571Z",
     "shell.execute_reply": "2021-11-03T20:18:51.258061Z",
     "shell.execute_reply.started": "2021-11-03T20:01:49.256924Z"
    },
    "papermill": {
     "duration": 0.065207,
     "end_time": "2021-11-03T20:18:51.258178",
     "exception": false,
     "start_time": "2021-11-03T20:18:51.192971",
     "status": "completed"
    },
    "tags": []
   },
   "outputs": [
    {
     "name": "stdout",
     "output_type": "stream",
     "text": [
      "predicted trg = ['a', 'black', 'dog', 'and', 'a', 'spotted', 'dog', 'fighting', '.', '<eos>']\n"
     ]
    }
   ],
   "source": [
    "translation, attention = translate_sentence(src, SRC, TRG, model, device)\n",
    "\n",
    "print(f'predicted trg = {translation}')"
   ]
  },
  {
   "cell_type": "code",
   "execution_count": 31,
   "id": "687723f4",
   "metadata": {
    "execution": {
     "iopub.execute_input": "2021-11-03T20:18:51.365318Z",
     "iopub.status.busy": "2021-11-03T20:18:51.358413Z",
     "iopub.status.idle": "2021-11-03T20:18:51.717015Z",
     "shell.execute_reply": "2021-11-03T20:18:51.717503Z",
     "shell.execute_reply.started": "2021-11-03T20:02:36.920545Z"
    },
    "papermill": {
     "duration": 0.411137,
     "end_time": "2021-11-03T20:18:51.717657",
     "exception": false,
     "start_time": "2021-11-03T20:18:51.306520",
     "status": "completed"
    },
    "tags": []
   },
   "outputs": [
    {
     "data": {
      "image/png": "[encoded data removed]",
      "text/plain": [
       "<Figure size 720x720 with 1 Axes>"
      ]
     },
     "metadata": {
      "needs_background": "light"
     },
     "output_type": "display_data"
    }
   ],
   "source": [
    "display_attention(src, translation, attention)"
   ]
  },
  {
   "cell_type": "code",
   "execution_count": 32,
   "id": "381a3182",
   "metadata": {
    "execution": {
     "iopub.execute_input": "2021-11-03T20:18:51.824048Z",
     "iopub.status.busy": "2021-11-03T20:18:51.823253Z",
     "iopub.status.idle": "2021-11-03T20:18:51.827186Z",
     "shell.execute_reply": "2021-11-03T20:18:51.826710Z",
     "shell.execute_reply.started": "2021-11-03T20:02:56.268364Z"
    },
    "papermill": {
     "duration": 0.057917,
     "end_time": "2021-11-03T20:18:51.827290",
     "exception": false,
     "start_time": "2021-11-03T20:18:51.769373",
     "status": "completed"
    },
    "tags": []
   },
   "outputs": [
    {
     "name": "stdout",
     "output_type": "stream",
     "text": [
      "src = ['die', 'person', 'im', 'gestreiften', 'shirt', 'klettert', 'auf', 'einen', 'berg', '.']\n",
      "trg = ['the', 'person', 'in', 'the', 'striped', 'shirt', 'is', 'mountain', 'climbing', '.']\n"
     ]
    }
   ],
   "source": [
    "example_idx = 18\n",
    "\n",
    "src = vars(test_data.examples[example_idx])['src']\n",
    "trg = vars(test_data.examples[example_idx])['trg']\n",
    "\n",
    "print(f'src = {src}')\n",
    "print(f'trg = {trg}')"
   ]
  },
  {
   "cell_type": "code",
   "execution_count": 33,
   "id": "f1fc8a52",
   "metadata": {
    "execution": {
     "iopub.execute_input": "2021-11-03T20:18:51.929898Z",
     "iopub.status.busy": "2021-11-03T20:18:51.929353Z",
     "iopub.status.idle": "2021-11-03T20:18:52.298873Z",
     "shell.execute_reply": "2021-11-03T20:18:52.299269Z",
     "shell.execute_reply.started": "2021-11-03T20:03:02.695246Z"
    },
    "papermill": {
     "duration": 0.423012,
     "end_time": "2021-11-03T20:18:52.299418",
     "exception": false,
     "start_time": "2021-11-03T20:18:51.876406",
     "status": "completed"
    },
    "tags": []
   },
   "outputs": [
    {
     "name": "stdout",
     "output_type": "stream",
     "text": [
      "predicted trg = ['the', 'person', 'in', 'the', 'striped', 'shirt', 'is', 'climbing', 'a', 'mountain', '.', '<eos>']\n"
     ]
    },
    {
     "data": {
      "image/png": "[encoded data removed]",
      "text/plain": [
       "<Figure size 720x720 with 1 Axes>"
      ]
     },
     "metadata": {
      "needs_background": "light"
     },
     "output_type": "display_data"
    }
   ],
   "source": [
    "translation, attention = translate_sentence(src, SRC, TRG, model, device)\n",
    "\n",
    "print(f'predicted trg = {translation}')\n",
    "\n",
    "display_attention(src, translation, attention)"
   ]
  },
  {
   "cell_type": "markdown",
   "id": "8be574f2",
   "metadata": {
    "papermill": {
     "duration": 0.050766,
     "end_time": "2021-11-03T20:18:52.403060",
     "exception": false,
     "start_time": "2021-11-03T20:18:52.352294",
     "status": "completed"
    },
    "tags": []
   },
   "source": [
    "## BLEU Score"
   ]
  },
  {
   "cell_type": "code",
   "execution_count": 34,
   "id": "4ca17227",
   "metadata": {
    "execution": {
     "iopub.execute_input": "2021-11-03T20:18:52.512865Z",
     "iopub.status.busy": "2021-11-03T20:18:52.512074Z",
     "iopub.status.idle": "2021-11-03T20:18:52.514669Z",
     "shell.execute_reply": "2021-11-03T20:18:52.514207Z",
     "shell.execute_reply.started": "2021-11-03T20:06:26.815695Z"
    },
    "papermill": {
     "duration": 0.059884,
     "end_time": "2021-11-03T20:18:52.514792",
     "exception": false,
     "start_time": "2021-11-03T20:18:52.454908",
     "status": "completed"
    },
    "tags": []
   },
   "outputs": [],
   "source": [
    "from torchtext.data.metrics import bleu_score\n",
    "\n",
    "def calculate_bleu(data, src_field, trg_field, model, device, max_len = 50):\n",
    "    \n",
    "    trgs = []\n",
    "    pred_trgs = []\n",
    "    \n",
    "    for datum in data:\n",
    "        \n",
    "        src = vars(datum)['src']\n",
    "        trg = vars(datum)['trg']\n",
    "        \n",
    "        pred_trg, _ = translate_sentence(src, src_field, trg_field, model, device, max_len)\n",
    "        \n",
    "        #cut off <eos> token\n",
    "        pred_trg = pred_trg[:-1]\n",
    "        \n",
    "        pred_trgs.append(pred_trg)\n",
    "        trgs.append([trg])\n",
    "        \n",
    "    return bleu_score(pred_trgs, trgs)"
   ]
  },
  {
   "cell_type": "code",
   "execution_count": 35,
   "id": "ac40045f",
   "metadata": {
    "execution": {
     "iopub.execute_input": "2021-11-03T20:18:52.623386Z",
     "iopub.status.busy": "2021-11-03T20:18:52.622506Z",
     "iopub.status.idle": "2021-11-03T20:19:06.311896Z",
     "shell.execute_reply": "2021-11-03T20:19:06.311391Z",
     "shell.execute_reply.started": "2021-11-03T20:06:27.393246Z"
    },
    "papermill": {
     "duration": 13.746334,
     "end_time": "2021-11-03T20:19:06.312040",
     "exception": false,
     "start_time": "2021-11-03T20:18:52.565706",
     "status": "completed"
    },
    "tags": []
   },
   "outputs": [
    {
     "name": "stdout",
     "output_type": "stream",
     "text": [
      "BLEU score = 29.00\n"
     ]
    }
   ],
   "source": [
    "bleu_score = calculate_bleu(test_data, SRC, TRG, model, device)\n",
    "\n",
    "print(f'BLEU score = {bleu_score*100:.2f}')"
   ]
  },
  {
   "cell_type": "code",
   "execution_count": null,
   "id": "778d2692",
   "metadata": {
    "papermill": {
     "duration": 0.050434,
     "end_time": "2021-11-03T20:19:06.414995",
     "exception": false,
     "start_time": "2021-11-03T20:19:06.364561",
     "status": "completed"
    },
    "tags": []
   },
   "outputs": [],
   "source": []
  }
 ],
 "metadata": {
  "kernelspec": {
   "display_name": "Python 3",
   "language": "python",
   "name": "python3"
  },
  "language_info": {
   "codemirror_mode": {
    "name": "ipython",
    "version": 3
   },
   "file_extension": ".py",
   "mimetype": "text/x-python",
   "name": "python",
   "nbconvert_exporter": "python",
   "pygments_lexer": "ipython3",
   "version": "3.7.10"
  },
  "papermill": {
   "default_parameters": {},
   "duration": 678.699692,
   "end_time": "2021-11-03T20:19:09.450729",
   "environment_variables": {},
   "exception": null,
   "input_path": "__notebook__.ipynb",
   "output_path": "__notebook__.ipynb",
   "parameters": {},
   "start_time": "2021-11-03T20:07:50.751037",
   "version": "2.3.3"
  }
 },
 "nbformat": 4,
 "nbformat_minor": 5
}
