{
 "cells": [
  {
   "cell_type": "markdown",
   "id": "3fcf6d49",
   "metadata": {
    "_cell_guid": "b1076dfc-b9ad-4769-8c92-a6c4dae69d19",
    "_uuid": "8f2839f25d086af736a60e9eeb907d3b93b6e0e5",
    "papermill": {
     "duration": 0.036638,
     "end_time": "2021-11-14T19:04:37.684128",
     "exception": false,
     "start_time": "2021-11-14T19:04:37.647490",
     "status": "completed"
    },
    "tags": []
   },
   "source": [
    "## Attention is All You Need"
   ]
  },
  {
   "cell_type": "code",
   "execution_count": 1,
   "id": "0f989a15",
   "metadata": {
    "execution": {
     "iopub.execute_input": "2021-11-14T19:04:37.765507Z",
     "iopub.status.busy": "2021-11-14T19:04:37.764685Z",
     "iopub.status.idle": "2021-11-14T19:04:47.613856Z",
     "shell.execute_reply": "2021-11-14T19:04:47.613244Z",
     "shell.execute_reply.started": "2021-11-14T18:53:15.952208Z"
    },
    "papermill": {
     "duration": 9.894113,
     "end_time": "2021-11-14T19:04:47.614038",
     "exception": false,
     "start_time": "2021-11-14T19:04:37.719925",
     "status": "completed"
    },
    "tags": []
   },
   "outputs": [],
   "source": [
    "import torch\n",
    "import torch.nn as nn\n",
    "import torch.optim as optim\n",
    "\n",
    "import torchtext\n",
    "from torchtext.legacy.datasets import Multi30k\n",
    "from torchtext.legacy.data import Field, BucketIterator\n",
    "\n",
    "import matplotlib.pyplot as plt\n",
    "import matplotlib.ticker as ticker\n",
    "\n",
    "import spacy\n",
    "import numpy as np\n",
    "\n",
    "import random\n",
    "import math\n",
    "import time\n",
    "\n",
    "import warnings\n",
    "warnings.simplefilter('ignore')"
   ]
  },
  {
   "cell_type": "code",
   "execution_count": 2,
   "id": "876fb02b",
   "metadata": {
    "execution": {
     "iopub.execute_input": "2021-11-14T19:04:47.688005Z",
     "iopub.status.busy": "2021-11-14T19:04:47.687384Z",
     "iopub.status.idle": "2021-11-14T19:04:47.691844Z",
     "shell.execute_reply": "2021-11-14T19:04:47.691438Z",
     "shell.execute_reply.started": "2021-11-14T18:53:15.962365Z"
    },
    "papermill": {
     "duration": 0.04305,
     "end_time": "2021-11-14T19:04:47.691986",
     "exception": false,
     "start_time": "2021-11-14T19:04:47.648936",
     "status": "completed"
    },
    "tags": []
   },
   "outputs": [],
   "source": [
    "SEED = 1234\n",
    "\n",
    "random.seed(SEED)\n",
    "np.random.seed(SEED)\n",
    "torch.manual_seed(SEED)\n",
    "torch.cuda.manual_seed(SEED)\n",
    "torch.backends.cudnn.deterministic = True"
   ]
  },
  {
   "cell_type": "code",
   "execution_count": 3,
   "id": "7c0270a4",
   "metadata": {
    "execution": {
     "iopub.execute_input": "2021-11-14T19:04:47.765793Z",
     "iopub.status.busy": "2021-11-14T19:04:47.765004Z",
     "iopub.status.idle": "2021-11-14T19:05:05.425817Z",
     "shell.execute_reply": "2021-11-14T19:05:05.426376Z",
     "shell.execute_reply.started": "2021-11-14T18:53:15.977564Z"
    },
    "papermill": {
     "duration": 17.700421,
     "end_time": "2021-11-14T19:05:05.426588",
     "exception": false,
     "start_time": "2021-11-14T19:04:47.726167",
     "status": "completed"
    },
    "tags": []
   },
   "outputs": [
    {
     "name": "stdout",
     "output_type": "stream",
     "text": [
      "Collecting en-core-web-sm==3.1.0\n",
      "  Downloading https://github.com/explosion/spacy-models/releases/download/en_core_web_sm-3.1.0/en_core_web_sm-3.1.0-py3-none-any.whl (13.6 MB)\n",
      "Requirement already satisfied: spacy<3.2.0,>=3.1.0 in /opt/conda/lib/python3.7/site-packages (from en-core-web-sm==3.1.0) (3.1.3)\n",
      "Requirement already satisfied: spacy-legacy<3.1.0,>=3.0.8 in /opt/conda/lib/python3.7/site-packages (from spacy<3.2.0,>=3.1.0->en-core-web-sm==3.1.0) (3.0.8)\n",
      "Requirement already satisfied: cymem<2.1.0,>=2.0.2 in /opt/conda/lib/python3.7/site-packages (from spacy<3.2.0,>=3.1.0->en-core-web-sm==3.1.0) (2.0.6)\n",
      "Requirement already satisfied: setuptools in /opt/conda/lib/python3.7/site-packages (from spacy<3.2.0,>=3.1.0->en-core-web-sm==3.1.0) (58.0.4)\n",
      "Requirement already satisfied: thinc<8.1.0,>=8.0.9 in /opt/conda/lib/python3.7/site-packages (from spacy<3.2.0,>=3.1.0->en-core-web-sm==3.1.0) (8.0.11)\n",
      "Requirement already satisfied: pathy>=0.3.5 in /opt/conda/lib/python3.7/site-packages (from spacy<3.2.0,>=3.1.0->en-core-web-sm==3.1.0) (0.6.1)\n",
      "Requirement already satisfied: murmurhash<1.1.0,>=0.28.0 in /opt/conda/lib/python3.7/site-packages (from spacy<3.2.0,>=3.1.0->en-core-web-sm==3.1.0) (1.0.6)\n",
      "Requirement already satisfied: typer<0.5.0,>=0.3.0 in /opt/conda/lib/python3.7/site-packages (from spacy<3.2.0,>=3.1.0->en-core-web-sm==3.1.0) (0.4.0)\n",
      "Requirement already satisfied: packaging>=20.0 in /opt/conda/lib/python3.7/site-packages (from spacy<3.2.0,>=3.1.0->en-core-web-sm==3.1.0) (21.0)\n",
      "Requirement already satisfied: tqdm<5.0.0,>=4.38.0 in /opt/conda/lib/python3.7/site-packages (from spacy<3.2.0,>=3.1.0->en-core-web-sm==3.1.0) (4.62.3)\n",
      "Requirement already satisfied: jinja2 in /opt/conda/lib/python3.7/site-packages (from spacy<3.2.0,>=3.1.0->en-core-web-sm==3.1.0) (3.0.2)\n",
      "Requirement already satisfied: numpy>=1.15.0 in /opt/conda/lib/python3.7/site-packages (from spacy<3.2.0,>=3.1.0->en-core-web-sm==3.1.0) (1.19.5)\n",
      "Requirement already satisfied: blis<0.8.0,>=0.4.0 in /opt/conda/lib/python3.7/site-packages (from spacy<3.2.0,>=3.1.0->en-core-web-sm==3.1.0) (0.7.5)\n",
      "Requirement already satisfied: catalogue<2.1.0,>=2.0.6 in /opt/conda/lib/python3.7/site-packages (from spacy<3.2.0,>=3.1.0->en-core-web-sm==3.1.0) (2.0.6)\n",
      "Requirement already satisfied: requests<3.0.0,>=2.13.0 in /opt/conda/lib/python3.7/site-packages (from spacy<3.2.0,>=3.1.0->en-core-web-sm==3.1.0) (2.25.1)\n",
      "Requirement already satisfied: srsly<3.0.0,>=2.4.1 in /opt/conda/lib/python3.7/site-packages (from spacy<3.2.0,>=3.1.0->en-core-web-sm==3.1.0) (2.4.2)\n",
      "Requirement already satisfied: pydantic!=1.8,!=1.8.1,<1.9.0,>=1.7.4 in /opt/conda/lib/python3.7/site-packages (from spacy<3.2.0,>=3.1.0->en-core-web-sm==3.1.0) (1.8.2)\n",
      "Requirement already satisfied: typing-extensions<4.0.0.0,>=3.7.4 in /opt/conda/lib/python3.7/site-packages (from spacy<3.2.0,>=3.1.0->en-core-web-sm==3.1.0) (3.10.0.2)\n",
      "Requirement already satisfied: wasabi<1.1.0,>=0.8.1 in /opt/conda/lib/python3.7/site-packages (from spacy<3.2.0,>=3.1.0->en-core-web-sm==3.1.0) (0.8.2)\n",
      "Requirement already satisfied: preshed<3.1.0,>=3.0.2 in /opt/conda/lib/python3.7/site-packages (from spacy<3.2.0,>=3.1.0->en-core-web-sm==3.1.0) (3.0.6)\n",
      "Requirement already satisfied: zipp>=0.5 in /opt/conda/lib/python3.7/site-packages (from catalogue<2.1.0,>=2.0.6->spacy<3.2.0,>=3.1.0->en-core-web-sm==3.1.0) (3.5.0)\n",
      "Requirement already satisfied: pyparsing>=2.0.2 in /opt/conda/lib/python3.7/site-packages (from packaging>=20.0->spacy<3.2.0,>=3.1.0->en-core-web-sm==3.1.0) (2.4.7)\n",
      "Requirement already satisfied: smart-open<6.0.0,>=5.0.0 in /opt/conda/lib/python3.7/site-packages (from pathy>=0.3.5->spacy<3.2.0,>=3.1.0->en-core-web-sm==3.1.0) (5.2.1)\n",
      "Requirement already satisfied: certifi>=2017.4.17 in /opt/conda/lib/python3.7/site-packages (from requests<3.0.0,>=2.13.0->spacy<3.2.0,>=3.1.0->en-core-web-sm==3.1.0) (2021.10.8)\n",
      "Requirement already satisfied: urllib3<1.27,>=1.21.1 in /opt/conda/lib/python3.7/site-packages (from requests<3.0.0,>=2.13.0->spacy<3.2.0,>=3.1.0->en-core-web-sm==3.1.0) (1.26.6)\n",
      "Requirement already satisfied: chardet<5,>=3.0.2 in /opt/conda/lib/python3.7/site-packages (from requests<3.0.0,>=2.13.0->spacy<3.2.0,>=3.1.0->en-core-web-sm==3.1.0) (4.0.0)\n",
      "Requirement already satisfied: idna<3,>=2.5 in /opt/conda/lib/python3.7/site-packages (from requests<3.0.0,>=2.13.0->spacy<3.2.0,>=3.1.0->en-core-web-sm==3.1.0) (2.10)\n",
      "Requirement already satisfied: click<9.0.0,>=7.1.1 in /opt/conda/lib/python3.7/site-packages (from typer<0.5.0,>=0.3.0->spacy<3.2.0,>=3.1.0->en-core-web-sm==3.1.0) (8.0.1)\n",
      "Requirement already satisfied: importlib-metadata in /opt/conda/lib/python3.7/site-packages (from click<9.0.0,>=7.1.1->typer<0.5.0,>=0.3.0->spacy<3.2.0,>=3.1.0->en-core-web-sm==3.1.0) (4.8.1)\n",
      "Requirement already satisfied: MarkupSafe>=2.0 in /opt/conda/lib/python3.7/site-packages (from jinja2->spacy<3.2.0,>=3.1.0->en-core-web-sm==3.1.0) (2.0.1)\n"
     ]
    },
    {
     "name": "stderr",
     "output_type": "stream",
     "text": [
      "WARNING: Running pip as the 'root' user can result in broken permissions and conflicting behaviour with the system package manager. It is recommended to use a virtual environment instead: https://pip.pypa.io/warnings/venv\n"
     ]
    },
    {
     "name": "stdout",
     "output_type": "stream",
     "text": [
      "\u001b[38;5;2m✔ Download and installation successful\u001b[0m\n",
      "You can now load the package via spacy.load('en_core_web_sm')\n",
      "Collecting de-core-news-sm==3.1.0\n",
      "  Downloading https://github.com/explosion/spacy-models/releases/download/de_core_news_sm-3.1.0/de_core_news_sm-3.1.0-py3-none-any.whl (18.8 MB)\n",
      "Requirement already satisfied: spacy<3.2.0,>=3.1.0 in /opt/conda/lib/python3.7/site-packages (from de-core-news-sm==3.1.0) (3.1.3)\n",
      "Requirement already satisfied: typer<0.5.0,>=0.3.0 in /opt/conda/lib/python3.7/site-packages (from spacy<3.2.0,>=3.1.0->de-core-news-sm==3.1.0) (0.4.0)\n",
      "Requirement already satisfied: murmurhash<1.1.0,>=0.28.0 in /opt/conda/lib/python3.7/site-packages (from spacy<3.2.0,>=3.1.0->de-core-news-sm==3.1.0) (1.0.6)\n",
      "Requirement already satisfied: preshed<3.1.0,>=3.0.2 in /opt/conda/lib/python3.7/site-packages (from spacy<3.2.0,>=3.1.0->de-core-news-sm==3.1.0) (3.0.6)\n",
      "Requirement already satisfied: typing-extensions<4.0.0.0,>=3.7.4 in /opt/conda/lib/python3.7/site-packages (from spacy<3.2.0,>=3.1.0->de-core-news-sm==3.1.0) (3.10.0.2)\n",
      "Requirement already satisfied: pydantic!=1.8,!=1.8.1,<1.9.0,>=1.7.4 in /opt/conda/lib/python3.7/site-packages (from spacy<3.2.0,>=3.1.0->de-core-news-sm==3.1.0) (1.8.2)\n",
      "Requirement already satisfied: thinc<8.1.0,>=8.0.9 in /opt/conda/lib/python3.7/site-packages (from spacy<3.2.0,>=3.1.0->de-core-news-sm==3.1.0) (8.0.11)\n",
      "Requirement already satisfied: numpy>=1.15.0 in /opt/conda/lib/python3.7/site-packages (from spacy<3.2.0,>=3.1.0->de-core-news-sm==3.1.0) (1.19.5)\n",
      "Requirement already satisfied: setuptools in /opt/conda/lib/python3.7/site-packages (from spacy<3.2.0,>=3.1.0->de-core-news-sm==3.1.0) (58.0.4)\n",
      "Requirement already satisfied: catalogue<2.1.0,>=2.0.6 in /opt/conda/lib/python3.7/site-packages (from spacy<3.2.0,>=3.1.0->de-core-news-sm==3.1.0) (2.0.6)\n",
      "Requirement already satisfied: requests<3.0.0,>=2.13.0 in /opt/conda/lib/python3.7/site-packages (from spacy<3.2.0,>=3.1.0->de-core-news-sm==3.1.0) (2.25.1)\n",
      "Requirement already satisfied: packaging>=20.0 in /opt/conda/lib/python3.7/site-packages (from spacy<3.2.0,>=3.1.0->de-core-news-sm==3.1.0) (21.0)\n",
      "Requirement already satisfied: pathy>=0.3.5 in /opt/conda/lib/python3.7/site-packages (from spacy<3.2.0,>=3.1.0->de-core-news-sm==3.1.0) (0.6.1)\n",
      "Requirement already satisfied: wasabi<1.1.0,>=0.8.1 in /opt/conda/lib/python3.7/site-packages (from spacy<3.2.0,>=3.1.0->de-core-news-sm==3.1.0) (0.8.2)\n",
      "Requirement already satisfied: cymem<2.1.0,>=2.0.2 in /opt/conda/lib/python3.7/site-packages (from spacy<3.2.0,>=3.1.0->de-core-news-sm==3.1.0) (2.0.6)\n",
      "Requirement already satisfied: srsly<3.0.0,>=2.4.1 in /opt/conda/lib/python3.7/site-packages (from spacy<3.2.0,>=3.1.0->de-core-news-sm==3.1.0) (2.4.2)\n",
      "Requirement already satisfied: tqdm<5.0.0,>=4.38.0 in /opt/conda/lib/python3.7/site-packages (from spacy<3.2.0,>=3.1.0->de-core-news-sm==3.1.0) (4.62.3)\n",
      "Requirement already satisfied: spacy-legacy<3.1.0,>=3.0.8 in /opt/conda/lib/python3.7/site-packages (from spacy<3.2.0,>=3.1.0->de-core-news-sm==3.1.0) (3.0.8)\n",
      "Requirement already satisfied: jinja2 in /opt/conda/lib/python3.7/site-packages (from spacy<3.2.0,>=3.1.0->de-core-news-sm==3.1.0) (3.0.2)\n",
      "Requirement already satisfied: blis<0.8.0,>=0.4.0 in /opt/conda/lib/python3.7/site-packages (from spacy<3.2.0,>=3.1.0->de-core-news-sm==3.1.0) (0.7.5)\n",
      "Requirement already satisfied: zipp>=0.5 in /opt/conda/lib/python3.7/site-packages (from catalogue<2.1.0,>=2.0.6->spacy<3.2.0,>=3.1.0->de-core-news-sm==3.1.0) (3.5.0)\n",
      "Requirement already satisfied: pyparsing>=2.0.2 in /opt/conda/lib/python3.7/site-packages (from packaging>=20.0->spacy<3.2.0,>=3.1.0->de-core-news-sm==3.1.0) (2.4.7)\n",
      "Requirement already satisfied: smart-open<6.0.0,>=5.0.0 in /opt/conda/lib/python3.7/site-packages (from pathy>=0.3.5->spacy<3.2.0,>=3.1.0->de-core-news-sm==3.1.0) (5.2.1)\n",
      "Requirement already satisfied: chardet<5,>=3.0.2 in /opt/conda/lib/python3.7/site-packages (from requests<3.0.0,>=2.13.0->spacy<3.2.0,>=3.1.0->de-core-news-sm==3.1.0) (4.0.0)\n",
      "Requirement already satisfied: certifi>=2017.4.17 in /opt/conda/lib/python3.7/site-packages (from requests<3.0.0,>=2.13.0->spacy<3.2.0,>=3.1.0->de-core-news-sm==3.1.0) (2021.10.8)\n",
      "Requirement already satisfied: urllib3<1.27,>=1.21.1 in /opt/conda/lib/python3.7/site-packages (from requests<3.0.0,>=2.13.0->spacy<3.2.0,>=3.1.0->de-core-news-sm==3.1.0) (1.26.6)\n",
      "Requirement already satisfied: idna<3,>=2.5 in /opt/conda/lib/python3.7/site-packages (from requests<3.0.0,>=2.13.0->spacy<3.2.0,>=3.1.0->de-core-news-sm==3.1.0) (2.10)\n",
      "Requirement already satisfied: click<9.0.0,>=7.1.1 in /opt/conda/lib/python3.7/site-packages (from typer<0.5.0,>=0.3.0->spacy<3.2.0,>=3.1.0->de-core-news-sm==3.1.0) (8.0.1)\n",
      "Requirement already satisfied: importlib-metadata in /opt/conda/lib/python3.7/site-packages (from click<9.0.0,>=7.1.1->typer<0.5.0,>=0.3.0->spacy<3.2.0,>=3.1.0->de-core-news-sm==3.1.0) (4.8.1)\n",
      "Requirement already satisfied: MarkupSafe>=2.0 in /opt/conda/lib/python3.7/site-packages (from jinja2->spacy<3.2.0,>=3.1.0->de-core-news-sm==3.1.0) (2.0.1)\n",
      "Installing collected packages: de-core-news-sm\n",
      "Successfully installed de-core-news-sm-3.1.0\n",
      "\u001b[38;5;2m✔ Download and installation successful\u001b[0m\n",
      "You can now load the package via spacy.load('de_core_news_sm')\n"
     ]
    },
    {
     "name": "stderr",
     "output_type": "stream",
     "text": [
      "WARNING: Running pip as the 'root' user can result in broken permissions and conflicting behaviour with the system package manager. It is recommended to use a virtual environment instead: https://pip.pypa.io/warnings/venv\n"
     ]
    }
   ],
   "source": [
    "import spacy.cli \n",
    "spacy.cli.download(\"en_core_web_sm\")\n",
    "spacy.cli.download(\"de_core_news_sm\")"
   ]
  },
  {
   "cell_type": "code",
   "execution_count": 4,
   "id": "360933d6",
   "metadata": {
    "execution": {
     "iopub.execute_input": "2021-11-14T19:05:05.508613Z",
     "iopub.status.busy": "2021-11-14T19:05:05.507807Z",
     "iopub.status.idle": "2021-11-14T19:05:08.101302Z",
     "shell.execute_reply": "2021-11-14T19:05:08.100418Z",
     "shell.execute_reply.started": "2021-11-14T18:53:36.405727Z"
    },
    "papermill": {
     "duration": 2.635627,
     "end_time": "2021-11-14T19:05:08.101444",
     "exception": false,
     "start_time": "2021-11-14T19:05:05.465817",
     "status": "completed"
    },
    "tags": []
   },
   "outputs": [],
   "source": [
    "# Creating tokenizers\n",
    "spacy_de = spacy.load('de_core_news_sm')\n",
    "spacy_en = spacy.load('en_core_web_sm')"
   ]
  },
  {
   "cell_type": "code",
   "execution_count": 5,
   "id": "d8d48f04",
   "metadata": {
    "execution": {
     "iopub.execute_input": "2021-11-14T19:05:08.184109Z",
     "iopub.status.busy": "2021-11-14T19:05:08.183284Z",
     "iopub.status.idle": "2021-11-14T19:05:08.185411Z",
     "shell.execute_reply": "2021-11-14T19:05:08.185843Z",
     "shell.execute_reply.started": "2021-11-14T18:53:39.617697Z"
    },
    "papermill": {
     "duration": 0.045644,
     "end_time": "2021-11-14T19:05:08.186002",
     "exception": false,
     "start_time": "2021-11-14T19:05:08.140358",
     "status": "completed"
    },
    "tags": []
   },
   "outputs": [],
   "source": [
    "def tokenize_de(text):\n",
    "    \"\"\"\n",
    "    Tokenizes German text from a string into a list of strings (tokens)\n",
    "    \n",
    "    :param text: the german sentence\n",
    "    \"\"\"\n",
    "    \n",
    "    return [tok.text for tok in spacy_de.tokenizer(text)]\n",
    "\n",
    "def tokenize_en(text):\n",
    "    \"\"\"\n",
    "    Tokenizes English text from a string into a list of strings (tokens)\n",
    "    \n",
    "    :param text: the english sentence\n",
    "    \"\"\"\n",
    "    \n",
    "    return [tok.text for tok in spacy_en.tokenizer(text)]"
   ]
  },
  {
   "cell_type": "code",
   "execution_count": 6,
   "id": "d3dc43ba",
   "metadata": {
    "execution": {
     "iopub.execute_input": "2021-11-14T19:05:08.319676Z",
     "iopub.status.busy": "2021-11-14T19:05:08.318879Z",
     "iopub.status.idle": "2021-11-14T19:05:08.324503Z",
     "shell.execute_reply": "2021-11-14T19:05:08.325182Z",
     "shell.execute_reply.started": "2021-11-14T18:53:39.627920Z"
    },
    "papermill": {
     "duration": 0.057895,
     "end_time": "2021-11-14T19:05:08.325378",
     "exception": false,
     "start_time": "2021-11-14T19:05:08.267483",
     "status": "completed"
    },
    "tags": []
   },
   "outputs": [],
   "source": [
    "# Source is in German and Target is in English\n",
    "\n",
    "SRC = Field(tokenize = tokenize_de,\n",
    "            init_token = '<sos>',\n",
    "            eos_token = '<eos>',\n",
    "            lower = True,\n",
    "            batch_first = True)\n",
    "\n",
    "TRG = Field(tokenize = tokenize_en,\n",
    "            init_token = '<sos>',\n",
    "            eos_token = '<eos>',\n",
    "            lower = True,\n",
    "            batch_first = True)"
   ]
  },
  {
   "cell_type": "code",
   "execution_count": 7,
   "id": "b1fde0a2",
   "metadata": {
    "execution": {
     "iopub.execute_input": "2021-11-14T19:05:08.410357Z",
     "iopub.status.busy": "2021-11-14T19:05:08.409579Z",
     "iopub.status.idle": "2021-11-14T19:05:19.577915Z",
     "shell.execute_reply": "2021-11-14T19:05:19.576977Z",
     "shell.execute_reply.started": "2021-11-14T18:53:39.644969Z"
    },
    "papermill": {
     "duration": 11.209483,
     "end_time": "2021-11-14T19:05:19.578070",
     "exception": false,
     "start_time": "2021-11-14T19:05:08.368587",
     "status": "completed"
    },
    "tags": []
   },
   "outputs": [
    {
     "name": "stdout",
     "output_type": "stream",
     "text": [
      "downloading training.tar.gz\n"
     ]
    },
    {
     "name": "stderr",
     "output_type": "stream",
     "text": [
      "training.tar.gz: 100%|██████████| 1.21M/1.21M [00:02<00:00, 414kB/s]\n"
     ]
    },
    {
     "name": "stdout",
     "output_type": "stream",
     "text": [
      "downloading validation.tar.gz\n"
     ]
    },
    {
     "name": "stderr",
     "output_type": "stream",
     "text": [
      "validation.tar.gz: 100%|██████████| 46.3k/46.3k [00:00<00:00, 175kB/s]\n"
     ]
    },
    {
     "name": "stdout",
     "output_type": "stream",
     "text": [
      "downloading mmt_task1_test2016.tar.gz\n"
     ]
    },
    {
     "name": "stderr",
     "output_type": "stream",
     "text": [
      "mmt_task1_test2016.tar.gz: 100%|██████████| 66.2k/66.2k [00:00<00:00, 167kB/s]\n"
     ]
    }
   ],
   "source": [
    "# Download and load the train, valid and test data\n",
    "\n",
    "train_data, valid_data, test_data = Multi30k.splits(\n",
    "    exts = ('.de', '.en'),\n",
    "    fields = (SRC, TRG)\n",
    ")"
   ]
  },
  {
   "cell_type": "code",
   "execution_count": 8,
   "id": "89b6850c",
   "metadata": {
    "execution": {
     "iopub.execute_input": "2021-11-14T19:05:19.679537Z",
     "iopub.status.busy": "2021-11-14T19:05:19.678777Z",
     "iopub.status.idle": "2021-11-14T19:05:19.682022Z",
     "shell.execute_reply": "2021-11-14T19:05:19.682453Z",
     "shell.execute_reply.started": "2021-11-14T18:53:46.053762Z"
    },
    "papermill": {
     "duration": 0.055941,
     "end_time": "2021-11-14T19:05:19.682578",
     "exception": false,
     "start_time": "2021-11-14T19:05:19.626637",
     "status": "completed"
    },
    "tags": []
   },
   "outputs": [
    {
     "name": "stdout",
     "output_type": "stream",
     "text": [
      "Number of training examples: 29000\n",
      "Number of validation examples: 1014\n",
      "Number of testing examples: 1000\n",
      "{'src': ['zwei', 'junge', 'weiße', 'männer', 'sind', 'im', 'freien', 'in', 'der', 'nähe', 'vieler', 'büsche', '.'], 'trg': ['two', 'young', ',', 'white', 'males', 'are', 'outside', 'near', 'many', 'bushes', '.']}\n"
     ]
    }
   ],
   "source": [
    "# Verifying\n",
    "\n",
    "print(f\"Number of training examples: {len(train_data.examples)}\")\n",
    "print(f\"Number of validation examples: {len(valid_data.examples)}\")\n",
    "print(f\"Number of testing examples: {len(test_data.examples)}\")\n",
    "\n",
    "print(vars(train_data.examples[0]))"
   ]
  },
  {
   "cell_type": "code",
   "execution_count": 9,
   "id": "38e2554f",
   "metadata": {
    "execution": {
     "iopub.execute_input": "2021-11-14T19:05:19.810998Z",
     "iopub.status.busy": "2021-11-14T19:05:19.795632Z",
     "iopub.status.idle": "2021-11-14T19:05:20.051788Z",
     "shell.execute_reply": "2021-11-14T19:05:20.052392Z",
     "shell.execute_reply.started": "2021-11-14T18:53:46.067064Z"
    },
    "papermill": {
     "duration": 0.321769,
     "end_time": "2021-11-14T19:05:20.052558",
     "exception": false,
     "start_time": "2021-11-14T19:05:19.730789",
     "status": "completed"
    },
    "tags": []
   },
   "outputs": [],
   "source": [
    "# building vocabulary\n",
    "# min_freq => min threshold to include the word in the vocab\n",
    "\n",
    "SRC.build_vocab(train_data, min_freq=2)\n",
    "TRG.build_vocab(train_data, min_freq=2)"
   ]
  },
  {
   "cell_type": "code",
   "execution_count": 10,
   "id": "ad937ee9",
   "metadata": {
    "execution": {
     "iopub.execute_input": "2021-11-14T19:05:20.152647Z",
     "iopub.status.busy": "2021-11-14T19:05:20.151654Z",
     "iopub.status.idle": "2021-11-14T19:05:20.154945Z",
     "shell.execute_reply": "2021-11-14T19:05:20.155389Z",
     "shell.execute_reply.started": "2021-11-14T18:53:46.406062Z"
    },
    "papermill": {
     "duration": 0.055004,
     "end_time": "2021-11-14T19:05:20.155517",
     "exception": false,
     "start_time": "2021-11-14T19:05:20.100513",
     "status": "completed"
    },
    "tags": []
   },
   "outputs": [
    {
     "name": "stdout",
     "output_type": "stream",
     "text": [
      "Unique tokens in source (de) vocabulary: 7853\n",
      "Unique tokens in target (en) vocabulary: 5893\n"
     ]
    }
   ],
   "source": [
    "# Unique Tokens\n",
    "print(f\"Unique tokens in source (de) vocabulary: {len(SRC.vocab)}\")\n",
    "print(f\"Unique tokens in target (en) vocabulary: {len(TRG.vocab)}\")"
   ]
  },
  {
   "cell_type": "markdown",
   "id": "e34c7b94",
   "metadata": {
    "papermill": {
     "duration": 0.048352,
     "end_time": "2021-11-14T19:05:20.252131",
     "exception": false,
     "start_time": "2021-11-14T19:05:20.203779",
     "status": "completed"
    },
    "tags": []
   },
   "source": [
    "## Creating Iterators"
   ]
  },
  {
   "cell_type": "code",
   "execution_count": 11,
   "id": "704bfd16",
   "metadata": {
    "execution": {
     "iopub.execute_input": "2021-11-14T19:05:20.354154Z",
     "iopub.status.busy": "2021-11-14T19:05:20.353393Z",
     "iopub.status.idle": "2021-11-14T19:05:20.355352Z",
     "shell.execute_reply": "2021-11-14T19:05:20.355795Z",
     "shell.execute_reply.started": "2021-11-14T18:53:46.416036Z"
    },
    "papermill": {
     "duration": 0.055949,
     "end_time": "2021-11-14T19:05:20.355941",
     "exception": false,
     "start_time": "2021-11-14T19:05:20.299992",
     "status": "completed"
    },
    "tags": []
   },
   "outputs": [],
   "source": [
    "device = torch.device('cuda' if torch.cuda.is_available() else 'cpu')\n",
    "\n",
    "BATCH_SIZE = 128\n",
    "\n",
    "train_iterator, valid_iterator, test_iterator = BucketIterator.splits(\n",
    "    (train_data, valid_data, test_data),\n",
    "    batch_size = BATCH_SIZE,\n",
    "    device = device\n",
    ")"
   ]
  },
  {
   "cell_type": "markdown",
   "id": "e693bbb8",
   "metadata": {
    "papermill": {
     "duration": 0.047736,
     "end_time": "2021-11-14T19:05:20.451265",
     "exception": false,
     "start_time": "2021-11-14T19:05:20.403529",
     "status": "completed"
    },
    "tags": []
   },
   "source": [
    "## Building the Model"
   ]
  },
  {
   "cell_type": "markdown",
   "id": "36706ccc",
   "metadata": {
    "papermill": {
     "duration": 0.047913,
     "end_time": "2021-11-14T19:05:20.546834",
     "exception": false,
     "start_time": "2021-11-14T19:05:20.498921",
     "status": "completed"
    },
    "tags": []
   },
   "source": [
    "### Encoder"
   ]
  },
  {
   "cell_type": "code",
   "execution_count": 12,
   "id": "16ae0728",
   "metadata": {
    "execution": {
     "iopub.execute_input": "2021-11-14T19:05:20.646334Z",
     "iopub.status.busy": "2021-11-14T19:05:20.645518Z",
     "iopub.status.idle": "2021-11-14T19:05:20.655652Z",
     "shell.execute_reply": "2021-11-14T19:05:20.655220Z",
     "shell.execute_reply.started": "2021-11-14T18:53:46.464939Z"
    },
    "papermill": {
     "duration": 0.061145,
     "end_time": "2021-11-14T19:05:20.655751",
     "exception": false,
     "start_time": "2021-11-14T19:05:20.594606",
     "status": "completed"
    },
    "tags": []
   },
   "outputs": [],
   "source": [
    "class Encoder(nn.Module):\n",
    "    \n",
    "    def __init__(self, input_dim, hid_dim, n_layers, n_heads, pf_dim, dropout, device, max_length = 100):\n",
    "        \"\"\"\n",
    "        :param input_dim: It is the size/dimensionality of the one-hot vectors that will be input to the encoder. \n",
    "                        This is equal to the input (source) vocabulary size.\n",
    "        :param hid_dim: It is the dimensionality of the embedding layer. \n",
    "                        This layer converts the one-hot vectors into dense vectors with hid_dim dimensions.\n",
    "        :param n_layers: The number of (Attention) layers stacked in the Encoder.\n",
    "        :param n_heads: The number of heads in the Multi-Head Attention Layer.\n",
    "        :param pf_dim: In Feed Forward Network, hid_dim is first converted to pf_dim.\n",
    "        :param dropout: It is the amount of dropout to use. \n",
    "                        This is a regularization parameter to prevent overfitting.\n",
    "        :param device: cpu or gpu\n",
    "        :param max_length: the maximum length of the sentence upto which transformer can work properly.\n",
    "        \"\"\"\n",
    "        \n",
    "        super().__init__()\n",
    "        \n",
    "        self.device = device\n",
    "        \n",
    "        self.tok_embedding = nn.Embedding(input_dim, hid_dim)\n",
    "        self.pos_embedding = nn.Embedding(max_length, hid_dim)\n",
    "        \n",
    "        self.layers = nn.ModuleList([\n",
    "            EncoderLayer(\n",
    "                hid_dim,\n",
    "                n_heads,\n",
    "                pf_dim,\n",
    "                dropout,\n",
    "                device\n",
    "            )\n",
    "            for _ in range(n_layers)\n",
    "        ])\n",
    "        \n",
    "        self.dropout = nn.Dropout(dropout)\n",
    "        \n",
    "        self.scale = torch.sqrt(torch.FloatTensor([hid_dim])).to(device)\n",
    "        \n",
    "    def forward(self, src, src_mask):\n",
    "        \"\"\"\n",
    "        :param src: the source sentence\n",
    "                    src.shape => (batch_size, src_len)\n",
    "        :param src_mask: Its corresponding mask\n",
    "                    src_mask.shape => (batch_size, 1, 1, src_len)\n",
    "        \"\"\"\n",
    "        \n",
    "        batch_size = src.shape[0]\n",
    "        src_len = src.shape[1]\n",
    "        \n",
    "        pos = torch.arange(0, src_len).unsqueeze(0).repeat(batch_size, 1).to(self.device)\n",
    "        # pos.shape => (batch_size, src_len)\n",
    "        \n",
    "        src = self.dropout(\n",
    "            (self.tok_embedding(src) * self.scale) +\n",
    "            self.pos_embedding(pos)\n",
    "        )\n",
    "        # src.shape => (batch_size, src_len, hid_dim)\n",
    "        \n",
    "        for layer in self.layers:\n",
    "            src = layer(src, src_mask)\n",
    "            \n",
    "        # src.shape => (batch_size, src_len, hid_dim)\n",
    "        \n",
    "        return src"
   ]
  },
  {
   "cell_type": "markdown",
   "id": "fcc59723",
   "metadata": {
    "papermill": {
     "duration": 0.047912,
     "end_time": "2021-11-14T19:05:20.751367",
     "exception": false,
     "start_time": "2021-11-14T19:05:20.703455",
     "status": "completed"
    },
    "tags": []
   },
   "source": [
    "### Encoder Layer"
   ]
  },
  {
   "cell_type": "code",
   "execution_count": 13,
   "id": "8484c0f7",
   "metadata": {
    "execution": {
     "iopub.execute_input": "2021-11-14T19:05:20.854975Z",
     "iopub.status.busy": "2021-11-14T19:05:20.854159Z",
     "iopub.status.idle": "2021-11-14T19:05:20.856570Z",
     "shell.execute_reply": "2021-11-14T19:05:20.856154Z",
     "shell.execute_reply.started": "2021-11-14T18:53:46.482452Z"
    },
    "papermill": {
     "duration": 0.057584,
     "end_time": "2021-11-14T19:05:20.856673",
     "exception": false,
     "start_time": "2021-11-14T19:05:20.799089",
     "status": "completed"
    },
    "tags": []
   },
   "outputs": [],
   "source": [
    "class EncoderLayer(nn.Module):\n",
    "    \n",
    "    def __init__(self, hid_dim, n_heads, pf_dim, dropout, device):\n",
    "        \"\"\"\n",
    "        :param hid_dim: It is the dimensionality of the embedding layer.\n",
    "        :param n_heads: The number of heads in the Multi-Head Attention Layer.\n",
    "        :param pf_dim: In Feed Forward Network, hid_dim is first converted to pf_dim.\n",
    "        :param dropout: It is the amount of dropout to use. \n",
    "                        This is a regularization parameter to prevent overfitting.\n",
    "        :param device: cpu or gpu\n",
    "        \"\"\"\n",
    "        \n",
    "        super().__init__()\n",
    "        \n",
    "        self.self_attn_layer_norm = nn.LayerNorm(hid_dim)\n",
    "        # This is just, y = {(x - E(x)) / (Var(x) + e)**0.5} * gamma + beta\n",
    "        # gamma and beta are learned\n",
    "        \n",
    "        self.ff_layer_norm = nn.LayerNorm(hid_dim)\n",
    "        \n",
    "        self.self_attention = MultiHeadAttentionLayer(hid_dim, n_heads, dropout, device)\n",
    "        \n",
    "        self.positionwise_feedforward = PositionwiseFeedforwardLayer(hid_dim, pf_dim, dropout)\n",
    "        \n",
    "        self.dropout = nn.Dropout(dropout)\n",
    "        \n",
    "        \n",
    "    def forward(self, src, src_mask,):\n",
    "        \"\"\"\n",
    "        :param src: the source sentence\n",
    "                    src.shape => (batch_size, src_len)\n",
    "        :param src_mask: Its corresponding mask\n",
    "                    src_mask.shape => (batch_size, 1, 1, src_len)\n",
    "        \"\"\"\n",
    "        \n",
    "        # self Attention\n",
    "        _src, _ = self.self_attention(src, src, src, src_mask)\n",
    "        \n",
    "        # dropout, residual connection and layer norm\n",
    "        src = self.self_attn_layer_norm(src + self.dropout(_src))\n",
    "        # src.shape => (batch_size, src_len, hid_dim)\n",
    "        \n",
    "        # Positionwise Feedforward\n",
    "        _src = self.positionwise_feedforward(src)\n",
    "        \n",
    "        # dropout, residual and layer norm\n",
    "        src = self.ff_layer_norm(src + self.dropout(_src))\n",
    "        # src.shape => (batch_size, src_len, hid_dim)\n",
    "        \n",
    "        return src"
   ]
  },
  {
   "cell_type": "markdown",
   "id": "e419e5d7",
   "metadata": {
    "papermill": {
     "duration": 0.047367,
     "end_time": "2021-11-14T19:05:20.951747",
     "exception": false,
     "start_time": "2021-11-14T19:05:20.904380",
     "status": "completed"
    },
    "tags": []
   },
   "source": [
    "### Multi-Head Attention Layer"
   ]
  },
  {
   "cell_type": "code",
   "execution_count": 14,
   "id": "d6586ed9",
   "metadata": {
    "execution": {
     "iopub.execute_input": "2021-11-14T19:05:21.063293Z",
     "iopub.status.busy": "2021-11-14T19:05:21.062483Z",
     "iopub.status.idle": "2021-11-14T19:05:21.064833Z",
     "shell.execute_reply": "2021-11-14T19:05:21.064406Z",
     "shell.execute_reply.started": "2021-11-14T18:53:46.498347Z"
    },
    "papermill": {
     "duration": 0.06291,
     "end_time": "2021-11-14T19:05:21.064960",
     "exception": false,
     "start_time": "2021-11-14T19:05:21.002050",
     "status": "completed"
    },
    "tags": []
   },
   "outputs": [],
   "source": [
    "class MultiHeadAttentionLayer(nn.Module):\n",
    "    \n",
    "    def __init__(self, hid_dim, n_heads, dropout, device):\n",
    "        \"\"\"\n",
    "        :param hid_dim: It is the dimensionality of the embedding layer.\n",
    "        :param n_heads: The number of heads in the Multi-Head Attention Layer.\n",
    "        :param dropout: It is the amount of dropout to use. \n",
    "                        This is a regularization parameter to prevent overfitting.\n",
    "        :param device: cpu or gpu\n",
    "        \"\"\"\n",
    "        \n",
    "        super().__init__()\n",
    "        \n",
    "        assert hid_dim % n_heads == 0\n",
    "        \n",
    "        self.hid_dim = hid_dim\n",
    "        self.n_heads = n_heads\n",
    "        self.head_dim = hid_dim // n_heads\n",
    "        \n",
    "        self.fc_q = nn.Linear(hid_dim, hid_dim)\n",
    "        self.fc_k = nn.Linear(hid_dim, hid_dim)\n",
    "        self.fc_v = nn.Linear(hid_dim, hid_dim)\n",
    "        \n",
    "        self.fc_o = nn.Linear(hid_dim, hid_dim)\n",
    "        \n",
    "        self.dropout = nn.Dropout(dropout)\n",
    "        \n",
    "        self.scale = torch.sqrt(torch.FloatTensor([self.head_dim])).to(device)\n",
    "        \n",
    "    def forward(self, query, key, value, mask = None):\n",
    "        \"\"\"\n",
    "        :param query: the vector to feed in the `QUERY` linear layer.\n",
    "                      query.shape => (batch_size, query_len, hid_dim)\n",
    "        :param key: the vector to feed in the `KEY` linear layer.\n",
    "                      key.shape => (batch_size, key_len, hid_dim)\n",
    "        :param value: the vector to feed in the `VALUE` linear layer.\n",
    "                      value.shape => (batch_size, value_len, hid_dim)\n",
    "        :param mask: to mask the non significant values with -ve INF\n",
    "        \"\"\"\n",
    "        \n",
    "        batch_size = query.shape[0]\n",
    "        \n",
    "        Q = self.fc_q(query)\n",
    "        K = self.fc_k(key)\n",
    "        V = self.fc_v(value)\n",
    "        # Q.shape => (batch_size, query_len, hid_dim)\n",
    "        # K.shape => (batch_size, key_len, hid_dim)\n",
    "        # V.shape => (batch_size, value_len, hid_dim)\n",
    "        \n",
    "        Q = Q.view(batch_size, -1, self.n_heads, self.head_dim).permute(0, 2, 1, 3)\n",
    "        K = K.view(batch_size, -1, self.n_heads, self.head_dim).permute(0, 2, 1, 3)\n",
    "        V = V.view(batch_size, -1, self.n_heads, self.head_dim).permute(0, 2, 1, 3)\n",
    "        # Q.shape => (batch_size, n_heads, query_len, head_dim)\n",
    "        # K.shape => (batch_size, n_heads, key_len, head_dim)\n",
    "        # V.shape => (batch_size, n_heads, value_len, head_dim)\n",
    "        \n",
    "        energy = torch.matmul(Q, K.permute(0, 1, 3, 2)) / self.scale\n",
    "        # energy.shape => (batch_size, n_heads, query_len, key_len)\n",
    "        \n",
    "        if mask is not None:\n",
    "            energy = energy.masked_fill(mask == 0, -1e10)\n",
    "            \n",
    "        attention = torch.softmax(energy, dim = -1)\n",
    "        # attention.shape => (batch_size, n_heads, query_len, key_len)\n",
    "        \n",
    "        x = torch.matmul(self.dropout(attention), V)\n",
    "        # x.shape => (batch_size, n_heads, query_len, head_dim)\n",
    "        \n",
    "        x = x.permute(0, 2, 1, 3).contiguous()\n",
    "        # x.shape => (batch_size, query_len, n_heads, head_dim)\n",
    "        \n",
    "        x = x.view(batch_size, -1, self.hid_dim)\n",
    "        # x.shape => (batch_size, query_len, hid_dim)\n",
    "        \n",
    "        x = self.fc_o(x)\n",
    "        # x.shape => (batch_size, query_len, hid_dim)\n",
    "        \n",
    "        return x, attention"
   ]
  },
  {
   "cell_type": "markdown",
   "id": "92187b70",
   "metadata": {
    "papermill": {
     "duration": 0.04739,
     "end_time": "2021-11-14T19:05:21.160211",
     "exception": false,
     "start_time": "2021-11-14T19:05:21.112821",
     "status": "completed"
    },
    "tags": []
   },
   "source": [
    "### Positionwise Feedforward Layer"
   ]
  },
  {
   "cell_type": "code",
   "execution_count": 15,
   "id": "9c9a5a7d",
   "metadata": {
    "execution": {
     "iopub.execute_input": "2021-11-14T19:05:21.265107Z",
     "iopub.status.busy": "2021-11-14T19:05:21.264544Z",
     "iopub.status.idle": "2021-11-14T19:05:21.268269Z",
     "shell.execute_reply": "2021-11-14T19:05:21.267797Z",
     "shell.execute_reply.started": "2021-11-14T18:53:46.521252Z"
    },
    "papermill": {
     "duration": 0.057704,
     "end_time": "2021-11-14T19:05:21.268375",
     "exception": false,
     "start_time": "2021-11-14T19:05:21.210671",
     "status": "completed"
    },
    "tags": []
   },
   "outputs": [],
   "source": [
    "class PositionwiseFeedforwardLayer(nn.Module):\n",
    "    \n",
    "    def __init__(self, hid_dim, pf_dim, dropout):\n",
    "        \"\"\"\n",
    "        :param hid_dim: It is the dimensionality of the embedding layer.\n",
    "        :param pf_dim: In Feed Forward Network, hid_dim is first converted to pf_dim.\n",
    "        :param dropout: It is the amount of dropout to use. \n",
    "                        This is a regularization parameter to prevent overfitting.\n",
    "        \"\"\"\n",
    "        \n",
    "        super().__init__()\n",
    "        \n",
    "        self.fc_1 = nn.Linear(hid_dim, pf_dim)\n",
    "        self.fc_2 = nn.Linear(pf_dim, hid_dim)\n",
    "        \n",
    "        self.dropout = nn.Dropout(dropout)\n",
    "        \n",
    "    def forward(self, x):\n",
    "        \"\"\"\n",
    "        :param x: input to Positionwise-Feedforward-Layer\n",
    "                x.shape => (batch_size, seq_len, hid_dim)\n",
    "        \"\"\"\n",
    "        \n",
    "        # In the paper, they used GELU activation function\n",
    "        \n",
    "        x = self.dropout(torch.relu(self.fc_1(x)))\n",
    "        # x.shape => (batch_size, seq_len, pf_dim)\n",
    "        \n",
    "        x = self.fc_2(x)\n",
    "        # x.shape => (batch_size, seq_len, hid_dim)\n",
    "        \n",
    "        return x"
   ]
  },
  {
   "cell_type": "markdown",
   "id": "6fdfdb1d",
   "metadata": {
    "papermill": {
     "duration": 0.047527,
     "end_time": "2021-11-14T19:05:21.363474",
     "exception": false,
     "start_time": "2021-11-14T19:05:21.315947",
     "status": "completed"
    },
    "tags": []
   },
   "source": [
    "### Decoder"
   ]
  },
  {
   "cell_type": "code",
   "execution_count": 16,
   "id": "98b14fc4",
   "metadata": {
    "execution": {
     "iopub.execute_input": "2021-11-14T19:05:21.470358Z",
     "iopub.status.busy": "2021-11-14T19:05:21.469548Z",
     "iopub.status.idle": "2021-11-14T19:05:21.471515Z",
     "shell.execute_reply": "2021-11-14T19:05:21.471922Z",
     "shell.execute_reply.started": "2021-11-14T18:53:46.536188Z"
    },
    "papermill": {
     "duration": 0.060839,
     "end_time": "2021-11-14T19:05:21.472056",
     "exception": false,
     "start_time": "2021-11-14T19:05:21.411217",
     "status": "completed"
    },
    "tags": []
   },
   "outputs": [],
   "source": [
    "class Decoder(nn.Module):\n",
    "    \n",
    "    def __init__(self, output_dim, hid_dim, n_layers, n_heads, pf_dim, dropout, device, max_length = 100):\n",
    "        \"\"\"\n",
    "        :param output_dim: It is the size/dimensionality of the one-hot vectors that will be input to the decoder. \n",
    "                        This is equal to the output (target) vocabulary size.\n",
    "        :param hid_dim: It is the dimensionality of the embedding layer. \n",
    "                        This layer converts the one-hot vectors into dense vectors with hid_dim dimensions.\n",
    "        :param n_layers: The number of (Attention) layers stacked in the Decoder.\n",
    "        :param n_heads: The number of heads in the Multi-Head Attention Layer.\n",
    "        :param pf_dim: In Feed Forward Network, hid_dim is first converted to pf_dim.\n",
    "        :param dropout: It is the amount of dropout to use. \n",
    "                        This is a regularization parameter to prevent overfitting.\n",
    "        :param device: cpu or gpu\n",
    "        :param max_length: the maximum length of the sentence upto which transformer can work properly.\n",
    "        \"\"\"\n",
    "        \n",
    "        super().__init__()\n",
    "        \n",
    "        self.device = device\n",
    "        \n",
    "        self.tok_embedding = nn.Embedding(output_dim, hid_dim)\n",
    "        self.pos_embedding = nn.Embedding(max_length, hid_dim)\n",
    "        \n",
    "        self.layers = nn.ModuleList([\n",
    "            DecoderLayer(\n",
    "                hid_dim,\n",
    "                n_heads,\n",
    "                pf_dim,\n",
    "                dropout,\n",
    "                device\n",
    "            )\n",
    "            for _ in range(n_layers)\n",
    "        ])\n",
    "        \n",
    "        self.fc_out = nn.Linear(hid_dim, output_dim)\n",
    "        \n",
    "        self.dropout = nn.Dropout(dropout)\n",
    "        \n",
    "        self.scale = torch.sqrt(torch.FloatTensor([hid_dim])).to(device)\n",
    "        \n",
    "    def forward(self, trg, enc_src, trg_mask, src_mask):\n",
    "        \"\"\"\n",
    "        :param trg: the target sentence\n",
    "                    trg.shape => (batch_size, trg_len)\n",
    "        :param enc_src: the encoded source sentence\n",
    "                    enc_src.shape => (batch_size, src_len, hid_dim)\n",
    "        :param trg_mask: the mask for the target sentence\n",
    "                    trg_mask.shape => (batch_size, 1, trg_len, trg_len)\n",
    "                    As we are processing all of the target tokens at once in parallel,\n",
    "                    we need a method of stopping the decoder from \"cheating\" by simply \"looking\"\n",
    "                    at what the next token in the target sequence is and outputting it.\n",
    "        :param src_mask: the mask for the source sentence\n",
    "                    src_mask.shape => (batch_size, 1, 1, src_len)\n",
    "        \"\"\"\n",
    "        \n",
    "        batch_size = trg.shape[0]\n",
    "        trg_len = trg.shape[1]\n",
    "        \n",
    "        pos = torch.arange(0, trg_len).unsqueeze(0).repeat(batch_size, 1).to(self.device)\n",
    "        # pos.shape => (batch_size, trg_len)\n",
    "        \n",
    "        trg = self.dropout(\n",
    "            (self.tok_embedding(trg) * self.scale) + \n",
    "            self.pos_embedding(pos)\n",
    "        )\n",
    "        # trg.shape => (batch_size, trg_len, hid_dim)\n",
    "        \n",
    "        for layer in self.layers:\n",
    "            trg, attention = layer(trg, enc_src, trg_mask, src_mask)\n",
    "            \n",
    "        # trg.shape => (batch_size, trg_len, hid_dim)\n",
    "        # attention.shape => (batch_size, n_heads, trg_len, src_len)\n",
    "        \n",
    "        output = self.fc_out(trg)\n",
    "        # output.shape => (batch_size, trg_len, output_dim)\n",
    "        \n",
    "        return output, attention"
   ]
  },
  {
   "cell_type": "markdown",
   "id": "eb6bdb0f",
   "metadata": {
    "papermill": {
     "duration": 0.047548,
     "end_time": "2021-11-14T19:05:21.567934",
     "exception": false,
     "start_time": "2021-11-14T19:05:21.520386",
     "status": "completed"
    },
    "tags": []
   },
   "source": [
    "### Decoder Layer"
   ]
  },
  {
   "cell_type": "code",
   "execution_count": 17,
   "id": "ddb27b39",
   "metadata": {
    "execution": {
     "iopub.execute_input": "2021-11-14T19:05:21.673967Z",
     "iopub.status.busy": "2021-11-14T19:05:21.673212Z",
     "iopub.status.idle": "2021-11-14T19:05:21.675389Z",
     "shell.execute_reply": "2021-11-14T19:05:21.675762Z",
     "shell.execute_reply.started": "2021-11-14T18:53:46.555382Z"
    },
    "papermill": {
     "duration": 0.060367,
     "end_time": "2021-11-14T19:05:21.675903",
     "exception": false,
     "start_time": "2021-11-14T19:05:21.615536",
     "status": "completed"
    },
    "tags": []
   },
   "outputs": [],
   "source": [
    "class DecoderLayer(nn.Module):\n",
    "    \n",
    "    def __init__(self, hid_dim, n_heads, pf_dim, dropout, device):\n",
    "        \"\"\"\n",
    "        :param hid_dim: It is the dimensionality of the embedding layer.\n",
    "        :param n_heads: The number of heads in the Multi-Head Attention Layer.\n",
    "        :param pf_dim: In Feed Forward Network, hid_dim is first converted to pf_dim.\n",
    "        :param dropout: It is the amount of dropout to use. \n",
    "                        This is a regularization parameter to prevent overfitting.\n",
    "        :param device: cpu or gpu\n",
    "        \"\"\"\n",
    "        \n",
    "        super().__init__()\n",
    "        \n",
    "        self.self_attn_layer_norm = nn.LayerNorm(hid_dim)\n",
    "        self.enc_attn_layer_norm = nn.LayerNorm(hid_dim)\n",
    "        self.ff_layer_norm = nn.LayerNorm(hid_dim)\n",
    "        \n",
    "        self.self_attention = MultiHeadAttentionLayer(hid_dim, n_heads, dropout, device)\n",
    "        self.encoder_attention = MultiHeadAttentionLayer(hid_dim, n_heads, dropout, device)\n",
    "        \n",
    "        self.postionwise_feedforward = PositionwiseFeedforwardLayer(hid_dim, pf_dim, dropout)\n",
    "        \n",
    "        self.dropout = nn.Dropout(dropout)\n",
    "        \n",
    "    def forward(self, trg, enc_src, trg_mask, src_mask):\n",
    "        \"\"\"\n",
    "        :param trg: the target sentence\n",
    "                    trg.shape => (batch_size, trg_len)\n",
    "        :param enc_src: the encoded source sentence\n",
    "                    enc_src.shape => (batch_size, src_len, hid_dim)\n",
    "        :param trg_mask: the mask for the target sentence\n",
    "                    trg_mask.shape => (batch_size, 1, trg_len, trg_len)\n",
    "        :param src_mask: the mask for the source sentence\n",
    "                    src_mask.shape => (batch_size, 1, 1, src_len)\n",
    "        \"\"\"\n",
    "        \n",
    "        # self attention\n",
    "        _trg, _ = self.self_attention(trg, trg, trg, trg_mask)\n",
    "        \n",
    "        # dropout, residual connection and layer norm\n",
    "        trg = self.self_attn_layer_norm(trg + self.dropout(_trg))\n",
    "        # trg.shape => (batch_size, trg_len, hid_dim)\n",
    "        \n",
    "        # Encoder Attention\n",
    "        # Query = trg\n",
    "        # Key and Value = enc_src, i.e from encoder\n",
    "        _trg, attention = self.encoder_attention(trg, enc_src, enc_src, src_mask)\n",
    "        # attention.shape => (batch_size, n_heads, trg_len, src_len)\n",
    "        \n",
    "        # dropout, residual connection and layer norm\n",
    "        trg = self.enc_attn_layer_norm(trg + self.dropout(_trg))\n",
    "        # trg.shape => (batch_size, trg_len, hid_dim)\n",
    "        \n",
    "        # positionwise feedforward\n",
    "        _trg = self.postionwise_feedforward(trg)\n",
    "        \n",
    "        # dropout, residual and layer norm\n",
    "        trg = self.ff_layer_norm(trg + self.dropout(_trg))\n",
    "        # trg.shape => (batch_size, trg_len, hid_dim)\n",
    "        \n",
    "        return trg, attention"
   ]
  },
  {
   "cell_type": "markdown",
   "id": "bb05bd7d",
   "metadata": {
    "papermill": {
     "duration": 0.048221,
     "end_time": "2021-11-14T19:05:21.771622",
     "exception": false,
     "start_time": "2021-11-14T19:05:21.723401",
     "status": "completed"
    },
    "tags": []
   },
   "source": [
    "### Seq2Seq Model"
   ]
  },
  {
   "cell_type": "code",
   "execution_count": 18,
   "id": "08605a4d",
   "metadata": {
    "execution": {
     "iopub.execute_input": "2021-11-14T19:05:21.871572Z",
     "iopub.status.busy": "2021-11-14T19:05:21.870753Z",
     "iopub.status.idle": "2021-11-14T19:05:21.880626Z",
     "shell.execute_reply": "2021-11-14T19:05:21.880186Z",
     "shell.execute_reply.started": "2021-11-14T18:53:46.572687Z"
    },
    "papermill": {
     "duration": 0.060656,
     "end_time": "2021-11-14T19:05:21.880727",
     "exception": false,
     "start_time": "2021-11-14T19:05:21.820071",
     "status": "completed"
    },
    "tags": []
   },
   "outputs": [],
   "source": [
    "class Seq2Seq(nn.Module):\n",
    "    \n",
    "    def __init__(self, encoder, decoder, src_pad_idx, trg_pad_idx, device):\n",
    "        \"\"\"\n",
    "        :param encoder: the encoder of the transformer\n",
    "        :param decoder: the decoder of the transformer\n",
    "        :param src_pad_idx: the <pad> index for the source sentence\n",
    "        :param trg_pad_idx: the <pad> index for the target sentence\n",
    "        :param device\" cpu or gpu\n",
    "        \"\"\"\n",
    "        \n",
    "        super().__init__()\n",
    "        \n",
    "        self.encoder = encoder\n",
    "        self.decoder = decoder\n",
    "        self.src_pad_idx = src_pad_idx\n",
    "        self.trg_pad_idx = trg_pad_idx\n",
    "        self.device = device\n",
    "        \n",
    "    def make_src_mask(self, src):\n",
    "        \"\"\"\n",
    "            make the mask for source sentences\n",
    "            \n",
    "        :param src: the source sentence\n",
    "                    src.shape => (batch_size, src_len)\n",
    "        \"\"\"\n",
    "        \n",
    "        src_mask = (src != self.src_pad_idx).unsqueeze(1).unsqueeze(2)\n",
    "        # src_mask.shape => (batch_size, 1, 1, src_len)\n",
    "        \n",
    "        return src_mask\n",
    "    \n",
    "    def make_trg_mask(self, trg):\n",
    "        \"\"\"\n",
    "            make the mask for the target sentence\n",
    "            \n",
    "        :param trg: the target sentence\n",
    "                    trg.shape => (batch_size, trg_len)\n",
    "        \"\"\"\n",
    "        \n",
    "        trg_pad_mask = (trg != self.trg_pad_idx).unsqueeze(1).unsqueeze(2)\n",
    "        # trg_pad_idx.shape => (batch_size, 1, 1, trg_len)\n",
    "        \n",
    "        trg_len = trg.shape[1]\n",
    "        \n",
    "        trg_sub_mask = torch.tril( # lower triangular matrix\n",
    "            torch.ones(\n",
    "                (trg_len, trg_len),\n",
    "                device = self.device\n",
    "            )\n",
    "        ).bool()\n",
    "        # trg_sub_mask.shape => (trg_len, trg_len)\n",
    "        \n",
    "        trg_mask = trg_pad_mask & trg_sub_mask\n",
    "        # trg_mask.shape => (batch_size, 1, trg_len, trg_len)\n",
    "        \n",
    "        return trg_mask\n",
    "    \n",
    "    def forward(self, src, trg):\n",
    "        \"\"\"\n",
    "        :param src: the source sentence\n",
    "                    src.shape => (batch_size, src_len)\n",
    "        :param trg: the target sentence\n",
    "                    trg.shape => (batch_size, trg_len)\n",
    "        \"\"\"\n",
    "        \n",
    "        src_mask = self.make_src_mask(src)\n",
    "        # src_mask.shape => (batch_size, 1, 1, src_len)\n",
    "        \n",
    "        trg_mask = self.make_trg_mask(trg)\n",
    "        # trg_mask.shape => (batch_size, 1, trg_len, trg_len)\n",
    "        \n",
    "        enc_src = self.encoder(src, src_mask)\n",
    "        # enc_src.shape => (batch_size, src_len, hid_dim)\n",
    "        \n",
    "        output, attention = self.decoder(trg, enc_src, trg_mask, src_mask)\n",
    "        # output.shape => (batch_size, trg_len, output_dim)\n",
    "        # attention.shape => (batch_size, n_heads, trg_len, src_len)\n",
    "        \n",
    "        return output, attention"
   ]
  },
  {
   "cell_type": "markdown",
   "id": "3d604317",
   "metadata": {
    "papermill": {
     "duration": 0.047918,
     "end_time": "2021-11-14T19:05:21.976460",
     "exception": false,
     "start_time": "2021-11-14T19:05:21.928542",
     "status": "completed"
    },
    "tags": []
   },
   "source": [
    "## Training the Seq2Seq Model"
   ]
  },
  {
   "cell_type": "markdown",
   "id": "2f2fb2e1",
   "metadata": {
    "papermill": {
     "duration": 0.04751,
     "end_time": "2021-11-14T19:05:22.072748",
     "exception": false,
     "start_time": "2021-11-14T19:05:22.025238",
     "status": "completed"
    },
    "tags": []
   },
   "source": [
    "## Init the Model"
   ]
  },
  {
   "cell_type": "code",
   "execution_count": 19,
   "id": "0d0f960d",
   "metadata": {
    "execution": {
     "iopub.execute_input": "2021-11-14T19:05:22.176832Z",
     "iopub.status.busy": "2021-11-14T19:05:22.176292Z",
     "iopub.status.idle": "2021-11-14T19:05:30.114450Z",
     "shell.execute_reply": "2021-11-14T19:05:30.113942Z",
     "shell.execute_reply.started": "2021-11-14T18:53:46.589876Z"
    },
    "papermill": {
     "duration": 7.993525,
     "end_time": "2021-11-14T19:05:30.114583",
     "exception": false,
     "start_time": "2021-11-14T19:05:22.121058",
     "status": "completed"
    },
    "tags": []
   },
   "outputs": [],
   "source": [
    "INPUT_DIM = len(SRC.vocab)\n",
    "OUTPUT_DIM = len(TRG.vocab)\n",
    "HID_DIM = 256\n",
    "ENC_LAYERS = 3\n",
    "DEC_LAYERS = 3\n",
    "ENC_HEADS = 8\n",
    "DEC_HEADS = 8\n",
    "ENC_PF_DIM = 512\n",
    "DEC_PF_DIM = 512\n",
    "ENC_DROPOUT = 0.1\n",
    "DEC_DROPOUT = 0.1\n",
    "\n",
    "enc = Encoder(INPUT_DIM, \n",
    "              HID_DIM, \n",
    "              ENC_LAYERS, \n",
    "              ENC_HEADS, \n",
    "              ENC_PF_DIM, \n",
    "              ENC_DROPOUT, \n",
    "              device)\n",
    "\n",
    "dec = Decoder(OUTPUT_DIM, \n",
    "              HID_DIM, \n",
    "              DEC_LAYERS, \n",
    "              DEC_HEADS, \n",
    "              DEC_PF_DIM, \n",
    "              DEC_DROPOUT, \n",
    "              device)"
   ]
  },
  {
   "cell_type": "code",
   "execution_count": 20,
   "id": "9b204c64",
   "metadata": {
    "execution": {
     "iopub.execute_input": "2021-11-14T19:05:30.218170Z",
     "iopub.status.busy": "2021-11-14T19:05:30.217144Z",
     "iopub.status.idle": "2021-11-14T19:05:30.237416Z",
     "shell.execute_reply": "2021-11-14T19:05:30.237002Z",
     "shell.execute_reply.started": "2021-11-14T18:53:46.692631Z"
    },
    "papermill": {
     "duration": 0.073281,
     "end_time": "2021-11-14T19:05:30.237524",
     "exception": false,
     "start_time": "2021-11-14T19:05:30.164243",
     "status": "completed"
    },
    "tags": []
   },
   "outputs": [],
   "source": [
    "SRC_PAD_IDX = SRC.vocab.stoi[SRC.pad_token]\n",
    "TRG_PAD_IDX = TRG.vocab.stoi[TRG.pad_token]\n",
    "\n",
    "model = Seq2Seq(enc, dec, SRC_PAD_IDX, TRG_PAD_IDX, device).to(device)"
   ]
  },
  {
   "cell_type": "code",
   "execution_count": 21,
   "id": "cca0b9a6",
   "metadata": {
    "execution": {
     "iopub.execute_input": "2021-11-14T19:05:30.338238Z",
     "iopub.status.busy": "2021-11-14T19:05:30.337546Z",
     "iopub.status.idle": "2021-11-14T19:05:30.340458Z",
     "shell.execute_reply": "2021-11-14T19:05:30.340967Z",
     "shell.execute_reply.started": "2021-11-14T18:53:46.717878Z"
    },
    "papermill": {
     "duration": 0.055706,
     "end_time": "2021-11-14T19:05:30.341088",
     "exception": false,
     "start_time": "2021-11-14T19:05:30.285382",
     "status": "completed"
    },
    "tags": []
   },
   "outputs": [
    {
     "name": "stdout",
     "output_type": "stream",
     "text": [
      "The model has 9,038,341 trainable parameters\n"
     ]
    }
   ],
   "source": [
    "def count_parameters(model):\n",
    "    return sum(p.numel() for p in model.parameters() if p.requires_grad)\n",
    "\n",
    "print(f'The model has {count_parameters(model):,} trainable parameters')"
   ]
  },
  {
   "cell_type": "code",
   "execution_count": 22,
   "id": "b1c9ce1c",
   "metadata": {
    "execution": {
     "iopub.execute_input": "2021-11-14T19:05:30.442067Z",
     "iopub.status.busy": "2021-11-14T19:05:30.441478Z",
     "iopub.status.idle": "2021-11-14T19:05:30.445029Z",
     "shell.execute_reply": "2021-11-14T19:05:30.444573Z",
     "shell.execute_reply.started": "2021-11-14T18:53:46.728785Z"
    },
    "papermill": {
     "duration": 0.055526,
     "end_time": "2021-11-14T19:05:30.445136",
     "exception": false,
     "start_time": "2021-11-14T19:05:30.389610",
     "status": "completed"
    },
    "tags": []
   },
   "outputs": [],
   "source": [
    "def initialize_weights(m):\n",
    "    \"\"\"\n",
    "        Initializing weights using Xavier Uniform distribution.\n",
    "        (common for transformer models)\n",
    "    \"\"\"\n",
    "    \n",
    "    if hasattr(m, 'weight') and m.weight.dim() > 1:\n",
    "        nn.init.xavier_uniform_(m.weight.data)"
   ]
  },
  {
   "cell_type": "code",
   "execution_count": 23,
   "id": "6ce3c043",
   "metadata": {
    "execution": {
     "iopub.execute_input": "2021-11-14T19:05:30.545265Z",
     "iopub.status.busy": "2021-11-14T19:05:30.544644Z",
     "iopub.status.idle": "2021-11-14T19:05:30.558219Z",
     "shell.execute_reply": "2021-11-14T19:05:30.558631Z",
     "shell.execute_reply.started": "2021-11-14T18:53:46.738897Z"
    },
    "papermill": {
     "duration": 0.065498,
     "end_time": "2021-11-14T19:05:30.558750",
     "exception": false,
     "start_time": "2021-11-14T19:05:30.493252",
     "status": "completed"
    },
    "tags": []
   },
   "outputs": [
    {
     "data": {
      "text/plain": [
       "Seq2Seq(\n",
       "  (encoder): Encoder(\n",
       "    (tok_embedding): Embedding(7853, 256)\n",
       "    (pos_embedding): Embedding(100, 256)\n",
       "    (layers): ModuleList(\n",
       "      (0): EncoderLayer(\n",
       "        (self_attn_layer_norm): LayerNorm((256,), eps=1e-05, elementwise_affine=True)\n",
       "        (ff_layer_norm): LayerNorm((256,), eps=1e-05, elementwise_affine=True)\n",
       "        (self_attention): MultiHeadAttentionLayer(\n",
       "          (fc_q): Linear(in_features=256, out_features=256, bias=True)\n",
       "          (fc_k): Linear(in_features=256, out_features=256, bias=True)\n",
       "          (fc_v): Linear(in_features=256, out_features=256, bias=True)\n",
       "          (fc_o): Linear(in_features=256, out_features=256, bias=True)\n",
       "          (dropout): Dropout(p=0.1, inplace=False)\n",
       "        )\n",
       "        (positionwise_feedforward): PositionwiseFeedforwardLayer(\n",
       "          (fc_1): Linear(in_features=256, out_features=512, bias=True)\n",
       "          (fc_2): Linear(in_features=512, out_features=256, bias=True)\n",
       "          (dropout): Dropout(p=0.1, inplace=False)\n",
       "        )\n",
       "        (dropout): Dropout(p=0.1, inplace=False)\n",
       "      )\n",
       "      (1): EncoderLayer(\n",
       "        (self_attn_layer_norm): LayerNorm((256,), eps=1e-05, elementwise_affine=True)\n",
       "        (ff_layer_norm): LayerNorm((256,), eps=1e-05, elementwise_affine=True)\n",
       "        (self_attention): MultiHeadAttentionLayer(\n",
       "          (fc_q): Linear(in_features=256, out_features=256, bias=True)\n",
       "          (fc_k): Linear(in_features=256, out_features=256, bias=True)\n",
       "          (fc_v): Linear(in_features=256, out_features=256, bias=True)\n",
       "          (fc_o): Linear(in_features=256, out_features=256, bias=True)\n",
       "          (dropout): Dropout(p=0.1, inplace=False)\n",
       "        )\n",
       "        (positionwise_feedforward): PositionwiseFeedforwardLayer(\n",
       "          (fc_1): Linear(in_features=256, out_features=512, bias=True)\n",
       "          (fc_2): Linear(in_features=512, out_features=256, bias=True)\n",
       "          (dropout): Dropout(p=0.1, inplace=False)\n",
       "        )\n",
       "        (dropout): Dropout(p=0.1, inplace=False)\n",
       "      )\n",
       "      (2): EncoderLayer(\n",
       "        (self_attn_layer_norm): LayerNorm((256,), eps=1e-05, elementwise_affine=True)\n",
       "        (ff_layer_norm): LayerNorm((256,), eps=1e-05, elementwise_affine=True)\n",
       "        (self_attention): MultiHeadAttentionLayer(\n",
       "          (fc_q): Linear(in_features=256, out_features=256, bias=True)\n",
       "          (fc_k): Linear(in_features=256, out_features=256, bias=True)\n",
       "          (fc_v): Linear(in_features=256, out_features=256, bias=True)\n",
       "          (fc_o): Linear(in_features=256, out_features=256, bias=True)\n",
       "          (dropout): Dropout(p=0.1, inplace=False)\n",
       "        )\n",
       "        (positionwise_feedforward): PositionwiseFeedforwardLayer(\n",
       "          (fc_1): Linear(in_features=256, out_features=512, bias=True)\n",
       "          (fc_2): Linear(in_features=512, out_features=256, bias=True)\n",
       "          (dropout): Dropout(p=0.1, inplace=False)\n",
       "        )\n",
       "        (dropout): Dropout(p=0.1, inplace=False)\n",
       "      )\n",
       "    )\n",
       "    (dropout): Dropout(p=0.1, inplace=False)\n",
       "  )\n",
       "  (decoder): Decoder(\n",
       "    (tok_embedding): Embedding(5893, 256)\n",
       "    (pos_embedding): Embedding(100, 256)\n",
       "    (layers): ModuleList(\n",
       "      (0): DecoderLayer(\n",
       "        (self_attn_layer_norm): LayerNorm((256,), eps=1e-05, elementwise_affine=True)\n",
       "        (enc_attn_layer_norm): LayerNorm((256,), eps=1e-05, elementwise_affine=True)\n",
       "        (ff_layer_norm): LayerNorm((256,), eps=1e-05, elementwise_affine=True)\n",
       "        (self_attention): MultiHeadAttentionLayer(\n",
       "          (fc_q): Linear(in_features=256, out_features=256, bias=True)\n",
       "          (fc_k): Linear(in_features=256, out_features=256, bias=True)\n",
       "          (fc_v): Linear(in_features=256, out_features=256, bias=True)\n",
       "          (fc_o): Linear(in_features=256, out_features=256, bias=True)\n",
       "          (dropout): Dropout(p=0.1, inplace=False)\n",
       "        )\n",
       "        (encoder_attention): MultiHeadAttentionLayer(\n",
       "          (fc_q): Linear(in_features=256, out_features=256, bias=True)\n",
       "          (fc_k): Linear(in_features=256, out_features=256, bias=True)\n",
       "          (fc_v): Linear(in_features=256, out_features=256, bias=True)\n",
       "          (fc_o): Linear(in_features=256, out_features=256, bias=True)\n",
       "          (dropout): Dropout(p=0.1, inplace=False)\n",
       "        )\n",
       "        (postionwise_feedforward): PositionwiseFeedforwardLayer(\n",
       "          (fc_1): Linear(in_features=256, out_features=512, bias=True)\n",
       "          (fc_2): Linear(in_features=512, out_features=256, bias=True)\n",
       "          (dropout): Dropout(p=0.1, inplace=False)\n",
       "        )\n",
       "        (dropout): Dropout(p=0.1, inplace=False)\n",
       "      )\n",
       "      (1): DecoderLayer(\n",
       "        (self_attn_layer_norm): LayerNorm((256,), eps=1e-05, elementwise_affine=True)\n",
       "        (enc_attn_layer_norm): LayerNorm((256,), eps=1e-05, elementwise_affine=True)\n",
       "        (ff_layer_norm): LayerNorm((256,), eps=1e-05, elementwise_affine=True)\n",
       "        (self_attention): MultiHeadAttentionLayer(\n",
       "          (fc_q): Linear(in_features=256, out_features=256, bias=True)\n",
       "          (fc_k): Linear(in_features=256, out_features=256, bias=True)\n",
       "          (fc_v): Linear(in_features=256, out_features=256, bias=True)\n",
       "          (fc_o): Linear(in_features=256, out_features=256, bias=True)\n",
       "          (dropout): Dropout(p=0.1, inplace=False)\n",
       "        )\n",
       "        (encoder_attention): MultiHeadAttentionLayer(\n",
       "          (fc_q): Linear(in_features=256, out_features=256, bias=True)\n",
       "          (fc_k): Linear(in_features=256, out_features=256, bias=True)\n",
       "          (fc_v): Linear(in_features=256, out_features=256, bias=True)\n",
       "          (fc_o): Linear(in_features=256, out_features=256, bias=True)\n",
       "          (dropout): Dropout(p=0.1, inplace=False)\n",
       "        )\n",
       "        (postionwise_feedforward): PositionwiseFeedforwardLayer(\n",
       "          (fc_1): Linear(in_features=256, out_features=512, bias=True)\n",
       "          (fc_2): Linear(in_features=512, out_features=256, bias=True)\n",
       "          (dropout): Dropout(p=0.1, inplace=False)\n",
       "        )\n",
       "        (dropout): Dropout(p=0.1, inplace=False)\n",
       "      )\n",
       "      (2): DecoderLayer(\n",
       "        (self_attn_layer_norm): LayerNorm((256,), eps=1e-05, elementwise_affine=True)\n",
       "        (enc_attn_layer_norm): LayerNorm((256,), eps=1e-05, elementwise_affine=True)\n",
       "        (ff_layer_norm): LayerNorm((256,), eps=1e-05, elementwise_affine=True)\n",
       "        (self_attention): MultiHeadAttentionLayer(\n",
       "          (fc_q): Linear(in_features=256, out_features=256, bias=True)\n",
       "          (fc_k): Linear(in_features=256, out_features=256, bias=True)\n",
       "          (fc_v): Linear(in_features=256, out_features=256, bias=True)\n",
       "          (fc_o): Linear(in_features=256, out_features=256, bias=True)\n",
       "          (dropout): Dropout(p=0.1, inplace=False)\n",
       "        )\n",
       "        (encoder_attention): MultiHeadAttentionLayer(\n",
       "          (fc_q): Linear(in_features=256, out_features=256, bias=True)\n",
       "          (fc_k): Linear(in_features=256, out_features=256, bias=True)\n",
       "          (fc_v): Linear(in_features=256, out_features=256, bias=True)\n",
       "          (fc_o): Linear(in_features=256, out_features=256, bias=True)\n",
       "          (dropout): Dropout(p=0.1, inplace=False)\n",
       "        )\n",
       "        (postionwise_feedforward): PositionwiseFeedforwardLayer(\n",
       "          (fc_1): Linear(in_features=256, out_features=512, bias=True)\n",
       "          (fc_2): Linear(in_features=512, out_features=256, bias=True)\n",
       "          (dropout): Dropout(p=0.1, inplace=False)\n",
       "        )\n",
       "        (dropout): Dropout(p=0.1, inplace=False)\n",
       "      )\n",
       "    )\n",
       "    (fc_out): Linear(in_features=256, out_features=5893, bias=True)\n",
       "    (dropout): Dropout(p=0.1, inplace=False)\n",
       "  )\n",
       ")"
      ]
     },
     "execution_count": 23,
     "metadata": {},
     "output_type": "execute_result"
    }
   ],
   "source": [
    "model.apply(initialize_weights)"
   ]
  },
  {
   "cell_type": "code",
   "execution_count": 24,
   "id": "26b1ce08",
   "metadata": {
    "execution": {
     "iopub.execute_input": "2021-11-14T19:05:30.661417Z",
     "iopub.status.busy": "2021-11-14T19:05:30.660509Z",
     "iopub.status.idle": "2021-11-14T19:05:30.662503Z",
     "shell.execute_reply": "2021-11-14T19:05:30.662948Z",
     "shell.execute_reply.started": "2021-11-14T18:53:46.757444Z"
    },
    "papermill": {
     "duration": 0.055605,
     "end_time": "2021-11-14T19:05:30.663079",
     "exception": false,
     "start_time": "2021-11-14T19:05:30.607474",
     "status": "completed"
    },
    "tags": []
   },
   "outputs": [],
   "source": [
    "LEARNING_RATE = 0.0005\n",
    "\n",
    "optimizer = torch.optim.Adam(model.parameters(), lr = LEARNING_RATE)"
   ]
  },
  {
   "cell_type": "code",
   "execution_count": 25,
   "id": "63aac46b",
   "metadata": {
    "execution": {
     "iopub.execute_input": "2021-11-14T19:05:30.765067Z",
     "iopub.status.busy": "2021-11-14T19:05:30.764308Z",
     "iopub.status.idle": "2021-11-14T19:05:30.766769Z",
     "shell.execute_reply": "2021-11-14T19:05:30.766356Z",
     "shell.execute_reply.started": "2021-11-14T18:53:46.768337Z"
    },
    "papermill": {
     "duration": 0.054619,
     "end_time": "2021-11-14T19:05:30.766872",
     "exception": false,
     "start_time": "2021-11-14T19:05:30.712253",
     "status": "completed"
    },
    "tags": []
   },
   "outputs": [],
   "source": [
    "criterion = nn.CrossEntropyLoss(ignore_index = TRG_PAD_IDX)"
   ]
  },
  {
   "cell_type": "markdown",
   "id": "c5f876a5",
   "metadata": {
    "papermill": {
     "duration": 0.048243,
     "end_time": "2021-11-14T19:05:30.863549",
     "exception": false,
     "start_time": "2021-11-14T19:05:30.815306",
     "status": "completed"
    },
    "tags": []
   },
   "source": [
    "## Training Function"
   ]
  },
  {
   "cell_type": "code",
   "execution_count": 26,
   "id": "a56f7f7d",
   "metadata": {
    "execution": {
     "iopub.execute_input": "2021-11-14T19:05:30.969264Z",
     "iopub.status.busy": "2021-11-14T19:05:30.968466Z",
     "iopub.status.idle": "2021-11-14T19:05:30.971226Z",
     "shell.execute_reply": "2021-11-14T19:05:30.970782Z",
     "shell.execute_reply.started": "2021-11-14T18:53:46.778467Z"
    },
    "papermill": {
     "duration": 0.058697,
     "end_time": "2021-11-14T19:05:30.971337",
     "exception": false,
     "start_time": "2021-11-14T19:05:30.912640",
     "status": "completed"
    },
    "tags": []
   },
   "outputs": [],
   "source": [
    "def train(model, iterator, optimizer, criterion, clip):\n",
    "    \n",
    "    model.train()\n",
    "    \n",
    "    epoch_loss = 0\n",
    "    \n",
    "    for i, batch in enumerate(iterator):\n",
    "        \n",
    "        src = batch.src\n",
    "        trg = batch.trg\n",
    "        \n",
    "        optimizer.zero_grad()\n",
    "        \n",
    "        output, _ = model(src, trg[:,:-1])\n",
    "                \n",
    "        # output.shape => (batch size, trg len - 1, output dim)\n",
    "        # trg.shape => (batch size, trg len)\n",
    "            \n",
    "        output_dim = output.shape[-1]\n",
    "            \n",
    "        output = output.contiguous().view(-1, output_dim)\n",
    "        trg = trg[:,1:].contiguous().view(-1)\n",
    "        \n",
    "        # output.shape => (batch size * trg len - 1, output dim)\n",
    "        # trg.shape => (batch size * trg len - 1)\n",
    "            \n",
    "        loss = criterion(output, trg)\n",
    "        \n",
    "        loss.backward()\n",
    "        \n",
    "        torch.nn.utils.clip_grad_norm_(model.parameters(), clip)\n",
    "        \n",
    "        optimizer.step()\n",
    "        \n",
    "        epoch_loss += loss.item()\n",
    "        \n",
    "    return epoch_loss / len(iterator)"
   ]
  },
  {
   "cell_type": "markdown",
   "id": "4b07c82d",
   "metadata": {
    "papermill": {
     "duration": 0.048231,
     "end_time": "2021-11-14T19:05:31.068556",
     "exception": false,
     "start_time": "2021-11-14T19:05:31.020325",
     "status": "completed"
    },
    "tags": []
   },
   "source": [
    "## Evaluate Function"
   ]
  },
  {
   "cell_type": "code",
   "execution_count": 27,
   "id": "5bdc46c9",
   "metadata": {
    "execution": {
     "iopub.execute_input": "2021-11-14T19:05:31.173875Z",
     "iopub.status.busy": "2021-11-14T19:05:31.172313Z",
     "iopub.status.idle": "2021-11-14T19:05:31.174480Z",
     "shell.execute_reply": "2021-11-14T19:05:31.174876Z",
     "shell.execute_reply.started": "2021-11-14T18:53:46.793414Z"
    },
    "papermill": {
     "duration": 0.057809,
     "end_time": "2021-11-14T19:05:31.175024",
     "exception": false,
     "start_time": "2021-11-14T19:05:31.117215",
     "status": "completed"
    },
    "tags": []
   },
   "outputs": [],
   "source": [
    "def evaluate(model, iterator, criterion):\n",
    "    \n",
    "    model.eval()\n",
    "    \n",
    "    epoch_loss = 0\n",
    "    \n",
    "    with torch.no_grad():\n",
    "    \n",
    "        for i, batch in enumerate(iterator):\n",
    "\n",
    "            src = batch.src\n",
    "            trg = batch.trg\n",
    "\n",
    "            output, _ = model(src, trg[:,:-1])\n",
    "            \n",
    "            # output.shape => (batch size, trg len - 1, output dim)\n",
    "            # trg.shape => (batch size, trg len)\n",
    "            \n",
    "            output_dim = output.shape[-1]\n",
    "            \n",
    "            output = output.contiguous().view(-1, output_dim)\n",
    "            trg = trg[:,1:].contiguous().view(-1)\n",
    "            \n",
    "            # output.shape => (batch size * trg len - 1, output dim)\n",
    "            # trg.shape => (batch size * trg len - 1)\n",
    "            \n",
    "            loss = criterion(output, trg)\n",
    "\n",
    "            epoch_loss += loss.item()\n",
    "        \n",
    "    return epoch_loss / len(iterator)"
   ]
  },
  {
   "cell_type": "code",
   "execution_count": 28,
   "id": "19f2ac14",
   "metadata": {
    "execution": {
     "iopub.execute_input": "2021-11-14T19:05:31.276613Z",
     "iopub.status.busy": "2021-11-14T19:05:31.275792Z",
     "iopub.status.idle": "2021-11-14T19:05:31.278250Z",
     "shell.execute_reply": "2021-11-14T19:05:31.277805Z",
     "shell.execute_reply.started": "2021-11-14T18:53:46.806892Z"
    },
    "papermill": {
     "duration": 0.054533,
     "end_time": "2021-11-14T19:05:31.278359",
     "exception": false,
     "start_time": "2021-11-14T19:05:31.223826",
     "status": "completed"
    },
    "tags": []
   },
   "outputs": [],
   "source": [
    "def epoch_time(start_time, end_time):\n",
    "    elapsed_time = end_time - start_time\n",
    "    elapsed_mins = int(elapsed_time / 60)\n",
    "    elapsed_secs = int(elapsed_time - (elapsed_mins * 60))\n",
    "    return elapsed_mins, elapsed_secs"
   ]
  },
  {
   "cell_type": "code",
   "execution_count": 29,
   "id": "3f5b1b63",
   "metadata": {
    "execution": {
     "iopub.execute_input": "2021-11-14T19:05:31.424015Z",
     "iopub.status.busy": "2021-11-14T19:05:31.413718Z",
     "iopub.status.idle": "2021-11-14T19:09:31.061020Z",
     "shell.execute_reply": "2021-11-14T19:09:31.061624Z",
     "shell.execute_reply.started": "2021-11-14T18:53:46.818711Z"
    },
    "papermill": {
     "duration": 239.734744,
     "end_time": "2021-11-14T19:09:31.061827",
     "exception": false,
     "start_time": "2021-11-14T19:05:31.327083",
     "status": "completed"
    },
    "tags": []
   },
   "outputs": [
    {
     "name": "stdout",
     "output_type": "stream",
     "text": [
      "Epoch: 01 | Time: 0m 16s\n",
      "\tTrain Loss: 4.221 | Train PPL:  68.072\n",
      "\t Val. Loss: 3.018 |  Val. PPL:  20.442\n",
      "Epoch: 02 | Time: 0m 15s\n",
      "\tTrain Loss: 2.811 | Train PPL:  16.630\n",
      "\t Val. Loss: 2.295 |  Val. PPL:   9.929\n",
      "Epoch: 03 | Time: 0m 15s\n",
      "\tTrain Loss: 2.235 | Train PPL:   9.351\n",
      "\t Val. Loss: 1.979 |  Val. PPL:   7.234\n",
      "Epoch: 04 | Time: 0m 15s\n",
      "\tTrain Loss: 1.884 | Train PPL:   6.582\n",
      "\t Val. Loss: 1.804 |  Val. PPL:   6.076\n",
      "Epoch: 05 | Time: 0m 15s\n",
      "\tTrain Loss: 1.636 | Train PPL:   5.135\n",
      "\t Val. Loss: 1.708 |  Val. PPL:   5.516\n",
      "Epoch: 06 | Time: 0m 16s\n",
      "\tTrain Loss: 1.448 | Train PPL:   4.253\n",
      "\t Val. Loss: 1.668 |  Val. PPL:   5.303\n",
      "Epoch: 07 | Time: 0m 15s\n",
      "\tTrain Loss: 1.295 | Train PPL:   3.651\n",
      "\t Val. Loss: 1.630 |  Val. PPL:   5.102\n",
      "Epoch: 08 | Time: 0m 15s\n",
      "\tTrain Loss: 1.169 | Train PPL:   3.218\n",
      "\t Val. Loss: 1.622 |  Val. PPL:   5.062\n",
      "Epoch: 09 | Time: 0m 15s\n",
      "\tTrain Loss: 1.059 | Train PPL:   2.882\n",
      "\t Val. Loss: 1.634 |  Val. PPL:   5.126\n",
      "Epoch: 10 | Time: 0m 16s\n",
      "\tTrain Loss: 0.965 | Train PPL:   2.624\n",
      "\t Val. Loss: 1.648 |  Val. PPL:   5.195\n",
      "Epoch: 11 | Time: 0m 15s\n",
      "\tTrain Loss: 0.880 | Train PPL:   2.412\n",
      "\t Val. Loss: 1.672 |  Val. PPL:   5.325\n",
      "Epoch: 12 | Time: 0m 15s\n",
      "\tTrain Loss: 0.805 | Train PPL:   2.237\n",
      "\t Val. Loss: 1.690 |  Val. PPL:   5.419\n",
      "Epoch: 13 | Time: 0m 15s\n",
      "\tTrain Loss: 0.742 | Train PPL:   2.100\n",
      "\t Val. Loss: 1.743 |  Val. PPL:   5.714\n",
      "Epoch: 14 | Time: 0m 15s\n",
      "\tTrain Loss: 0.683 | Train PPL:   1.980\n",
      "\t Val. Loss: 1.768 |  Val. PPL:   5.859\n",
      "Epoch: 15 | Time: 0m 15s\n",
      "\tTrain Loss: 0.632 | Train PPL:   1.881\n",
      "\t Val. Loss: 1.833 |  Val. PPL:   6.251\n"
     ]
    }
   ],
   "source": [
    "N_EPOCHS = 15\n",
    "CLIP = 1\n",
    "\n",
    "best_valid_loss = float('inf')\n",
    "\n",
    "for epoch in range(N_EPOCHS):\n",
    "    \n",
    "    start_time = time.time()\n",
    "    \n",
    "    train_loss = train(model, train_iterator, optimizer, criterion, CLIP)\n",
    "    valid_loss = evaluate(model, valid_iterator, criterion)\n",
    "    \n",
    "    end_time = time.time()\n",
    "    \n",
    "    epoch_mins, epoch_secs = epoch_time(start_time, end_time)\n",
    "    \n",
    "    if valid_loss < best_valid_loss:\n",
    "        best_valid_loss = valid_loss\n",
    "        torch.save(model.state_dict(), 'tut6-model.pt')\n",
    "    \n",
    "    print(f'Epoch: {epoch+1:02} | Time: {epoch_mins}m {epoch_secs}s')\n",
    "    print(f'\\tTrain Loss: {train_loss:.3f} | Train PPL: {math.exp(train_loss):7.3f}')\n",
    "    print(f'\\t Val. Loss: {valid_loss:.3f} |  Val. PPL: {math.exp(valid_loss):7.3f}')"
   ]
  },
  {
   "cell_type": "code",
   "execution_count": 30,
   "id": "375635ea",
   "metadata": {
    "execution": {
     "iopub.execute_input": "2021-11-14T19:09:31.175149Z",
     "iopub.status.busy": "2021-11-14T19:09:31.174079Z",
     "iopub.status.idle": "2021-11-14T19:09:31.312767Z",
     "shell.execute_reply": "2021-11-14T19:09:31.313398Z",
     "shell.execute_reply.started": "2021-11-14T18:54:37.921364Z"
    },
    "papermill": {
     "duration": 0.196288,
     "end_time": "2021-11-14T19:09:31.313585",
     "exception": false,
     "start_time": "2021-11-14T19:09:31.117297",
     "status": "completed"
    },
    "tags": []
   },
   "outputs": [
    {
     "name": "stdout",
     "output_type": "stream",
     "text": [
      "| Test Loss: 1.676 | Test PPL:   5.342 |\n"
     ]
    }
   ],
   "source": [
    "model.load_state_dict(torch.load('tut6-model.pt'))\n",
    "\n",
    "test_loss = evaluate(model, test_iterator, criterion)\n",
    "\n",
    "print(f'| Test Loss: {test_loss:.3f} | Test PPL: {math.exp(test_loss):7.3f} |')"
   ]
  },
  {
   "cell_type": "markdown",
   "id": "189d0f42",
   "metadata": {
    "papermill": {
     "duration": 0.05407,
     "end_time": "2021-11-14T19:09:31.422519",
     "exception": false,
     "start_time": "2021-11-14T19:09:31.368449",
     "status": "completed"
    },
    "tags": []
   },
   "source": [
    "## Inference"
   ]
  },
  {
   "cell_type": "code",
   "execution_count": 31,
   "id": "94fb16fd",
   "metadata": {
    "execution": {
     "iopub.execute_input": "2021-11-14T19:09:31.542042Z",
     "iopub.status.busy": "2021-11-14T19:09:31.538689Z",
     "iopub.status.idle": "2021-11-14T19:09:31.545141Z",
     "shell.execute_reply": "2021-11-14T19:09:31.544414Z",
     "shell.execute_reply.started": "2021-11-14T19:01:42.128020Z"
    },
    "papermill": {
     "duration": 0.068477,
     "end_time": "2021-11-14T19:09:31.545251",
     "exception": false,
     "start_time": "2021-11-14T19:09:31.476774",
     "status": "completed"
    },
    "tags": []
   },
   "outputs": [],
   "source": [
    "def translate_sentence(sentence, src_field, trg_field, model, device, max_len = 50):\n",
    "    \"\"\"\n",
    "        translate the given `sentence` in src lang to the trg lang.\n",
    "    \n",
    "    :param sentence: the sentence string in src lang\n",
    "    :param src_field: the SRC Field object\n",
    "    :param trg_field: the TRG Field object\n",
    "    :param model: the Seq2Seq model\n",
    "    :param device: gpu or cpu\n",
    "    :param max_len: the maximum length permitted for the trg sentence\n",
    "    \"\"\"\n",
    "    model.eval()\n",
    "    \n",
    "    # Sentence --> tokens\n",
    "    if isinstance(sentence, str):\n",
    "        nlp = spacy.load('de_core_news_sm')\n",
    "        tokens = [token.text.lower() for token in nlp(sentence)]\n",
    "    else:\n",
    "        tokens = [token.lower() for token in sentence]\n",
    "        \n",
    "    # adding <sos> and <eos>\n",
    "    tokens = [src_field.init_token] + tokens + [src_field.eos_token]\n",
    "    \n",
    "    # Tokens --> list of indices, acc. to SRC vocab \n",
    "    src_indexes = [src_field.vocab.stoi[token] for token in tokens]\n",
    "\n",
    "    src_tensor = torch.LongTensor(src_indexes).unsqueeze(0).to(device)\n",
    "    # src_tensor.shape => (1, src_len), where 1 = batch_size\n",
    "    \n",
    "    src_mask = model.make_src_mask(src_tensor)\n",
    "    # src_mask.shape => (batch_size = 1, 1, 1 ,src_len)\n",
    "    \n",
    "    with torch.no_grad():\n",
    "        enc_src = model.encoder(src_tensor, src_mask)\n",
    "\n",
    "    trg_indexes = [trg_field.vocab.stoi[trg_field.init_token]]\n",
    "\n",
    "    for i in range(max_len):\n",
    "\n",
    "        trg_tensor = torch.LongTensor(trg_indexes).unsqueeze(0).to(device)\n",
    "        # trg_tensor.shape => (1, `i+1`)\n",
    "        \n",
    "        trg_mask = model.make_trg_mask(trg_tensor)\n",
    "        # trg_mask.shape => (batch_size = 1, 1, `i+1`, `i+1`)\n",
    "        \n",
    "        with torch.no_grad():\n",
    "            output, attention = model.decoder(trg_tensor, enc_src, trg_mask, src_mask)\n",
    "            # output.shape => (batch_size = 1, `i+1`, output_dim)\n",
    "            # attention.shape => (batch_size = 1, n_heads, `i+1`, src_len)\n",
    "        \n",
    "        pred_token = output.argmax(2)[:,-1].item()\n",
    "        # output.shape => (batch_size, trg_len so far = `i + 1` , hid_dim)\n",
    "        # argmax on 2nd dimension\n",
    "        # o/p = max prob. token for each token\n",
    "        # i.e j = 0th pos to .... to j = ith pos\n",
    "        # but we just want the last token, to feed in, for the next iteration\n",
    "        \n",
    "        trg_indexes.append(pred_token)\n",
    "\n",
    "        if pred_token == trg_field.vocab.stoi[trg_field.eos_token]:\n",
    "            break\n",
    "    \n",
    "    trg_tokens = [trg_field.vocab.itos[i] for i in trg_indexes]\n",
    "    \n",
    "    return trg_tokens[1:], attention\n"
   ]
  },
  {
   "cell_type": "code",
   "execution_count": 32,
   "id": "a4ee61d9",
   "metadata": {
    "execution": {
     "iopub.execute_input": "2021-11-14T19:09:31.661084Z",
     "iopub.status.busy": "2021-11-14T19:09:31.659436Z",
     "iopub.status.idle": "2021-11-14T19:09:31.661683Z",
     "shell.execute_reply": "2021-11-14T19:09:31.662115Z",
     "shell.execute_reply.started": "2021-11-14T19:02:51.061592Z"
    },
    "papermill": {
     "duration": 0.063622,
     "end_time": "2021-11-14T19:09:31.662256",
     "exception": false,
     "start_time": "2021-11-14T19:09:31.598634",
     "status": "completed"
    },
    "tags": []
   },
   "outputs": [],
   "source": [
    "def display_attention(sentence, translation, attention, n_heads = 8, n_rows = 4, n_cols = 2):\n",
    "    \n",
    "    assert n_rows * n_cols == n_heads\n",
    "    \n",
    "    fig = plt.figure(figsize=(15,25))\n",
    "    \n",
    "    for i in range(n_heads):\n",
    "        \n",
    "        ax = fig.add_subplot(n_rows, n_cols, i+1)\n",
    "        \n",
    "        _attention = attention.squeeze(0)[i].cpu().detach().numpy()\n",
    "\n",
    "        cax = ax.matshow(_attention, cmap='bone')\n",
    "\n",
    "        ax.tick_params(labelsize=12)\n",
    "        ax.set_xticklabels(['']+['<sos>']+[t.lower() for t in sentence]+['<eos>'], \n",
    "                           rotation=45)\n",
    "        ax.set_yticklabels(['']+translation)\n",
    "\n",
    "        ax.xaxis.set_major_locator(ticker.MultipleLocator(1))\n",
    "        ax.yaxis.set_major_locator(ticker.MultipleLocator(1))\n",
    "\n",
    "    plt.show()\n",
    "    plt.close()"
   ]
  },
  {
   "cell_type": "code",
   "execution_count": 33,
   "id": "e72a0ee4",
   "metadata": {
    "execution": {
     "iopub.execute_input": "2021-11-14T19:09:31.775547Z",
     "iopub.status.busy": "2021-11-14T19:09:31.774863Z",
     "iopub.status.idle": "2021-11-14T19:09:31.778148Z",
     "shell.execute_reply": "2021-11-14T19:09:31.778743Z",
     "shell.execute_reply.started": "2021-11-14T19:02:58.306618Z"
    },
    "papermill": {
     "duration": 0.063282,
     "end_time": "2021-11-14T19:09:31.778924",
     "exception": false,
     "start_time": "2021-11-14T19:09:31.715642",
     "status": "completed"
    },
    "tags": []
   },
   "outputs": [
    {
     "name": "stdout",
     "output_type": "stream",
     "text": [
      "src = ['eine', 'frau', 'mit', 'einer', 'großen', 'geldbörse', 'geht', 'an', 'einem', 'tor', 'vorbei', '.']\n",
      "trg = ['a', 'woman', 'with', 'a', 'large', 'purse', 'is', 'walking', 'by', 'a', 'gate', '.']\n"
     ]
    }
   ],
   "source": [
    "example_idx = 8\n",
    "\n",
    "src = vars(train_data.examples[example_idx])['src']\n",
    "trg = vars(train_data.examples[example_idx])['trg']\n",
    "\n",
    "print(f'src = {src}')\n",
    "print(f'trg = {trg}')"
   ]
  },
  {
   "cell_type": "code",
   "execution_count": 34,
   "id": "c04d1c68",
   "metadata": {
    "execution": {
     "iopub.execute_input": "2021-11-14T19:09:31.892971Z",
     "iopub.status.busy": "2021-11-14T19:09:31.892021Z",
     "iopub.status.idle": "2021-11-14T19:09:31.946835Z",
     "shell.execute_reply": "2021-11-14T19:09:31.946192Z",
     "shell.execute_reply.started": "2021-11-14T19:03:03.627222Z"
    },
    "papermill": {
     "duration": 0.113996,
     "end_time": "2021-11-14T19:09:31.947025",
     "exception": false,
     "start_time": "2021-11-14T19:09:31.833029",
     "status": "completed"
    },
    "tags": []
   },
   "outputs": [
    {
     "name": "stdout",
     "output_type": "stream",
     "text": [
      "predicted trg = ['a', 'woman', 'with', 'a', 'large', 'purse', 'walks', 'by', 'a', 'gate', '.', '<eos>']\n"
     ]
    }
   ],
   "source": [
    "translation, attention = translate_sentence(src, SRC, TRG, model, device)\n",
    "\n",
    "print(f'predicted trg = {translation}')"
   ]
  },
  {
   "cell_type": "code",
   "execution_count": 35,
   "id": "d259bdc0",
   "metadata": {
    "execution": {
     "iopub.execute_input": "2021-11-14T19:09:32.088059Z",
     "iopub.status.busy": "2021-11-14T19:09:32.079710Z",
     "iopub.status.idle": "2021-11-14T19:09:34.116012Z",
     "shell.execute_reply": "2021-11-14T19:09:34.116442Z",
     "shell.execute_reply.started": "2021-11-14T19:03:13.642889Z"
    },
    "papermill": {
     "duration": 2.11078,
     "end_time": "2021-11-14T19:09:34.116589",
     "exception": false,
     "start_time": "2021-11-14T19:09:32.005809",
     "status": "completed"
    },
    "tags": []
   },
   "outputs": [
    {
     "data": {
      "image/png": "[encoded data removed]",
      "text/plain": [
       "<Figure size 1080x1800 with 8 Axes>"
      ]
     },
     "metadata": {
      "needs_background": "light"
     },
     "output_type": "display_data"
    }
   ],
   "source": [
    "display_attention(src, translation, attention)"
   ]
  },
  {
   "cell_type": "code",
   "execution_count": 36,
   "id": "70ab0977",
   "metadata": {
    "execution": {
     "iopub.execute_input": "2021-11-14T19:09:34.233595Z",
     "iopub.status.busy": "2021-11-14T19:09:34.233064Z",
     "iopub.status.idle": "2021-11-14T19:09:34.237404Z",
     "shell.execute_reply": "2021-11-14T19:09:34.236949Z",
     "shell.execute_reply.started": "2021-11-14T19:03:24.769871Z"
    },
    "papermill": {
     "duration": 0.065014,
     "end_time": "2021-11-14T19:09:34.237510",
     "exception": false,
     "start_time": "2021-11-14T19:09:34.172496",
     "status": "completed"
    },
    "tags": []
   },
   "outputs": [
    {
     "name": "stdout",
     "output_type": "stream",
     "text": [
      "src = ['ein', 'brauner', 'hund', 'rennt', 'dem', 'schwarzen', 'hund', 'hinterher', '.']\n",
      "trg = ['a', 'brown', 'dog', 'is', 'running', 'after', 'the', 'black', 'dog', '.']\n"
     ]
    }
   ],
   "source": [
    "example_idx = 6\n",
    "\n",
    "src = vars(valid_data.examples[example_idx])['src']\n",
    "trg = vars(valid_data.examples[example_idx])['trg']\n",
    "\n",
    "print(f'src = {src}')\n",
    "print(f'trg = {trg}')"
   ]
  },
  {
   "cell_type": "code",
   "execution_count": 37,
   "id": "ba5d1f40",
   "metadata": {
    "execution": {
     "iopub.execute_input": "2021-11-14T19:09:34.353922Z",
     "iopub.status.busy": "2021-11-14T19:09:34.353109Z",
     "iopub.status.idle": "2021-11-14T19:09:34.390161Z",
     "shell.execute_reply": "2021-11-14T19:09:34.390590Z",
     "shell.execute_reply.started": "2021-11-14T19:03:33.227701Z"
    },
    "papermill": {
     "duration": 0.097654,
     "end_time": "2021-11-14T19:09:34.390723",
     "exception": false,
     "start_time": "2021-11-14T19:09:34.293069",
     "status": "completed"
    },
    "tags": []
   },
   "outputs": [
    {
     "name": "stdout",
     "output_type": "stream",
     "text": [
      "predicted trg = ['a', 'brown', 'dog', 'running', 'after', 'the', 'black', 'dog', '.', '<eos>']\n"
     ]
    }
   ],
   "source": [
    "translation, attention = translate_sentence(src, SRC, TRG, model, device)\n",
    "\n",
    "print(f'predicted trg = {translation}')"
   ]
  },
  {
   "cell_type": "code",
   "execution_count": 38,
   "id": "fc976d3c",
   "metadata": {
    "execution": {
     "iopub.execute_input": "2021-11-14T19:09:34.525824Z",
     "iopub.status.busy": "2021-11-14T19:09:34.521553Z",
     "iopub.status.idle": "2021-11-14T19:09:36.224435Z",
     "shell.execute_reply": "2021-11-14T19:09:36.223828Z",
     "shell.execute_reply.started": "2021-11-14T19:03:45.249423Z"
    },
    "papermill": {
     "duration": 1.776903,
     "end_time": "2021-11-14T19:09:36.224583",
     "exception": false,
     "start_time": "2021-11-14T19:09:34.447680",
     "status": "completed"
    },
    "tags": []
   },
   "outputs": [
    {
     "data": {
      "image/png": "[encoded data removed]",
      "text/plain": [
       "<Figure size 1080x1800 with 8 Axes>"
      ]
     },
     "metadata": {
      "needs_background": "light"
     },
     "output_type": "display_data"
    }
   ],
   "source": [
    "display_attention(src, translation, attention)"
   ]
  },
  {
   "cell_type": "markdown",
   "id": "ad0af776",
   "metadata": {
    "papermill": {
     "duration": 0.061687,
     "end_time": "2021-11-14T19:09:36.345722",
     "exception": false,
     "start_time": "2021-11-14T19:09:36.284035",
     "status": "completed"
    },
    "tags": []
   },
   "source": [
    "## BLEU Score"
   ]
  },
  {
   "cell_type": "code",
   "execution_count": 39,
   "id": "44fc935a",
   "metadata": {
    "execution": {
     "iopub.execute_input": "2021-11-14T19:09:36.469180Z",
     "iopub.status.busy": "2021-11-14T19:09:36.468379Z",
     "iopub.status.idle": "2021-11-14T19:09:36.470359Z",
     "shell.execute_reply": "2021-11-14T19:09:36.470734Z",
     "shell.execute_reply.started": "2021-11-14T19:04:08.612600Z"
    },
    "papermill": {
     "duration": 0.067212,
     "end_time": "2021-11-14T19:09:36.470863",
     "exception": false,
     "start_time": "2021-11-14T19:09:36.403651",
     "status": "completed"
    },
    "tags": []
   },
   "outputs": [],
   "source": [
    "from torchtext.data.metrics import bleu_score\n",
    "\n",
    "def calculate_bleu(data, src_field, trg_field, model, device, max_len = 50):\n",
    "    \n",
    "    trgs = []\n",
    "    pred_trgs = []\n",
    "    \n",
    "    for datum in data:\n",
    "        \n",
    "        src = vars(datum)['src']\n",
    "        trg = vars(datum)['trg']\n",
    "        \n",
    "        pred_trg, _ = translate_sentence(src, src_field, trg_field, model, device, max_len)\n",
    "        \n",
    "        #cut off <eos> token\n",
    "        pred_trg = pred_trg[:-1]\n",
    "        \n",
    "        pred_trgs.append(pred_trg)\n",
    "        trgs.append([trg])\n",
    "        \n",
    "    return bleu_score(pred_trgs, trgs)"
   ]
  },
  {
   "cell_type": "code",
   "execution_count": 40,
   "id": "374d558f",
   "metadata": {
    "execution": {
     "iopub.execute_input": "2021-11-14T19:09:36.592492Z",
     "iopub.status.busy": "2021-11-14T19:09:36.591688Z",
     "iopub.status.idle": "2021-11-14T19:10:24.623497Z",
     "shell.execute_reply": "2021-11-14T19:10:24.623991Z",
     "shell.execute_reply.started": "2021-11-14T19:04:14.214115Z"
    },
    "papermill": {
     "duration": 48.094878,
     "end_time": "2021-11-14T19:10:24.624165",
     "exception": false,
     "start_time": "2021-11-14T19:09:36.529287",
     "status": "completed"
    },
    "tags": []
   },
   "outputs": [
    {
     "name": "stdout",
     "output_type": "stream",
     "text": [
      "BLEU score = 35.85\n"
     ]
    }
   ],
   "source": [
    "bleu_score = calculate_bleu(test_data, SRC, TRG, model, device)\n",
    "\n",
    "print(f'BLEU score = {bleu_score*100:.2f}')"
   ]
  },
  {
   "cell_type": "code",
   "execution_count": null,
   "id": "498e21c5",
   "metadata": {
    "papermill": {
     "duration": 0.058122,
     "end_time": "2021-11-14T19:10:24.740748",
     "exception": false,
     "start_time": "2021-11-14T19:10:24.682626",
     "status": "completed"
    },
    "tags": []
   },
   "outputs": [],
   "source": []
  }
 ],
 "metadata": {
  "kernelspec": {
   "display_name": "Python 3",
   "language": "python",
   "name": "python3"
  },
  "language_info": {
   "codemirror_mode": {
    "name": "ipython",
    "version": 3
   },
   "file_extension": ".py",
   "mimetype": "text/x-python",
   "name": "python",
   "nbconvert_exporter": "python",
   "pygments_lexer": "ipython3",
   "version": "3.7.10"
  },
  "papermill": {
   "default_parameters": {},
   "duration": 357.521345,
   "end_time": "2021-11-14T19:10:27.799783",
   "environment_variables": {},
   "exception": null,
   "input_path": "__notebook__.ipynb",
   "output_path": "__notebook__.ipynb",
   "parameters": {},
   "start_time": "2021-11-14T19:04:30.278438",
   "version": "2.3.3"
  }
 },
 "nbformat": 4,
 "nbformat_minor": 5
}
