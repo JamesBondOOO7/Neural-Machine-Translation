{
 "metadata": {
  "language_info": {
   "codemirror_mode": {
    "name": "ipython",
    "version": 3
   },
   "file_extension": ".py",
   "mimetype": "text/x-python",
   "name": "python",
   "nbconvert_exporter": "python",
   "pygments_lexer": "ipython3",
   "version": "3.8.8"
  },
  "orig_nbformat": 4,
  "kernelspec": {
   "name": "python3",
   "display_name": "Python 3.8.8 64-bit ('base': conda)"
  },
  "interpreter": {
   "hash": "7f823b78ed0654d963332bcb8ecaeb61de54873b53bc0aca39cd1bc8869c409d"
  }
 },
 "nbformat": 4,
 "nbformat_minor": 2,
 "cells": [
  {
   "cell_type": "code",
   "execution_count": 1,
   "metadata": {},
   "outputs": [],
   "source": [
    "import pandas as pd"
   ]
  },
  {
   "cell_type": "code",
   "execution_count": 2,
   "metadata": {},
   "outputs": [
    {
     "output_type": "execute_result",
     "data": {
      "text/plain": [
       "                                       English_Sents\n",
       "0  Two young, White males are outside near many b...\n",
       "1  Several men in hard hats are operating a giant...\n",
       "2  A little girl climbing into a wooden playhouse.\\n\n",
       "3  A man in a blue shirt is standing on a ladder ...\n",
       "4         Two men are at the stove preparing food.\\n"
      ],
      "text/html": "<div>\n<style scoped>\n    .dataframe tbody tr th:only-of-type {\n        vertical-align: middle;\n    }\n\n    .dataframe tbody tr th {\n        vertical-align: top;\n    }\n\n    .dataframe thead th {\n        text-align: right;\n    }\n</style>\n<table border=\"1\" class=\"dataframe\">\n  <thead>\n    <tr style=\"text-align: right;\">\n      <th></th>\n      <th>English_Sents</th>\n    </tr>\n  </thead>\n  <tbody>\n    <tr>\n      <th>0</th>\n      <td>Two young, White males are outside near many b...</td>\n    </tr>\n    <tr>\n      <th>1</th>\n      <td>Several men in hard hats are operating a giant...</td>\n    </tr>\n    <tr>\n      <th>2</th>\n      <td>A little girl climbing into a wooden playhouse.\\n</td>\n    </tr>\n    <tr>\n      <th>3</th>\n      <td>A man in a blue shirt is standing on a ladder ...</td>\n    </tr>\n    <tr>\n      <th>4</th>\n      <td>Two men are at the stove preparing food.\\n</td>\n    </tr>\n  </tbody>\n</table>\n</div>"
     },
     "metadata": {},
     "execution_count": 2
    }
   ],
   "source": [
    "df_eng = pd.read_csv(r\"C:\\Users\\manan\\PycharmProjects\\Advanced Deep Learning\\Encoder Decoder\\input\\English_sents.csv\")\n",
    "df_eng.head()"
   ]
  },
  {
   "cell_type": "code",
   "execution_count": 3,
   "metadata": {},
   "outputs": [
    {
     "output_type": "execute_result",
     "data": {
      "text/plain": [
       "                                        German_Sents\n",
       "0  Zwei junge weiße Männer sind im Freien in der ...\n",
       "1  Mehrere Männer mit Schutzhelmen bedienen ein A...\n",
       "2  Ein kleines Mädchen klettert in ein Spielhaus ...\n",
       "3  Ein Mann in einem blauen Hemd steht auf einer ...\n",
       "4  Zwei Männer stehen am Herd und bereiten Essen ..."
      ],
      "text/html": "<div>\n<style scoped>\n    .dataframe tbody tr th:only-of-type {\n        vertical-align: middle;\n    }\n\n    .dataframe tbody tr th {\n        vertical-align: top;\n    }\n\n    .dataframe thead th {\n        text-align: right;\n    }\n</style>\n<table border=\"1\" class=\"dataframe\">\n  <thead>\n    <tr style=\"text-align: right;\">\n      <th></th>\n      <th>German_Sents</th>\n    </tr>\n  </thead>\n  <tbody>\n    <tr>\n      <th>0</th>\n      <td>Zwei junge weiße Männer sind im Freien in der ...</td>\n    </tr>\n    <tr>\n      <th>1</th>\n      <td>Mehrere Männer mit Schutzhelmen bedienen ein A...</td>\n    </tr>\n    <tr>\n      <th>2</th>\n      <td>Ein kleines Mädchen klettert in ein Spielhaus ...</td>\n    </tr>\n    <tr>\n      <th>3</th>\n      <td>Ein Mann in einem blauen Hemd steht auf einer ...</td>\n    </tr>\n    <tr>\n      <th>4</th>\n      <td>Zwei Männer stehen am Herd und bereiten Essen ...</td>\n    </tr>\n  </tbody>\n</table>\n</div>"
     },
     "metadata": {},
     "execution_count": 3
    }
   ],
   "source": [
    "df_ger = pd.read_csv(r\"C:\\Users\\manan\\PycharmProjects\\Advanced Deep Learning\\Encoder Decoder\\input\\German_sents.csv\")\n",
    "df_ger.head()"
   ]
  },
  {
   "cell_type": "code",
   "execution_count": 6,
   "metadata": {},
   "outputs": [
    {
     "output_type": "execute_result",
     "data": {
      "text/plain": [
       "['Two', 'men', 'are', 'at', 'the', 'stove', 'preparing', 'food.']"
      ]
     },
     "metadata": {},
     "execution_count": 6
    }
   ],
   "source": [
    "df_eng.loc[4][0].split()"
   ]
  },
  {
   "cell_type": "code",
   "execution_count": 7,
   "metadata": {},
   "outputs": [
    {
     "output_type": "execute_result",
     "data": {
      "text/plain": [
       "['Zwei', 'Männer', 'stehen', 'am', 'Herd', 'und', 'bereiten', 'Essen', 'zu.']"
      ]
     },
     "metadata": {},
     "execution_count": 7
    }
   ],
   "source": [
    "df_ger.loc[4][0].split()"
   ]
  },
  {
   "cell_type": "code",
   "execution_count": 8,
   "metadata": {},
   "outputs": [
    {
     "output_type": "execute_result",
     "data": {
      "text/plain": [
       "                                              German  \\\n",
       "0  Zwei junge weiße Männer sind im Freien in der ...   \n",
       "1  Mehrere Männer mit Schutzhelmen bedienen ein A...   \n",
       "2  Ein kleines Mädchen klettert in ein Spielhaus ...   \n",
       "3  Ein Mann in einem blauen Hemd steht auf einer ...   \n",
       "4  Zwei Männer stehen am Herd und bereiten Essen ...   \n",
       "\n",
       "                                             English  \n",
       "0  Two young, White males are outside near many b...  \n",
       "1  Several men in hard hats are operating a giant...  \n",
       "2  A little girl climbing into a wooden playhouse.\\n  \n",
       "3  A man in a blue shirt is standing on a ladder ...  \n",
       "4         Two men are at the stove preparing food.\\n  "
      ],
      "text/html": "<div>\n<style scoped>\n    .dataframe tbody tr th:only-of-type {\n        vertical-align: middle;\n    }\n\n    .dataframe tbody tr th {\n        vertical-align: top;\n    }\n\n    .dataframe thead th {\n        text-align: right;\n    }\n</style>\n<table border=\"1\" class=\"dataframe\">\n  <thead>\n    <tr style=\"text-align: right;\">\n      <th></th>\n      <th>German</th>\n      <th>English</th>\n    </tr>\n  </thead>\n  <tbody>\n    <tr>\n      <th>0</th>\n      <td>Zwei junge weiße Männer sind im Freien in der ...</td>\n      <td>Two young, White males are outside near many b...</td>\n    </tr>\n    <tr>\n      <th>1</th>\n      <td>Mehrere Männer mit Schutzhelmen bedienen ein A...</td>\n      <td>Several men in hard hats are operating a giant...</td>\n    </tr>\n    <tr>\n      <th>2</th>\n      <td>Ein kleines Mädchen klettert in ein Spielhaus ...</td>\n      <td>A little girl climbing into a wooden playhouse.\\n</td>\n    </tr>\n    <tr>\n      <th>3</th>\n      <td>Ein Mann in einem blauen Hemd steht auf einer ...</td>\n      <td>A man in a blue shirt is standing on a ladder ...</td>\n    </tr>\n    <tr>\n      <th>4</th>\n      <td>Zwei Männer stehen am Herd und bereiten Essen ...</td>\n      <td>Two men are at the stove preparing food.\\n</td>\n    </tr>\n  </tbody>\n</table>\n</div>"
     },
     "metadata": {},
     "execution_count": 8
    }
   ],
   "source": [
    "df = pd.read_csv(r\"C:\\Users\\manan\\PycharmProjects\\Advanced Deep Learning\\Encoder Decoder\\input\\dataset.csv\")\n",
    "df.head()"
   ]
  },
  {
   "cell_type": "code",
   "execution_count": null,
   "metadata": {},
   "outputs": [],
   "source": []
  }
 ]
}